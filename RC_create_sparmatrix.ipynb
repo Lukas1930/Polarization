{
 "cells": [
  {
   "cell_type": "code",
   "execution_count": 72,
   "metadata": {},
   "outputs": [],
   "source": [
    "import pandas as pd\n",
    "import numpy as np\n",
    "import utils\n",
    "from scipy.sparse import csr_matrix"
   ]
  },
  {
   "cell_type": "code",
   "execution_count": 73,
   "metadata": {},
   "outputs": [],
   "source": [
    "name = \"H113\"\n",
    "\n",
    "members = pd.read_csv(f\"data/USA/Raw/{name}_members.csv\")\n",
    "votes = pd.read_csv(f\"data/USA/Raw/{name}_votes.csv\")\n",
    "\n",
    "\n",
    "members['icpsr'] = members['icpsr'].astype('Int64')\n",
    "votes['icpsr'] = votes['icpsr'].astype('Int64')\n",
    "\n",
    "merged_118 = votes.merge(members, on='icpsr')\n",
    "merged_118 = merged_118[[\"icpsr\", \"state_abbrev\", \"party_code\", \"cast_code\", \"rollnumber\", \"nominate_dim1\", \"nominate_dim2\"]]\n",
    "merged_118[\"cast_code\"] = merged_118[\"cast_code\"].apply(lambda x: 1 if 1 <= x <= 3 else (2 if 4 <= x <= 6 else x))\n",
    "merged_118 = merged_118.drop(merged_118[merged_118[\"cast_code\"]== 7].index)\n",
    "merged_118 = merged_118.drop(merged_118[merged_118[\"cast_code\"]== 9].index)\n",
    "\n",
    "merged_118.to_csv(f\"data/USA/Filtered/{name}_filtered.csv\")\n",
    "\n",
    "USA_data = merged_118"
   ]
  },
  {
   "cell_type": "code",
   "execution_count": 74,
   "metadata": {},
   "outputs": [],
   "source": [
    "US_PA,US_PAV,US_PAVP,US_PP = utils.dict_create(USA_data,'icpsr','party_code','rollnumber','cast_code')"
   ]
  },
  {
   "cell_type": "code",
   "execution_count": 75,
   "metadata": {},
   "outputs": [],
   "source": [
    "\n",
    "\n",
    "# Step 1: Extract unique people (rows) and bills (columns)\n",
    "people = list(US_PAV.keys())  # List of people\n",
    "votes = set()  # Store the distinct votes/bills\n",
    "\n",
    "for voted_bills in US_PAV.values():\n",
    "    for bill, _ in voted_bills:\n",
    "        votes.add(bill)\n",
    "\n",
    "votes = sorted(votes)  # Sort bills to ensure consistent column order\n",
    "vote_to_index = {vote: idx for idx, vote in enumerate(votes)}  # Mapping from bill to column index\n",
    "\n",
    "# Step 2: Construct the data for the sparse matrix\n",
    "data = []\n",
    "row_indices = []\n",
    "col_indices = []\n",
    "\n",
    "for person, voted_bills in US_PAV.items():\n",
    "    for bill, vote in voted_bills:  # Iterate over list of (bill, vote) pairs\n",
    "        if vote == 1:\n",
    "            value = 1  # Vote 1 → 0\n",
    "        elif vote == 2:\n",
    "            value = 2  # Vote 2 → 1\n",
    "        else:\n",
    "            continue  # Skip other votes\n",
    "\n",
    "        row_indices.append(people.index(person))  # Person's row index\n",
    "        col_indices.append(vote_to_index[bill])  # Bill's column index\n",
    "        data.append(value)  # Store transformed vote value\n",
    "\n",
    "# Step 3: Create the sparse matrix (CSR format)\n",
    "num_people_us = len(US_PAV)  # Number of people\n",
    "num_votes_us = len(votes)  # Number of bills\n",
    "sparse_matrix_us = csr_matrix((data, (row_indices, col_indices)), shape=(num_people_us, num_votes_us))\n"
   ]
  },
  {
   "cell_type": "code",
   "execution_count": 76,
   "metadata": {},
   "outputs": [],
   "source": [
    "np.savetxt(f\"data/USA/Sparsematrix/{name}_sparse_matrix.csv\", sparse_matrix_us.toarray(), delimiter=\",\", fmt=\"%d\")"
   ]
  }
 ],
 "metadata": {
  "kernelspec": {
   "display_name": "base",
   "language": "python",
   "name": "python3"
  },
  "language_info": {
   "codemirror_mode": {
    "name": "ipython",
    "version": 3
   },
   "file_extension": ".py",
   "mimetype": "text/x-python",
   "name": "python",
   "nbconvert_exporter": "python",
   "pygments_lexer": "ipython3",
   "version": "3.11.7"
  }
 },
 "nbformat": 4,
 "nbformat_minor": 2
}
