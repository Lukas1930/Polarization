{
 "cells": [
  {
   "cell_type": "code",
   "execution_count": 14,
   "metadata": {},
   "outputs": [],
   "source": [
    "import pandas as pd\n",
    "import matplotlib.pyplot as plt\n",
    "import seaborn as sns\n",
    "import networkx as nx\n",
    "import os\n",
    "from matplotlib.colors import ListedColormap, Normalize\n",
    "import numpy as np"
   ]
  },
  {
   "cell_type": "markdown",
   "metadata": {},
   "source": [
    "## USA Statistics Per Party"
   ]
  },
  {
   "cell_type": "code",
   "execution_count": 18,
   "metadata": {},
   "outputs": [],
   "source": [
    "congresses =  ['095', '096', '097','098', '099', '100', '101', '102', '103','104',\n",
    "               '105', '106', '107','108', '109', '110', '111', '112','113', '114',\n",
    "               '115', '116','117','118'] \n",
    "\n",
    "input_folder = \"Data/USA/Filtered\"\n",
    "output_folder = \"Images/heatmaps_party_agreement_USA\"\n",
    "os.makedirs(output_folder, exist_ok=True)\n",
    "\n",
    "for congress in congresses:\n",
    "    file_path = f\"{input_folder}/H{congress}_filtered_USA_votes.csv\"\n",
    "    df = pd.read_csv(file_path)\n",
    "\n",
    "    # Only keep 'yes' and 'no' votes from two main parties\n",
    "    df = df[df[\"cast_code\"].isin([1, 2])]\n",
    "    df = df[df[\"party_code\"].isin([100, 200])]\n",
    "\n",
    "    vote_counts = df.groupby([\"party_code\", \"rollnumber\", \"cast_code\"]).size().unstack(fill_value=0)\n",
    "    vote_counts.columns = [\"no_votes\", \"yes_votes\"]\n",
    "    vote_counts[\"total_votes\"] = vote_counts[\"no_votes\"] + vote_counts[\"yes_votes\"]\n",
    "    vote_counts[\"agreement_rate\"] = vote_counts[[\"no_votes\", \"yes_votes\"]].max(axis=1) / vote_counts[\"total_votes\"]\n",
    "\n",
    "    pivot_data = vote_counts.reset_index().pivot_table(\n",
    "        index=\"rollnumber\", columns=\"party_code\", values=\"agreement_rate\", fill_value=0\n",
    "    )\n",
    "\n",
    "    # Create a masked array to handle zeros\n",
    "    masked_data = pivot_data.copy()\n",
    "    mask = masked_data == 0\n",
    "\n",
    "    # Create a colormap where values == 0 appear black\n",
    "    cmap = sns.color_palette(\"coolwarm\", as_cmap=True)\n",
    "    cmap = cmap(np.linspace(0, 1, 256))\n",
    "    cmap[0] = [0, 0, 0, 1]  # Set the first (lowest) color to black\n",
    "    custom_cmap = ListedColormap(cmap)\n",
    "\n",
    "    # Normalize the data, ensuring 0 maps to index 0 in colormap\n",
    "    from matplotlib.colors import Normalize\n",
    "    norm = Normalize(vmin=0, vmax=1)\n",
    "\n",
    "    # Plot and save\n",
    "    plt.figure(figsize=(12, 6))\n",
    "    sns.heatmap(pivot_data, cmap=custom_cmap, norm=norm, cbar=True)\n",
    "    plt.title(f\"Party Agreement Rate by Roll Call – {congress}th Congress\")\n",
    "    plt.xlabel(\"Party Code\")\n",
    "    plt.ylabel(\"Roll Number\")\n",
    "\n",
    "    output_path = os.path.join(output_folder, f\"agreement_heatmap_congress{congress}.png\")\n",
    "    plt.savefig(output_path, bbox_inches='tight')\n",
    "    plt.close()"
   ]
  },
  {
   "cell_type": "markdown",
   "metadata": {},
   "source": [
    "## Danish Statistics Per Party"
   ]
  },
  {
   "cell_type": "code",
   "execution_count": 17,
   "metadata": {},
   "outputs": [],
   "source": [
    "congresses = ['01_05','05_07','07_11','11_15','15_19','19_22']\n",
    "input_folder = \"Data/Denmark/Raw\"\n",
    "output_folder = \"Images/heatmaps_party_agreement_danish\"\n",
    "os.makedirs(output_folder, exist_ok=True)\n",
    "\n",
    "for congress in congresses:\n",
    "    input_votes = f\"{input_folder}/P{congress}_DK.csv\"\n",
    "    df = pd.read_csv(input_votes)\n",
    "\n",
    "    # Filter only Yes (1) and No (2) votes\n",
    "    df = df[df[\"typeid_x\"].isin([1, 2])]\n",
    "\n",
    "    # Group and count votes\n",
    "    vote_counts = df.groupby([\"party\", \"afstemningid\", \"typeid_x\"]).size().unstack(fill_value=0)\n",
    "\n",
    "    # Rename columns\n",
    "    vote_counts.columns = [\"no_votes\", \"yes_votes\"]\n",
    "\n",
    "    # Calculate totals and agreement rates\n",
    "    vote_counts[\"total_votes\"] = vote_counts[\"no_votes\"] + vote_counts[\"yes_votes\"]\n",
    "    vote_counts[\"agreement_rate\"] = vote_counts[[\"no_votes\", \"yes_votes\"]].max(axis=1) / vote_counts[\"total_votes\"]\n",
    "\n",
    "    # Pivot data for heatmap\n",
    "    pivot_data = vote_counts.reset_index().pivot_table(\n",
    "        index=\"afstemningid\", columns=\"party\", values=\"agreement_rate\", fill_value=0\n",
    "    )\n",
    "\n",
    "    # Create a custom colormap: 0 values -> black, rest -> coolwarm\n",
    "    base_cmap = sns.color_palette(\"coolwarm\", as_cmap=True)\n",
    "    base_array = base_cmap(np.linspace(0, 1, 256))\n",
    "    base_array[0] = [0, 0, 0, 1]  # Set first color (0) to black\n",
    "    custom_cmap = ListedColormap(base_array)\n",
    "\n",
    "    norm = Normalize(vmin=0, vmax=1)\n",
    "\n",
    "    # Plot and save\n",
    "    plt.figure(figsize=(12, 6))\n",
    "    sns.heatmap(pivot_data, cmap=custom_cmap, norm=norm, cbar=True)\n",
    "    plt.title(f\"Party Agreement Rate by Roll Call – Denmark {congress}\")\n",
    "    plt.xlabel(\"Party\")\n",
    "    plt.ylabel(\"Roll Number\")\n",
    "\n",
    "    output_path = os.path.join(output_folder, f\"agreement_heatmap_dk_{congress}.png\")\n",
    "    plt.savefig(output_path, bbox_inches='tight')\n",
    "    plt.close()\n"
   ]
  }
 ],
 "metadata": {
  "kernelspec": {
   "display_name": "polarization",
   "language": "python",
   "name": "python3"
  },
  "language_info": {
   "codemirror_mode": {
    "name": "ipython",
    "version": 3
   },
   "file_extension": ".py",
   "mimetype": "text/x-python",
   "name": "python",
   "nbconvert_exporter": "python",
   "pygments_lexer": "ipython3",
   "version": "3.9.21"
  }
 },
 "nbformat": 4,
 "nbformat_minor": 2
}
