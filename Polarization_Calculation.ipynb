{
 "cells": [
  {
   "cell_type": "code",
   "execution_count": null,
   "metadata": {},
   "outputs": [],
   "source": [
    "import pandas as pd\n",
    "import networkx as nx\n",
    "from modules import ps"
   ]
  },
  {
   "cell_type": "code",
   "execution_count": 3,
   "metadata": {},
   "outputs": [],
   "source": [
    "# Suppress warnings\n",
    "import warnings\n",
    "warnings.simplefilter(action=\"ignore\", category=FutureWarning)"
   ]
  },
  {
   "cell_type": "code",
   "execution_count": 11,
   "metadata": {},
   "outputs": [
    {
     "name": "stdout",
     "output_type": "stream",
     "text": [
      "Component 1: {'127', '15774', '11702', '20747', '57', '18696', '172', '20559', '273', '20388', '18707', '21083', '189', '18720', '20349', '18712', '20496', '145', '141', '74', '130', '214', '19000', '20370', '121', '82', '17629', '20364', '15763', '20373', '18713', '49', '93', '152', '208', '18278', '20820', '213', '173', '252', '235', '97', '15788', '260', '20781', '15770', '20941', '20767', '20360', '134', '20361', '20916', '201', '18722', '20363', '48', '20390', '20358', '154', '19928', '21075', '257', '224', '109', '18725', '219', '18723', '20398', '244', '15776', '20350', '20635', '197', '17628', '217', '15787', '118', '21044', '20798', '99', '238', '220', '20376', '286', '120', '20381', '20372', '20389', '18724', '20415', '20841', '20527', '16728', '18694', '20356', '180', '16503', '17141', '207', '1146', '20966', '110', '20962', '199', '19920', '20355', '20779', '20362', '278', '164', '1845', '20629', '18709', '16582', '18719', '162', '20367', '18693', '12', '178', '168', '80', '182', '20375', '20395', '139', '20391', '20539', '15784', '18704', '20386', '15800', '20925', '20377', '18703', '18729', '18717', '20371', '20380', '18708', '34', '43', '20930', '20382', '20351', '9976', '15760', '20383', '206', '18699', '191', '20642', '18882', '20352', '20397', '265', '667', '20805', '20379', '20392', '18715', '15777', '15779', '20378', '18716', '20366', '18714', '125', '18', '20353', '119', '18695', '20357', '20359', '20369', '138', '102', '20823', '15762', '20580', '16351', '20411', '264', '20365', '20599', '112', '21076', '18700', '18726', '15775', '176', '20394', '20374', '18721', '18701', '266', '18706', '20368', '20385', '20396', '16180', '20354', '20790', '194', '15793', '38', '18718', '17360', '20384', '20917', '20400', '167', '181', '113', '20393', '1454', '20399', '20051', '100', '18711'}\n"
     ]
    }
   ],
   "source": [
    "G = nx.read_edgelist(\"Denmark_edgelist.csv\", delimiter=\",\")\n",
    "\n",
    "num_components = nx.number_connected_components(G)\n",
    "\n",
    "# Get the connected components (as a list of sets of nodes)\n",
    "connected_components = list(nx.connected_components(G))\n",
    "\n",
    "# Print the nodes in each connected component\n",
    "for i, component in enumerate(connected_components, 1):\n",
    "    print(f\"Component {i}: {component}\")"
   ]
  },
  {
   "cell_type": "code",
   "execution_count": 12,
   "metadata": {},
   "outputs": [
    {
     "name": "stdout",
     "output_type": "stream",
     "text": [
      "Weighted edgelist saved to Denmark_edgelist_wpol.csv\n",
      "Polarization score: 0.0\n"
     ]
    }
   ],
   "source": [
    "# Function to assign opinion scores based on voting records\n",
    "def compute_opinion_scores(vote_matrix_path):\n",
    "    df = pd.read_csv(vote_matrix_path, index_col=0)  # Load the voting matrix\n",
    "    opinions = df.mean(axis=1).to_dict()  # Compute average vote per node\n",
    "    return opinions\n",
    "\n",
    "# Function to add weights to edges based on node opinions\n",
    "def add_weights(edge_list_path, opinions):\n",
    "    G = nx.read_edgelist(edge_list_path, delimiter=\",\")  # Load graph\n",
    "\n",
    "    # Set edge weights as the average opinion of connected nodes\n",
    "    edge_weights = {e: (opinions[e[0]] + opinions[e[1]]) / 2 for e in G.edges if e[0] in opinions and e[1] in opinions}\n",
    "    nx.set_edge_attributes(G, edge_weights, name=\"pol\")\n",
    "\n",
    "    # Save updated edgelist with weights\n",
    "    weighted_edge_list_path = edge_list_path.replace(\".csv\", \"_wpol.csv\")\n",
    "    nx.write_edgelist(G, weighted_edge_list_path, delimiter=\",\", data=[\"pol\"])\n",
    "    print(f\"Weighted edgelist saved to {weighted_edge_list_path}\")\n",
    "\n",
    "# Function to compute polarization score\n",
    "def calc_pol(edge_list_path, opinions):\n",
    "    G = nx.read_edgelist(edge_list_path, delimiter=\",\")  # Load graph\n",
    "    o = {node: opinions[node] for node in G.nodes if node in opinions}  # Filter nodes with opinions\n",
    "    return ps.ge(o, {}, G)  # Compute polarization score\n",
    "\n",
    "# Main execution\n",
    "if __name__ == \"__main__\":\n",
    "    edge_list_file = \"Denmark_edgelist.csv\"  # Replace with your actual file\n",
    "    vote_matrix_file = \"sparse_matrix_denmark.csv\"  # Replace with your actual file\n",
    "\n",
    "    opinions = compute_opinion_scores(vote_matrix_file)\n",
    "    add_weights(edge_list_file, opinions)\n",
    "    pol_score = calc_pol(edge_list_file, opinions)\n",
    "\n",
    "    print(f\"Polarization score: {pol_score}\")"
   ]
  }
 ],
 "metadata": {
  "kernelspec": {
   "display_name": "polarization",
   "language": "python",
   "name": "python3"
  },
  "language_info": {
   "codemirror_mode": {
    "name": "ipython",
    "version": 3
   },
   "file_extension": ".py",
   "mimetype": "text/x-python",
   "name": "python",
   "nbconvert_exporter": "python",
   "pygments_lexer": "ipython3",
   "version": "3.9.21"
  }
 },
 "nbformat": 4,
 "nbformat_minor": 2
}
