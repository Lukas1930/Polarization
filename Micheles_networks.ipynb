{
 "cells": [
  {
   "cell_type": "code",
   "execution_count": null,
   "metadata": {},
   "outputs": [
    {
     "name": "stderr",
     "output_type": "stream",
     "text": [
      "c:\\Users\\kubic\\OneDrive\\Dokumenty\\envs\\polarization\\lib\\site-packages\\tqdm\\auto.py:21: TqdmWarning: IProgress not found. Please update jupyter and ipywidgets. See https://ipywidgets.readthedocs.io/en/stable/user_install.html\n",
      "  from .autonotebook import tqdm as notebook_tqdm\n"
     ]
    }
   ],
   "source": [
    "import pandas as pd\n",
    "import networkx as nx\n",
    "from modules import ps\n",
    "import sys\n",
    "\n",
    "import functions\n",
    "\n",
    "import utils\n",
    "import os\n",
    "import matplotlib.pyplot as plt\n",
    "import seaborn as sns\n",
    "from scipy.sparse import csr_matrix\n",
    "from sklearn.decomposition import PCA\n",
    "from sklearn.manifold import MDS\n",
    "import umap\n",
    "import numpy as np\n",
    "from itertools import combinations\n",
    "from scipy.stats import gaussian_kde\n",
    "from matplotlib.lines import Line2D"
   ]
  },
  {
   "cell_type": "code",
   "execution_count": 2,
   "metadata": {},
   "outputs": [],
   "source": [
    "def make_all_edges(df):\n",
    "    df = df.groupby(by = [\"rollnumber\", \"cast_code\"]).apply(lambda x: pd.DataFrame(list(combinations(x[\"icpsr\"], 2)))) # \"combinations\" makes all possible pairs of icpsr codes for every vote value\n",
    "    df.columns = (\"src\", \"trg\")\n",
    "    df = df.groupby(by = [\"src\", \"trg\"]).size().reset_index().rename(columns = {0: \"nij\"})                        # Counts how many times a pair of congressmen appears in df (i.e. they co-voted)\n",
    "    return df\n",
    "\n",
    "def make_pdfs(edges, nodes):\n",
    "    party_lookup = nodes.set_index(\"icpsr\")[\"party_code\"].to_dict()\n",
    "    edges[\"party_src\"] = edges[\"src\"].map(party_lookup)\n",
    "    edges[\"party_trg\"] = edges[\"trg\"].map(party_lookup)\n",
    "    edges[\"same_party\"] = edges[\"party_src\"] == edges[\"party_trg\"]\n",
    "    edges[\"nij\"] /= edges[\"nij\"].max()  # Normalize co-vote counts\n",
    "\n",
    "    sp_pdf = gaussian_kde(edges[edges[\"same_party\"]][\"nij\"])\n",
    "    cp_pdf = gaussian_kde(edges[~edges[\"same_party\"]][\"nij\"])\n",
    "    return edges, sp_pdf, cp_pdf\n",
    "def find_intersection(kde1, kde2, init_interval=0.01, scope=[0.3,1], convergence=0.0001):\n",
    "    x_left, x_right = scope[0], scope[0] + init_interval\n",
    "    while x_right < scope[1]:\n",
    "        left, right = kde1(x_left)[0] - kde2(x_left)[0], kde1(x_right)[0] - kde2(x_right)[0]\n",
    "        if left * right < 0:\n",
    "            if init_interval <= convergence:\n",
    "                return x_right\n",
    "            return find_intersection(kde1, kde2, init_interval / 10, [x_left, x_right])\n",
    "        x_left, x_right = x_right, x_right + init_interval\n",
    "    return scope[0]"
   ]
  },
  {
   "cell_type": "code",
   "execution_count": 3,
   "metadata": {},
   "outputs": [
    {
     "name": "stderr",
     "output_type": "stream",
     "text": [
      "C:\\Users\\kubic\\AppData\\Local\\Temp\\ipykernel_5500\\694759260.py:2: DeprecationWarning: DataFrameGroupBy.apply operated on the grouping columns. This behavior is deprecated, and in a future version of pandas the grouping columns will be excluded from the operation. Either pass `include_groups=False` to exclude the groupings or explicitly select the grouping columns after groupby to silence this warning.\n",
      "  df = df.groupby(by = [\"rollnumber\", \"cast_code\"]).apply(lambda x: pd.DataFrame(list(combinations(x[\"icpsr\"], 2)))) # \"combinations\" makes all possible pairs of icpsr codes for every vote value\n"
     ]
    },
    {
     "name": "stdout",
     "output_type": "stream",
     "text": [
      "Saved: Images/Congress_095_density_plot.png\n"
     ]
    },
    {
     "name": "stderr",
     "output_type": "stream",
     "text": [
      "C:\\Users\\kubic\\AppData\\Local\\Temp\\ipykernel_5500\\694759260.py:2: DeprecationWarning: DataFrameGroupBy.apply operated on the grouping columns. This behavior is deprecated, and in a future version of pandas the grouping columns will be excluded from the operation. Either pass `include_groups=False` to exclude the groupings or explicitly select the grouping columns after groupby to silence this warning.\n",
      "  df = df.groupby(by = [\"rollnumber\", \"cast_code\"]).apply(lambda x: pd.DataFrame(list(combinations(x[\"icpsr\"], 2)))) # \"combinations\" makes all possible pairs of icpsr codes for every vote value\n"
     ]
    },
    {
     "name": "stdout",
     "output_type": "stream",
     "text": [
      "Saved: Images/Congress_096_density_plot.png\n"
     ]
    },
    {
     "name": "stderr",
     "output_type": "stream",
     "text": [
      "C:\\Users\\kubic\\AppData\\Local\\Temp\\ipykernel_5500\\694759260.py:2: DeprecationWarning: DataFrameGroupBy.apply operated on the grouping columns. This behavior is deprecated, and in a future version of pandas the grouping columns will be excluded from the operation. Either pass `include_groups=False` to exclude the groupings or explicitly select the grouping columns after groupby to silence this warning.\n",
      "  df = df.groupby(by = [\"rollnumber\", \"cast_code\"]).apply(lambda x: pd.DataFrame(list(combinations(x[\"icpsr\"], 2)))) # \"combinations\" makes all possible pairs of icpsr codes for every vote value\n"
     ]
    },
    {
     "name": "stdout",
     "output_type": "stream",
     "text": [
      "Saved: Images/Congress_097_density_plot.png\n"
     ]
    },
    {
     "name": "stderr",
     "output_type": "stream",
     "text": [
      "C:\\Users\\kubic\\AppData\\Local\\Temp\\ipykernel_5500\\694759260.py:2: DeprecationWarning: DataFrameGroupBy.apply operated on the grouping columns. This behavior is deprecated, and in a future version of pandas the grouping columns will be excluded from the operation. Either pass `include_groups=False` to exclude the groupings or explicitly select the grouping columns after groupby to silence this warning.\n",
      "  df = df.groupby(by = [\"rollnumber\", \"cast_code\"]).apply(lambda x: pd.DataFrame(list(combinations(x[\"icpsr\"], 2)))) # \"combinations\" makes all possible pairs of icpsr codes for every vote value\n"
     ]
    },
    {
     "name": "stdout",
     "output_type": "stream",
     "text": [
      "Saved: Images/Congress_098_density_plot.png\n"
     ]
    },
    {
     "name": "stderr",
     "output_type": "stream",
     "text": [
      "C:\\Users\\kubic\\AppData\\Local\\Temp\\ipykernel_5500\\694759260.py:2: DeprecationWarning: DataFrameGroupBy.apply operated on the grouping columns. This behavior is deprecated, and in a future version of pandas the grouping columns will be excluded from the operation. Either pass `include_groups=False` to exclude the groupings or explicitly select the grouping columns after groupby to silence this warning.\n",
      "  df = df.groupby(by = [\"rollnumber\", \"cast_code\"]).apply(lambda x: pd.DataFrame(list(combinations(x[\"icpsr\"], 2)))) # \"combinations\" makes all possible pairs of icpsr codes for every vote value\n"
     ]
    },
    {
     "name": "stdout",
     "output_type": "stream",
     "text": [
      "Saved: Images/Congress_099_density_plot.png\n"
     ]
    },
    {
     "name": "stderr",
     "output_type": "stream",
     "text": [
      "C:\\Users\\kubic\\AppData\\Local\\Temp\\ipykernel_5500\\694759260.py:2: DeprecationWarning: DataFrameGroupBy.apply operated on the grouping columns. This behavior is deprecated, and in a future version of pandas the grouping columns will be excluded from the operation. Either pass `include_groups=False` to exclude the groupings or explicitly select the grouping columns after groupby to silence this warning.\n",
      "  df = df.groupby(by = [\"rollnumber\", \"cast_code\"]).apply(lambda x: pd.DataFrame(list(combinations(x[\"icpsr\"], 2)))) # \"combinations\" makes all possible pairs of icpsr codes for every vote value\n"
     ]
    },
    {
     "name": "stdout",
     "output_type": "stream",
     "text": [
      "Saved: Images/Congress_100_density_plot.png\n"
     ]
    },
    {
     "name": "stderr",
     "output_type": "stream",
     "text": [
      "C:\\Users\\kubic\\AppData\\Local\\Temp\\ipykernel_5500\\694759260.py:2: DeprecationWarning: DataFrameGroupBy.apply operated on the grouping columns. This behavior is deprecated, and in a future version of pandas the grouping columns will be excluded from the operation. Either pass `include_groups=False` to exclude the groupings or explicitly select the grouping columns after groupby to silence this warning.\n",
      "  df = df.groupby(by = [\"rollnumber\", \"cast_code\"]).apply(lambda x: pd.DataFrame(list(combinations(x[\"icpsr\"], 2)))) # \"combinations\" makes all possible pairs of icpsr codes for every vote value\n"
     ]
    },
    {
     "name": "stdout",
     "output_type": "stream",
     "text": [
      "Saved: Images/Congress_101_density_plot.png\n"
     ]
    },
    {
     "name": "stderr",
     "output_type": "stream",
     "text": [
      "C:\\Users\\kubic\\AppData\\Local\\Temp\\ipykernel_5500\\694759260.py:2: DeprecationWarning: DataFrameGroupBy.apply operated on the grouping columns. This behavior is deprecated, and in a future version of pandas the grouping columns will be excluded from the operation. Either pass `include_groups=False` to exclude the groupings or explicitly select the grouping columns after groupby to silence this warning.\n",
      "  df = df.groupby(by = [\"rollnumber\", \"cast_code\"]).apply(lambda x: pd.DataFrame(list(combinations(x[\"icpsr\"], 2)))) # \"combinations\" makes all possible pairs of icpsr codes for every vote value\n"
     ]
    },
    {
     "name": "stdout",
     "output_type": "stream",
     "text": [
      "Saved: Images/Congress_102_density_plot.png\n"
     ]
    },
    {
     "name": "stderr",
     "output_type": "stream",
     "text": [
      "C:\\Users\\kubic\\AppData\\Local\\Temp\\ipykernel_5500\\694759260.py:2: DeprecationWarning: DataFrameGroupBy.apply operated on the grouping columns. This behavior is deprecated, and in a future version of pandas the grouping columns will be excluded from the operation. Either pass `include_groups=False` to exclude the groupings or explicitly select the grouping columns after groupby to silence this warning.\n",
      "  df = df.groupby(by = [\"rollnumber\", \"cast_code\"]).apply(lambda x: pd.DataFrame(list(combinations(x[\"icpsr\"], 2)))) # \"combinations\" makes all possible pairs of icpsr codes for every vote value\n"
     ]
    },
    {
     "name": "stdout",
     "output_type": "stream",
     "text": [
      "Saved: Images/Congress_103_density_plot.png\n"
     ]
    },
    {
     "name": "stderr",
     "output_type": "stream",
     "text": [
      "C:\\Users\\kubic\\AppData\\Local\\Temp\\ipykernel_5500\\694759260.py:2: DeprecationWarning: DataFrameGroupBy.apply operated on the grouping columns. This behavior is deprecated, and in a future version of pandas the grouping columns will be excluded from the operation. Either pass `include_groups=False` to exclude the groupings or explicitly select the grouping columns after groupby to silence this warning.\n",
      "  df = df.groupby(by = [\"rollnumber\", \"cast_code\"]).apply(lambda x: pd.DataFrame(list(combinations(x[\"icpsr\"], 2)))) # \"combinations\" makes all possible pairs of icpsr codes for every vote value\n"
     ]
    },
    {
     "name": "stdout",
     "output_type": "stream",
     "text": [
      "Saved: Images/Congress_104_density_plot.png\n"
     ]
    },
    {
     "name": "stderr",
     "output_type": "stream",
     "text": [
      "C:\\Users\\kubic\\AppData\\Local\\Temp\\ipykernel_5500\\694759260.py:2: DeprecationWarning: DataFrameGroupBy.apply operated on the grouping columns. This behavior is deprecated, and in a future version of pandas the grouping columns will be excluded from the operation. Either pass `include_groups=False` to exclude the groupings or explicitly select the grouping columns after groupby to silence this warning.\n",
      "  df = df.groupby(by = [\"rollnumber\", \"cast_code\"]).apply(lambda x: pd.DataFrame(list(combinations(x[\"icpsr\"], 2)))) # \"combinations\" makes all possible pairs of icpsr codes for every vote value\n"
     ]
    },
    {
     "name": "stdout",
     "output_type": "stream",
     "text": [
      "Saved: Images/Congress_105_density_plot.png\n"
     ]
    },
    {
     "name": "stderr",
     "output_type": "stream",
     "text": [
      "C:\\Users\\kubic\\AppData\\Local\\Temp\\ipykernel_5500\\694759260.py:2: DeprecationWarning: DataFrameGroupBy.apply operated on the grouping columns. This behavior is deprecated, and in a future version of pandas the grouping columns will be excluded from the operation. Either pass `include_groups=False` to exclude the groupings or explicitly select the grouping columns after groupby to silence this warning.\n",
      "  df = df.groupby(by = [\"rollnumber\", \"cast_code\"]).apply(lambda x: pd.DataFrame(list(combinations(x[\"icpsr\"], 2)))) # \"combinations\" makes all possible pairs of icpsr codes for every vote value\n"
     ]
    },
    {
     "name": "stdout",
     "output_type": "stream",
     "text": [
      "Saved: Images/Congress_106_density_plot.png\n"
     ]
    },
    {
     "name": "stderr",
     "output_type": "stream",
     "text": [
      "C:\\Users\\kubic\\AppData\\Local\\Temp\\ipykernel_5500\\694759260.py:2: DeprecationWarning: DataFrameGroupBy.apply operated on the grouping columns. This behavior is deprecated, and in a future version of pandas the grouping columns will be excluded from the operation. Either pass `include_groups=False` to exclude the groupings or explicitly select the grouping columns after groupby to silence this warning.\n",
      "  df = df.groupby(by = [\"rollnumber\", \"cast_code\"]).apply(lambda x: pd.DataFrame(list(combinations(x[\"icpsr\"], 2)))) # \"combinations\" makes all possible pairs of icpsr codes for every vote value\n"
     ]
    },
    {
     "name": "stdout",
     "output_type": "stream",
     "text": [
      "Saved: Images/Congress_107_density_plot.png\n"
     ]
    },
    {
     "name": "stderr",
     "output_type": "stream",
     "text": [
      "C:\\Users\\kubic\\AppData\\Local\\Temp\\ipykernel_5500\\694759260.py:2: DeprecationWarning: DataFrameGroupBy.apply operated on the grouping columns. This behavior is deprecated, and in a future version of pandas the grouping columns will be excluded from the operation. Either pass `include_groups=False` to exclude the groupings or explicitly select the grouping columns after groupby to silence this warning.\n",
      "  df = df.groupby(by = [\"rollnumber\", \"cast_code\"]).apply(lambda x: pd.DataFrame(list(combinations(x[\"icpsr\"], 2)))) # \"combinations\" makes all possible pairs of icpsr codes for every vote value\n"
     ]
    },
    {
     "name": "stdout",
     "output_type": "stream",
     "text": [
      "Saved: Images/Congress_108_density_plot.png\n"
     ]
    },
    {
     "name": "stderr",
     "output_type": "stream",
     "text": [
      "C:\\Users\\kubic\\AppData\\Local\\Temp\\ipykernel_5500\\694759260.py:2: DeprecationWarning: DataFrameGroupBy.apply operated on the grouping columns. This behavior is deprecated, and in a future version of pandas the grouping columns will be excluded from the operation. Either pass `include_groups=False` to exclude the groupings or explicitly select the grouping columns after groupby to silence this warning.\n",
      "  df = df.groupby(by = [\"rollnumber\", \"cast_code\"]).apply(lambda x: pd.DataFrame(list(combinations(x[\"icpsr\"], 2)))) # \"combinations\" makes all possible pairs of icpsr codes for every vote value\n"
     ]
    },
    {
     "name": "stdout",
     "output_type": "stream",
     "text": [
      "Saved: Images/Congress_109_density_plot.png\n"
     ]
    },
    {
     "name": "stderr",
     "output_type": "stream",
     "text": [
      "C:\\Users\\kubic\\AppData\\Local\\Temp\\ipykernel_5500\\694759260.py:2: DeprecationWarning: DataFrameGroupBy.apply operated on the grouping columns. This behavior is deprecated, and in a future version of pandas the grouping columns will be excluded from the operation. Either pass `include_groups=False` to exclude the groupings or explicitly select the grouping columns after groupby to silence this warning.\n",
      "  df = df.groupby(by = [\"rollnumber\", \"cast_code\"]).apply(lambda x: pd.DataFrame(list(combinations(x[\"icpsr\"], 2)))) # \"combinations\" makes all possible pairs of icpsr codes for every vote value\n"
     ]
    },
    {
     "name": "stdout",
     "output_type": "stream",
     "text": [
      "Saved: Images/Congress_110_density_plot.png\n"
     ]
    },
    {
     "name": "stderr",
     "output_type": "stream",
     "text": [
      "C:\\Users\\kubic\\AppData\\Local\\Temp\\ipykernel_5500\\694759260.py:2: DeprecationWarning: DataFrameGroupBy.apply operated on the grouping columns. This behavior is deprecated, and in a future version of pandas the grouping columns will be excluded from the operation. Either pass `include_groups=False` to exclude the groupings or explicitly select the grouping columns after groupby to silence this warning.\n",
      "  df = df.groupby(by = [\"rollnumber\", \"cast_code\"]).apply(lambda x: pd.DataFrame(list(combinations(x[\"icpsr\"], 2)))) # \"combinations\" makes all possible pairs of icpsr codes for every vote value\n"
     ]
    },
    {
     "name": "stdout",
     "output_type": "stream",
     "text": [
      "Saved: Images/Congress_111_density_plot.png\n"
     ]
    },
    {
     "name": "stderr",
     "output_type": "stream",
     "text": [
      "C:\\Users\\kubic\\AppData\\Local\\Temp\\ipykernel_5500\\694759260.py:2: DeprecationWarning: DataFrameGroupBy.apply operated on the grouping columns. This behavior is deprecated, and in a future version of pandas the grouping columns will be excluded from the operation. Either pass `include_groups=False` to exclude the groupings or explicitly select the grouping columns after groupby to silence this warning.\n",
      "  df = df.groupby(by = [\"rollnumber\", \"cast_code\"]).apply(lambda x: pd.DataFrame(list(combinations(x[\"icpsr\"], 2)))) # \"combinations\" makes all possible pairs of icpsr codes for every vote value\n"
     ]
    },
    {
     "name": "stdout",
     "output_type": "stream",
     "text": [
      "Saved: Images/Congress_112_density_plot.png\n"
     ]
    },
    {
     "name": "stderr",
     "output_type": "stream",
     "text": [
      "C:\\Users\\kubic\\AppData\\Local\\Temp\\ipykernel_5500\\694759260.py:2: DeprecationWarning: DataFrameGroupBy.apply operated on the grouping columns. This behavior is deprecated, and in a future version of pandas the grouping columns will be excluded from the operation. Either pass `include_groups=False` to exclude the groupings or explicitly select the grouping columns after groupby to silence this warning.\n",
      "  df = df.groupby(by = [\"rollnumber\", \"cast_code\"]).apply(lambda x: pd.DataFrame(list(combinations(x[\"icpsr\"], 2)))) # \"combinations\" makes all possible pairs of icpsr codes for every vote value\n"
     ]
    },
    {
     "name": "stdout",
     "output_type": "stream",
     "text": [
      "Saved: Images/Congress_113_density_plot.png\n"
     ]
    },
    {
     "name": "stderr",
     "output_type": "stream",
     "text": [
      "C:\\Users\\kubic\\AppData\\Local\\Temp\\ipykernel_5500\\694759260.py:2: DeprecationWarning: DataFrameGroupBy.apply operated on the grouping columns. This behavior is deprecated, and in a future version of pandas the grouping columns will be excluded from the operation. Either pass `include_groups=False` to exclude the groupings or explicitly select the grouping columns after groupby to silence this warning.\n",
      "  df = df.groupby(by = [\"rollnumber\", \"cast_code\"]).apply(lambda x: pd.DataFrame(list(combinations(x[\"icpsr\"], 2)))) # \"combinations\" makes all possible pairs of icpsr codes for every vote value\n"
     ]
    },
    {
     "name": "stdout",
     "output_type": "stream",
     "text": [
      "Saved: Images/Congress_114_density_plot.png\n"
     ]
    },
    {
     "name": "stderr",
     "output_type": "stream",
     "text": [
      "C:\\Users\\kubic\\AppData\\Local\\Temp\\ipykernel_5500\\694759260.py:2: DeprecationWarning: DataFrameGroupBy.apply operated on the grouping columns. This behavior is deprecated, and in a future version of pandas the grouping columns will be excluded from the operation. Either pass `include_groups=False` to exclude the groupings or explicitly select the grouping columns after groupby to silence this warning.\n",
      "  df = df.groupby(by = [\"rollnumber\", \"cast_code\"]).apply(lambda x: pd.DataFrame(list(combinations(x[\"icpsr\"], 2)))) # \"combinations\" makes all possible pairs of icpsr codes for every vote value\n"
     ]
    },
    {
     "name": "stdout",
     "output_type": "stream",
     "text": [
      "Saved: Images/Congress_115_density_plot.png\n"
     ]
    },
    {
     "name": "stderr",
     "output_type": "stream",
     "text": [
      "C:\\Users\\kubic\\AppData\\Local\\Temp\\ipykernel_5500\\694759260.py:2: DeprecationWarning: DataFrameGroupBy.apply operated on the grouping columns. This behavior is deprecated, and in a future version of pandas the grouping columns will be excluded from the operation. Either pass `include_groups=False` to exclude the groupings or explicitly select the grouping columns after groupby to silence this warning.\n",
      "  df = df.groupby(by = [\"rollnumber\", \"cast_code\"]).apply(lambda x: pd.DataFrame(list(combinations(x[\"icpsr\"], 2)))) # \"combinations\" makes all possible pairs of icpsr codes for every vote value\n"
     ]
    },
    {
     "name": "stdout",
     "output_type": "stream",
     "text": [
      "Saved: Images/Congress_116_density_plot.png\n"
     ]
    },
    {
     "name": "stderr",
     "output_type": "stream",
     "text": [
      "C:\\Users\\kubic\\AppData\\Local\\Temp\\ipykernel_5500\\694759260.py:2: DeprecationWarning: DataFrameGroupBy.apply operated on the grouping columns. This behavior is deprecated, and in a future version of pandas the grouping columns will be excluded from the operation. Either pass `include_groups=False` to exclude the groupings or explicitly select the grouping columns after groupby to silence this warning.\n",
      "  df = df.groupby(by = [\"rollnumber\", \"cast_code\"]).apply(lambda x: pd.DataFrame(list(combinations(x[\"icpsr\"], 2)))) # \"combinations\" makes all possible pairs of icpsr codes for every vote value\n"
     ]
    },
    {
     "name": "stdout",
     "output_type": "stream",
     "text": [
      "Saved: Images/Congress_117_density_plot.png\n"
     ]
    },
    {
     "name": "stderr",
     "output_type": "stream",
     "text": [
      "C:\\Users\\kubic\\AppData\\Local\\Temp\\ipykernel_5500\\694759260.py:2: DeprecationWarning: DataFrameGroupBy.apply operated on the grouping columns. This behavior is deprecated, and in a future version of pandas the grouping columns will be excluded from the operation. Either pass `include_groups=False` to exclude the groupings or explicitly select the grouping columns after groupby to silence this warning.\n",
      "  df = df.groupby(by = [\"rollnumber\", \"cast_code\"]).apply(lambda x: pd.DataFrame(list(combinations(x[\"icpsr\"], 2)))) # \"combinations\" makes all possible pairs of icpsr codes for every vote value\n"
     ]
    },
    {
     "name": "stdout",
     "output_type": "stream",
     "text": [
      "Saved: Images/Congress_118_density_plot.png\n"
     ]
    }
   ],
   "source": [
    "\n",
    "congresses = ['095', '096', '097','098', '099', '100', '101', '102', '103','104',\n",
    "              '105', '106', '107','108', '109', '110', '111', '112','113', '114',\n",
    "              '115', '116','117','118']\n",
    "\n",
    "# Create Images directory if it doesn't exist\n",
    "os.makedirs(\"Images\", exist_ok=True)\n",
    "\n",
    "for congress in congresses:\n",
    "    input_votes = f\"Data/USA/Filtered/H{congress}_filtered_USA_votes.csv\"\n",
    "    try:\n",
    "        votes_df = pd.read_csv(input_votes)\n",
    "        edges_df = make_all_edges(votes_df)\n",
    "        edges_df, sp_pdf, cp_pdf = make_pdfs(edges_df, votes_df)\n",
    "\n",
    "        x_values = np.linspace(0, 1, 1000)\n",
    "        y_sp = sp_pdf(x_values)\n",
    "        y_cp = cp_pdf(x_values)\n",
    "        y_intersection = np.minimum(y_sp, y_cp)\n",
    "\n",
    "        plt.figure(figsize=(8, 5))\n",
    "        plt.plot(x_values, y_sp, label=\"Same-party\", color=\"black\")\n",
    "        plt.plot(x_values, y_cp, label=\"Cross-party\", color=\"gray\")\n",
    "        plt.xlabel(\"Normalized co-vote count\")\n",
    "        plt.ylabel(\"Density\")\n",
    "        plt.title(f\"Density distributions of co-vote counts by party type for {congress}th Congress\")\n",
    "        plt.legend()\n",
    "        plt.tight_layout()\n",
    "\n",
    "        output_path = f\"Images/Congress_{congress}_density_plot.png\"\n",
    "        plt.savefig(output_path)\n",
    "        plt.close()\n",
    "\n",
    "        print(f\"Saved: {output_path}\")\n",
    "    except Exception as e:\n",
    "        print(f\"Error processing Congress {congress}: {e}\")"
   ]
  },
  {
   "cell_type": "code",
   "execution_count": 3,
   "metadata": {},
   "outputs": [
    {
     "name": "stdout",
     "output_type": "stream",
     "text": [
      "Processing Congress 095...\n"
     ]
    },
    {
     "name": "stderr",
     "output_type": "stream",
     "text": [
      "C:\\Users\\kubic\\AppData\\Local\\Temp\\ipykernel_13404\\2696441458.py:2: DeprecationWarning: DataFrameGroupBy.apply operated on the grouping columns. This behavior is deprecated, and in a future version of pandas the grouping columns will be excluded from the operation. Either pass `include_groups=False` to exclude the groupings or explicitly select the grouping columns after groupby to silence this warning.\n",
      "  df = df.groupby(by = [\"rollnumber\", \"cast_code\"]).apply(lambda x: pd.DataFrame(list(combinations(x[\"icpsr\"], 2)))) # \"combinations\" makes all possible pairs of icpsr codes for every vote value\n"
     ]
    },
    {
     "name": "stdout",
     "output_type": "stream",
     "text": [
      "Network saved: Data/USA/Micheles/congress095_edges.csv\n",
      "Processing Congress 096...\n"
     ]
    },
    {
     "name": "stderr",
     "output_type": "stream",
     "text": [
      "C:\\Users\\kubic\\AppData\\Local\\Temp\\ipykernel_13404\\2696441458.py:2: DeprecationWarning: DataFrameGroupBy.apply operated on the grouping columns. This behavior is deprecated, and in a future version of pandas the grouping columns will be excluded from the operation. Either pass `include_groups=False` to exclude the groupings or explicitly select the grouping columns after groupby to silence this warning.\n",
      "  df = df.groupby(by = [\"rollnumber\", \"cast_code\"]).apply(lambda x: pd.DataFrame(list(combinations(x[\"icpsr\"], 2)))) # \"combinations\" makes all possible pairs of icpsr codes for every vote value\n"
     ]
    },
    {
     "name": "stdout",
     "output_type": "stream",
     "text": [
      "Network saved: Data/USA/Micheles/congress096_edges.csv\n",
      "Processing Congress 097...\n"
     ]
    },
    {
     "name": "stderr",
     "output_type": "stream",
     "text": [
      "C:\\Users\\kubic\\AppData\\Local\\Temp\\ipykernel_13404\\2696441458.py:2: DeprecationWarning: DataFrameGroupBy.apply operated on the grouping columns. This behavior is deprecated, and in a future version of pandas the grouping columns will be excluded from the operation. Either pass `include_groups=False` to exclude the groupings or explicitly select the grouping columns after groupby to silence this warning.\n",
      "  df = df.groupby(by = [\"rollnumber\", \"cast_code\"]).apply(lambda x: pd.DataFrame(list(combinations(x[\"icpsr\"], 2)))) # \"combinations\" makes all possible pairs of icpsr codes for every vote value\n"
     ]
    },
    {
     "name": "stdout",
     "output_type": "stream",
     "text": [
      "Network saved: Data/USA/Micheles/congress097_edges.csv\n",
      "Processing Congress 098...\n"
     ]
    },
    {
     "name": "stderr",
     "output_type": "stream",
     "text": [
      "C:\\Users\\kubic\\AppData\\Local\\Temp\\ipykernel_13404\\2696441458.py:2: DeprecationWarning: DataFrameGroupBy.apply operated on the grouping columns. This behavior is deprecated, and in a future version of pandas the grouping columns will be excluded from the operation. Either pass `include_groups=False` to exclude the groupings or explicitly select the grouping columns after groupby to silence this warning.\n",
      "  df = df.groupby(by = [\"rollnumber\", \"cast_code\"]).apply(lambda x: pd.DataFrame(list(combinations(x[\"icpsr\"], 2)))) # \"combinations\" makes all possible pairs of icpsr codes for every vote value\n"
     ]
    },
    {
     "name": "stdout",
     "output_type": "stream",
     "text": [
      "Network saved: Data/USA/Micheles/congress098_edges.csv\n",
      "Processing Congress 099...\n"
     ]
    },
    {
     "name": "stderr",
     "output_type": "stream",
     "text": [
      "C:\\Users\\kubic\\AppData\\Local\\Temp\\ipykernel_13404\\2696441458.py:2: DeprecationWarning: DataFrameGroupBy.apply operated on the grouping columns. This behavior is deprecated, and in a future version of pandas the grouping columns will be excluded from the operation. Either pass `include_groups=False` to exclude the groupings or explicitly select the grouping columns after groupby to silence this warning.\n",
      "  df = df.groupby(by = [\"rollnumber\", \"cast_code\"]).apply(lambda x: pd.DataFrame(list(combinations(x[\"icpsr\"], 2)))) # \"combinations\" makes all possible pairs of icpsr codes for every vote value\n"
     ]
    },
    {
     "name": "stdout",
     "output_type": "stream",
     "text": [
      "Network saved: Data/USA/Micheles/congress099_edges.csv\n",
      "Processing Congress 100...\n"
     ]
    },
    {
     "name": "stderr",
     "output_type": "stream",
     "text": [
      "C:\\Users\\kubic\\AppData\\Local\\Temp\\ipykernel_13404\\2696441458.py:2: DeprecationWarning: DataFrameGroupBy.apply operated on the grouping columns. This behavior is deprecated, and in a future version of pandas the grouping columns will be excluded from the operation. Either pass `include_groups=False` to exclude the groupings or explicitly select the grouping columns after groupby to silence this warning.\n",
      "  df = df.groupby(by = [\"rollnumber\", \"cast_code\"]).apply(lambda x: pd.DataFrame(list(combinations(x[\"icpsr\"], 2)))) # \"combinations\" makes all possible pairs of icpsr codes for every vote value\n"
     ]
    },
    {
     "name": "stdout",
     "output_type": "stream",
     "text": [
      "Network saved: Data/USA/Micheles/congress100_edges.csv\n",
      "Processing Congress 101...\n"
     ]
    },
    {
     "name": "stderr",
     "output_type": "stream",
     "text": [
      "C:\\Users\\kubic\\AppData\\Local\\Temp\\ipykernel_13404\\2696441458.py:2: DeprecationWarning: DataFrameGroupBy.apply operated on the grouping columns. This behavior is deprecated, and in a future version of pandas the grouping columns will be excluded from the operation. Either pass `include_groups=False` to exclude the groupings or explicitly select the grouping columns after groupby to silence this warning.\n",
      "  df = df.groupby(by = [\"rollnumber\", \"cast_code\"]).apply(lambda x: pd.DataFrame(list(combinations(x[\"icpsr\"], 2)))) # \"combinations\" makes all possible pairs of icpsr codes for every vote value\n"
     ]
    },
    {
     "name": "stdout",
     "output_type": "stream",
     "text": [
      "Network saved: Data/USA/Micheles/congress101_edges.csv\n",
      "Processing Congress 102...\n"
     ]
    },
    {
     "name": "stderr",
     "output_type": "stream",
     "text": [
      "C:\\Users\\kubic\\AppData\\Local\\Temp\\ipykernel_13404\\2696441458.py:2: DeprecationWarning: DataFrameGroupBy.apply operated on the grouping columns. This behavior is deprecated, and in a future version of pandas the grouping columns will be excluded from the operation. Either pass `include_groups=False` to exclude the groupings or explicitly select the grouping columns after groupby to silence this warning.\n",
      "  df = df.groupby(by = [\"rollnumber\", \"cast_code\"]).apply(lambda x: pd.DataFrame(list(combinations(x[\"icpsr\"], 2)))) # \"combinations\" makes all possible pairs of icpsr codes for every vote value\n"
     ]
    },
    {
     "name": "stdout",
     "output_type": "stream",
     "text": [
      "Network saved: Data/USA/Micheles/congress102_edges.csv\n",
      "Processing Congress 103...\n"
     ]
    },
    {
     "name": "stderr",
     "output_type": "stream",
     "text": [
      "C:\\Users\\kubic\\AppData\\Local\\Temp\\ipykernel_13404\\2696441458.py:2: DeprecationWarning: DataFrameGroupBy.apply operated on the grouping columns. This behavior is deprecated, and in a future version of pandas the grouping columns will be excluded from the operation. Either pass `include_groups=False` to exclude the groupings or explicitly select the grouping columns after groupby to silence this warning.\n",
      "  df = df.groupby(by = [\"rollnumber\", \"cast_code\"]).apply(lambda x: pd.DataFrame(list(combinations(x[\"icpsr\"], 2)))) # \"combinations\" makes all possible pairs of icpsr codes for every vote value\n"
     ]
    },
    {
     "name": "stdout",
     "output_type": "stream",
     "text": [
      "Network saved: Data/USA/Micheles/congress103_edges.csv\n",
      "Processing Congress 104...\n"
     ]
    },
    {
     "name": "stderr",
     "output_type": "stream",
     "text": [
      "C:\\Users\\kubic\\AppData\\Local\\Temp\\ipykernel_13404\\2696441458.py:2: DeprecationWarning: DataFrameGroupBy.apply operated on the grouping columns. This behavior is deprecated, and in a future version of pandas the grouping columns will be excluded from the operation. Either pass `include_groups=False` to exclude the groupings or explicitly select the grouping columns after groupby to silence this warning.\n",
      "  df = df.groupby(by = [\"rollnumber\", \"cast_code\"]).apply(lambda x: pd.DataFrame(list(combinations(x[\"icpsr\"], 2)))) # \"combinations\" makes all possible pairs of icpsr codes for every vote value\n"
     ]
    },
    {
     "name": "stdout",
     "output_type": "stream",
     "text": [
      "Network saved: Data/USA/Micheles/congress104_edges.csv\n",
      "Processing Congress 105...\n"
     ]
    },
    {
     "name": "stderr",
     "output_type": "stream",
     "text": [
      "C:\\Users\\kubic\\AppData\\Local\\Temp\\ipykernel_13404\\2696441458.py:2: DeprecationWarning: DataFrameGroupBy.apply operated on the grouping columns. This behavior is deprecated, and in a future version of pandas the grouping columns will be excluded from the operation. Either pass `include_groups=False` to exclude the groupings or explicitly select the grouping columns after groupby to silence this warning.\n",
      "  df = df.groupby(by = [\"rollnumber\", \"cast_code\"]).apply(lambda x: pd.DataFrame(list(combinations(x[\"icpsr\"], 2)))) # \"combinations\" makes all possible pairs of icpsr codes for every vote value\n"
     ]
    },
    {
     "name": "stdout",
     "output_type": "stream",
     "text": [
      "Network saved: Data/USA/Micheles/congress105_edges.csv\n",
      "Processing Congress 106...\n"
     ]
    },
    {
     "name": "stderr",
     "output_type": "stream",
     "text": [
      "C:\\Users\\kubic\\AppData\\Local\\Temp\\ipykernel_13404\\2696441458.py:2: DeprecationWarning: DataFrameGroupBy.apply operated on the grouping columns. This behavior is deprecated, and in a future version of pandas the grouping columns will be excluded from the operation. Either pass `include_groups=False` to exclude the groupings or explicitly select the grouping columns after groupby to silence this warning.\n",
      "  df = df.groupby(by = [\"rollnumber\", \"cast_code\"]).apply(lambda x: pd.DataFrame(list(combinations(x[\"icpsr\"], 2)))) # \"combinations\" makes all possible pairs of icpsr codes for every vote value\n"
     ]
    },
    {
     "name": "stdout",
     "output_type": "stream",
     "text": [
      "Network saved: Data/USA/Micheles/congress106_edges.csv\n",
      "Processing Congress 107...\n"
     ]
    },
    {
     "name": "stderr",
     "output_type": "stream",
     "text": [
      "C:\\Users\\kubic\\AppData\\Local\\Temp\\ipykernel_13404\\2696441458.py:2: DeprecationWarning: DataFrameGroupBy.apply operated on the grouping columns. This behavior is deprecated, and in a future version of pandas the grouping columns will be excluded from the operation. Either pass `include_groups=False` to exclude the groupings or explicitly select the grouping columns after groupby to silence this warning.\n",
      "  df = df.groupby(by = [\"rollnumber\", \"cast_code\"]).apply(lambda x: pd.DataFrame(list(combinations(x[\"icpsr\"], 2)))) # \"combinations\" makes all possible pairs of icpsr codes for every vote value\n"
     ]
    },
    {
     "name": "stdout",
     "output_type": "stream",
     "text": [
      "Network saved: Data/USA/Micheles/congress107_edges.csv\n",
      "Processing Congress 108...\n"
     ]
    },
    {
     "name": "stderr",
     "output_type": "stream",
     "text": [
      "C:\\Users\\kubic\\AppData\\Local\\Temp\\ipykernel_13404\\2696441458.py:2: DeprecationWarning: DataFrameGroupBy.apply operated on the grouping columns. This behavior is deprecated, and in a future version of pandas the grouping columns will be excluded from the operation. Either pass `include_groups=False` to exclude the groupings or explicitly select the grouping columns after groupby to silence this warning.\n",
      "  df = df.groupby(by = [\"rollnumber\", \"cast_code\"]).apply(lambda x: pd.DataFrame(list(combinations(x[\"icpsr\"], 2)))) # \"combinations\" makes all possible pairs of icpsr codes for every vote value\n"
     ]
    },
    {
     "name": "stdout",
     "output_type": "stream",
     "text": [
      "Network saved: Data/USA/Micheles/congress108_edges.csv\n",
      "Processing Congress 109...\n"
     ]
    },
    {
     "name": "stderr",
     "output_type": "stream",
     "text": [
      "C:\\Users\\kubic\\AppData\\Local\\Temp\\ipykernel_13404\\2696441458.py:2: DeprecationWarning: DataFrameGroupBy.apply operated on the grouping columns. This behavior is deprecated, and in a future version of pandas the grouping columns will be excluded from the operation. Either pass `include_groups=False` to exclude the groupings or explicitly select the grouping columns after groupby to silence this warning.\n",
      "  df = df.groupby(by = [\"rollnumber\", \"cast_code\"]).apply(lambda x: pd.DataFrame(list(combinations(x[\"icpsr\"], 2)))) # \"combinations\" makes all possible pairs of icpsr codes for every vote value\n"
     ]
    },
    {
     "name": "stdout",
     "output_type": "stream",
     "text": [
      "Network saved: Data/USA/Micheles/congress109_edges.csv\n",
      "Processing Congress 110...\n"
     ]
    },
    {
     "name": "stderr",
     "output_type": "stream",
     "text": [
      "C:\\Users\\kubic\\AppData\\Local\\Temp\\ipykernel_13404\\2696441458.py:2: DeprecationWarning: DataFrameGroupBy.apply operated on the grouping columns. This behavior is deprecated, and in a future version of pandas the grouping columns will be excluded from the operation. Either pass `include_groups=False` to exclude the groupings or explicitly select the grouping columns after groupby to silence this warning.\n",
      "  df = df.groupby(by = [\"rollnumber\", \"cast_code\"]).apply(lambda x: pd.DataFrame(list(combinations(x[\"icpsr\"], 2)))) # \"combinations\" makes all possible pairs of icpsr codes for every vote value\n"
     ]
    },
    {
     "name": "stdout",
     "output_type": "stream",
     "text": [
      "Network saved: Data/USA/Micheles/congress110_edges.csv\n",
      "Processing Congress 111...\n"
     ]
    },
    {
     "name": "stderr",
     "output_type": "stream",
     "text": [
      "C:\\Users\\kubic\\AppData\\Local\\Temp\\ipykernel_13404\\2696441458.py:2: DeprecationWarning: DataFrameGroupBy.apply operated on the grouping columns. This behavior is deprecated, and in a future version of pandas the grouping columns will be excluded from the operation. Either pass `include_groups=False` to exclude the groupings or explicitly select the grouping columns after groupby to silence this warning.\n",
      "  df = df.groupby(by = [\"rollnumber\", \"cast_code\"]).apply(lambda x: pd.DataFrame(list(combinations(x[\"icpsr\"], 2)))) # \"combinations\" makes all possible pairs of icpsr codes for every vote value\n"
     ]
    },
    {
     "name": "stdout",
     "output_type": "stream",
     "text": [
      "Network saved: Data/USA/Micheles/congress111_edges.csv\n",
      "Processing Congress 112...\n"
     ]
    },
    {
     "name": "stderr",
     "output_type": "stream",
     "text": [
      "C:\\Users\\kubic\\AppData\\Local\\Temp\\ipykernel_13404\\2696441458.py:2: DeprecationWarning: DataFrameGroupBy.apply operated on the grouping columns. This behavior is deprecated, and in a future version of pandas the grouping columns will be excluded from the operation. Either pass `include_groups=False` to exclude the groupings or explicitly select the grouping columns after groupby to silence this warning.\n",
      "  df = df.groupby(by = [\"rollnumber\", \"cast_code\"]).apply(lambda x: pd.DataFrame(list(combinations(x[\"icpsr\"], 2)))) # \"combinations\" makes all possible pairs of icpsr codes for every vote value\n"
     ]
    },
    {
     "name": "stdout",
     "output_type": "stream",
     "text": [
      "Network saved: Data/USA/Micheles/congress112_edges.csv\n",
      "Processing Congress 113...\n"
     ]
    },
    {
     "name": "stderr",
     "output_type": "stream",
     "text": [
      "C:\\Users\\kubic\\AppData\\Local\\Temp\\ipykernel_13404\\2696441458.py:2: DeprecationWarning: DataFrameGroupBy.apply operated on the grouping columns. This behavior is deprecated, and in a future version of pandas the grouping columns will be excluded from the operation. Either pass `include_groups=False` to exclude the groupings or explicitly select the grouping columns after groupby to silence this warning.\n",
      "  df = df.groupby(by = [\"rollnumber\", \"cast_code\"]).apply(lambda x: pd.DataFrame(list(combinations(x[\"icpsr\"], 2)))) # \"combinations\" makes all possible pairs of icpsr codes for every vote value\n"
     ]
    },
    {
     "name": "stdout",
     "output_type": "stream",
     "text": [
      "Network saved: Data/USA/Micheles/congress113_edges.csv\n",
      "Processing Congress 114...\n"
     ]
    },
    {
     "name": "stderr",
     "output_type": "stream",
     "text": [
      "C:\\Users\\kubic\\AppData\\Local\\Temp\\ipykernel_13404\\2696441458.py:2: DeprecationWarning: DataFrameGroupBy.apply operated on the grouping columns. This behavior is deprecated, and in a future version of pandas the grouping columns will be excluded from the operation. Either pass `include_groups=False` to exclude the groupings or explicitly select the grouping columns after groupby to silence this warning.\n",
      "  df = df.groupby(by = [\"rollnumber\", \"cast_code\"]).apply(lambda x: pd.DataFrame(list(combinations(x[\"icpsr\"], 2)))) # \"combinations\" makes all possible pairs of icpsr codes for every vote value\n"
     ]
    },
    {
     "name": "stdout",
     "output_type": "stream",
     "text": [
      "Network saved: Data/USA/Micheles/congress114_edges.csv\n",
      "Processing Congress 115...\n"
     ]
    },
    {
     "name": "stderr",
     "output_type": "stream",
     "text": [
      "C:\\Users\\kubic\\AppData\\Local\\Temp\\ipykernel_13404\\2696441458.py:2: DeprecationWarning: DataFrameGroupBy.apply operated on the grouping columns. This behavior is deprecated, and in a future version of pandas the grouping columns will be excluded from the operation. Either pass `include_groups=False` to exclude the groupings or explicitly select the grouping columns after groupby to silence this warning.\n",
      "  df = df.groupby(by = [\"rollnumber\", \"cast_code\"]).apply(lambda x: pd.DataFrame(list(combinations(x[\"icpsr\"], 2)))) # \"combinations\" makes all possible pairs of icpsr codes for every vote value\n"
     ]
    },
    {
     "name": "stdout",
     "output_type": "stream",
     "text": [
      "Network saved: Data/USA/Micheles/congress115_edges.csv\n",
      "Processing Congress 116...\n"
     ]
    },
    {
     "name": "stderr",
     "output_type": "stream",
     "text": [
      "C:\\Users\\kubic\\AppData\\Local\\Temp\\ipykernel_13404\\2696441458.py:2: DeprecationWarning: DataFrameGroupBy.apply operated on the grouping columns. This behavior is deprecated, and in a future version of pandas the grouping columns will be excluded from the operation. Either pass `include_groups=False` to exclude the groupings or explicitly select the grouping columns after groupby to silence this warning.\n",
      "  df = df.groupby(by = [\"rollnumber\", \"cast_code\"]).apply(lambda x: pd.DataFrame(list(combinations(x[\"icpsr\"], 2)))) # \"combinations\" makes all possible pairs of icpsr codes for every vote value\n"
     ]
    },
    {
     "name": "stdout",
     "output_type": "stream",
     "text": [
      "Network saved: Data/USA/Micheles/congress116_edges.csv\n",
      "Processing Congress 117...\n"
     ]
    },
    {
     "name": "stderr",
     "output_type": "stream",
     "text": [
      "C:\\Users\\kubic\\AppData\\Local\\Temp\\ipykernel_13404\\2696441458.py:2: DeprecationWarning: DataFrameGroupBy.apply operated on the grouping columns. This behavior is deprecated, and in a future version of pandas the grouping columns will be excluded from the operation. Either pass `include_groups=False` to exclude the groupings or explicitly select the grouping columns after groupby to silence this warning.\n",
      "  df = df.groupby(by = [\"rollnumber\", \"cast_code\"]).apply(lambda x: pd.DataFrame(list(combinations(x[\"icpsr\"], 2)))) # \"combinations\" makes all possible pairs of icpsr codes for every vote value\n"
     ]
    },
    {
     "name": "stdout",
     "output_type": "stream",
     "text": [
      "Network saved: Data/USA/Micheles/congress117_edges.csv\n",
      "Processing Congress 118...\n"
     ]
    },
    {
     "name": "stderr",
     "output_type": "stream",
     "text": [
      "C:\\Users\\kubic\\AppData\\Local\\Temp\\ipykernel_13404\\2696441458.py:2: DeprecationWarning: DataFrameGroupBy.apply operated on the grouping columns. This behavior is deprecated, and in a future version of pandas the grouping columns will be excluded from the operation. Either pass `include_groups=False` to exclude the groupings or explicitly select the grouping columns after groupby to silence this warning.\n",
      "  df = df.groupby(by = [\"rollnumber\", \"cast_code\"]).apply(lambda x: pd.DataFrame(list(combinations(x[\"icpsr\"], 2)))) # \"combinations\" makes all possible pairs of icpsr codes for every vote value\n"
     ]
    },
    {
     "name": "stdout",
     "output_type": "stream",
     "text": [
      "Network saved: Data/USA/Micheles/congress118_edges.csv\n"
     ]
    }
   ],
   "source": [
    "def save_network(edges, congress, threshold, output_folder):\n",
    "    edges = edges[edges[\"nij\"] > threshold]\n",
    "    edges = edges[[\"src\", \"trg\"]].astype(int)\n",
    "    edges.columns = [\"Source\", \"Target\"]\n",
    "    edges_output = os.path.join(output_folder, f\"congress{congress}_edges.csv\")\n",
    "    edges.to_csv(edges_output, sep=\",\", index=False, header=True)\n",
    "    \n",
    "    print(f\"Network saved: {edges_output}\")\n",
    "\n",
    "def process_congresses(congress_list, input_folder, output_folder):\n",
    "    os.makedirs(output_folder, exist_ok=True)\n",
    "\n",
    "    for congress in congress_list:\n",
    "        print(f\"Processing Congress {congress}...\")\n",
    "        input_votes = os.path.join(input_folder, f\"H{congress}_filtered_USA_votes.csv\")\n",
    "        \n",
    "        if not os.path.exists(input_votes):\n",
    "            print(f\"Warning: Data file for Congress {congress} not found, skipping.\")\n",
    "            continue\n",
    "\n",
    "        # Load data\n",
    "        votes_df = pd.read_csv(input_votes)\n",
    "\n",
    "        # Create edgelist\n",
    "        edges_df = make_all_edges(votes_df)\n",
    "\n",
    "        # Generate PDFs\n",
    "        edges_df, sp_pdf, cp_pdf = make_pdfs(edges_df, votes_df)\n",
    "\n",
    "        # Compute intersection (threshold)\n",
    "        threshold = find_intersection(sp_pdf, cp_pdf)\n",
    "\n",
    "        # Save network\n",
    "        save_network(edges_df, congress, threshold, output_folder)\n",
    "\n",
    "# List of congress numbers\n",
    "congresses = ['095', '096', '097','098', '099', '100', '101', '102', '103','104',\n",
    "              '105', '106', '107','108', '109', '110', '111', '112','113', '114',\n",
    "              '115', '116','117','118']\n",
    "\n",
    "# Run the process\n",
    "input_folder = \"Data/USA/Filtered/\"\n",
    "output_folder = \"Data/USA/Micheles/\"\n",
    "\n",
    "process_congresses(congresses, input_folder, output_folder)"
   ]
  },
  {
   "cell_type": "code",
   "execution_count": 3,
   "metadata": {},
   "outputs": [
    {
     "name": "stdout",
     "output_type": "stream",
     "text": [
      "Congress 95: Polarization Score = 1.353654438679736\n",
      "Congress 96: Polarization Score = 1.5003671745374347\n",
      "Congress 97: Polarization Score = 1.4436064337827585\n",
      "Congress 98: Polarization Score = 1.6961993573975824\n",
      "Congress 99: Polarization Score = 2.4015813509771498\n",
      "Congress 100: Polarization Score = 2.3365137361417174\n",
      "Congress 101: Polarization Score = 2.024371232136686\n",
      "Congress 102: Polarization Score = 2.4106411095814666\n",
      "Congress 103: Polarization Score = 3.2636098914506704\n",
      "Congress 104: Polarization Score = 4.12551220038706\n",
      "Congress 105: Polarization Score = 4.791900821678918\n",
      "Congress 106: Polarization Score = 3.424084005100225\n",
      "Congress 107: Polarization Score = 3.982219346009936\n",
      "Congress 108: Polarization Score = 8.399382169821628\n",
      "Congress 109: Polarization Score = 8.170568849126683\n",
      "Congress 110: Polarization Score = 8.871014515901612\n",
      "Congress 111: Polarization Score = 3.809497581334263\n",
      "Congress 112: Polarization Score = 4.022919027871767\n",
      "Congress 113: Polarization Score = 10.467223810922201\n",
      "Congress 114: Polarization Score = 10.141119299661238\n",
      "Congress 115: Polarization Score = 6.426760248643573\n",
      "Congress 116: Polarization Score = 7.877567702853501\n",
      "Congress 117: Polarization Score = 5.695018830615616\n",
      "Congress 118: Polarization Score = 6.466165348523134\n"
     ]
    }
   ],
   "source": [
    "def calc_pol(congress, data_path=\"data/USA/Raw/\", edge_list_folder=\"Data/USA/Micheles/\"):\n",
    "    edge_list_file = os.path.join(edge_list_folder, f\"congress{congress}_edges.csv\")\n",
    "    \n",
    "    if not os.path.exists(edge_list_file):\n",
    "        print(f\"Warning: Edge list for Congress {congress} not found, skipping.\")\n",
    "        return None  # Skip if no edge list exists\n",
    "\n",
    "    edge_df = pd.read_csv(edge_list_file)  # No need to assign column names as it's in the first row\n",
    "\n",
    "    # Ensure the 'Source' and 'Target' are integers\n",
    "    edge_df['Source'] = pd.to_numeric(edge_df['Source'], errors='coerce')\n",
    "    edge_df['Target'] = pd.to_numeric(edge_df['Target'], errors='coerce')\n",
    "\n",
    "    # Create the graph\n",
    "    G = nx.from_pandas_edgelist(edge_df, 'Source', 'Target')\n",
    "\n",
    "    # Load members' data\n",
    "    members_file = os.path.join(data_path, f\"H{congress}_members.csv\")\n",
    "    if not os.path.exists(members_file):\n",
    "        print(f\"Warning: Members file for Congress {congress} not found, skipping.\")\n",
    "        return None\n",
    "\n",
    "    members_df = pd.read_csv(members_file).dropna(subset=[\"nominate_dim1\"])\n",
    "    members_df[\"icpsr\"] = members_df[\"icpsr\"].astype(int)\n",
    "\n",
    "    # Create dictionary of opinions\n",
    "    opinions_x = dict(zip(members_df[\"icpsr\"], members_df[\"nominate_dim1\"]))\n",
    "\n",
    "    # Filter only existing nodes in the graph\n",
    "    opinions = {node: opinions_x[node] for node in G.nodes if node in opinions_x}\n",
    "\n",
    "    if not opinions:  # If no valid opinions exist, skip\n",
    "        print(f\"Warning: No valid opinions found for Congress {congress}, skipping.\")\n",
    "        return None\n",
    "\n",
    "    # Normalize opinions between -1 and 1\n",
    "    min_opinion, max_opinion = min(opinions.values()), max(opinions.values())\n",
    "    opinions = {k: 2 * (v - min_opinion) / (max_opinion - min_opinion) - 1 for k, v in opinions.items()}\n",
    "\n",
    "    # Compute polarization score\n",
    "    pol_score = ps.ge(opinions, {}, G)\n",
    "    \n",
    "    return pol_score\n",
    "\n",
    "# List of Congresses\n",
    "congresses =  ['095', '096', '097','098', '099', '100', '101', '102', '103','104', '105', '106', '107','108', '109', '110', '111', '112','113', '114', '115', '116','117','118']\n",
    "\n",
    "# Calculate polarization scores\n",
    "pol_scores = {}\n",
    "for congress in congresses:\n",
    "    pol_score = calc_pol(congress)  # Run function\n",
    "    if pol_score is not None:\n",
    "        pol_scores[int(congress)] = pol_score  \n",
    "        print(f\"Congress {int(congress)}: Polarization Score = {pol_score}\")\n"
   ]
  },
  {
   "cell_type": "code",
   "execution_count": 3,
   "metadata": {},
   "outputs": [],
   "source": [
    "import matplotlib.patches as mpatches\n",
    "\n",
    "party_colors = {\n",
    "    100: \"blue\",   # Democrat\n",
    "    200: \"red\"     # Republican\n",
    "}\n",
    "\n",
    "congresses = ['095', '096', '097','098', '099', '100', '101', '102', '103','104',\n",
    "              '105', '106', '107','108', '109', '110', '111', '112','113', '114',\n",
    "              '115', '116','117','118']\n",
    "\n",
    "for congress in congresses:\n",
    "    # Load edge list\n",
    "    edge_path = f\"Data/USA/Micheles/congress{congress}_edges.csv\"\n",
    "    edges_df = pd.read_csv(edge_path)\n",
    "\n",
    "    # Load node attributes (party_code)\n",
    "    node_path = f\"Data/USA/Filtered/H{congress}_filtered_USA_votes.csv\"\n",
    "    nodes_df = pd.read_csv(node_path)\n",
    "\n",
    "    # Build graph — no edge_attr needed\n",
    "    G = nx.from_pandas_edgelist(edges_df, source='Source', target='Target')\n",
    "\n",
    "    # Map party codes to colors using 'icpsr'\n",
    "    party_dict = nodes_df.set_index(\"icpsr\")[\"party_code\"].to_dict()\n",
    "    color_map = [party_colors.get(party_dict.get(node, None), \"gray\") for node in G.nodes()]\n",
    "\n",
    "    # Generate layout\n",
    "    pos = nx.spring_layout(G, seed=42)\n",
    "\n",
    "    # Draw the network\n",
    "    plt.figure(figsize=(10, 10))\n",
    "    nx.draw_networkx_nodes(G, pos, node_color=color_map, node_size=30)\n",
    "    nx.draw_networkx_edges(G, pos, alpha=0.3, width=0.5)\n",
    "    plt.title(f\"Congress {congress} Network Graph\")\n",
    "    plt.axis(\"off\")\n",
    "\n",
    "    # Add legend\n",
    "    legend_handles = [\n",
    "        mpatches.Patch(color=\"blue\", label=\"Democrat\"),\n",
    "        mpatches.Patch(color=\"red\", label=\"Republican\"),\n",
    "        mpatches.Patch(color=\"gray\", label=\"Other/Unknown\")\n",
    "    ]\n",
    "    plt.legend(handles=legend_handles, loc=\"lower left\", fontsize=\"small\")\n",
    "\n",
    "    # Save plot\n",
    "    out_path = f\"Images/USA_Networks_paper/congress_{congress}_network.png\"\n",
    "    plt.savefig(out_path, dpi=300, bbox_inches='tight')\n",
    "    plt.close()\n"
   ]
  },
  {
   "cell_type": "markdown",
   "metadata": {},
   "source": [
    "Saving networks using our method\n"
   ]
  },
  {
   "cell_type": "code",
   "execution_count": 8,
   "metadata": {},
   "outputs": [],
   "source": [
    "import matplotlib.patches as mpatches\n",
    "\n",
    "party_colors = {\n",
    "    100: \"blue\",   # Democrat\n",
    "    200: \"red\"     # Republican\n",
    "}\n",
    "\n",
    "congresses = ['095', '096', '097','098', '099', '100', '101', '102', '103','104',\n",
    "              '105', '106', '107','108', '109', '110', '111', '112','113', '114',\n",
    "              '115', '116','117','118']\n",
    "\n",
    "for congress in congresses:\n",
    "    # Load edge list\n",
    "    edge_path = f\"Data/USA/edgelist/H{congress}_USA_edgelist.csv\"\n",
    "    edges_df = pd.read_csv(edge_path)\n",
    "\n",
    "    # Load node attributes (party_code)\n",
    "    node_path = f\"Data/USA/Filtered/H{congress}_filtered_USA_votes.csv\"\n",
    "    nodes_df = pd.read_csv(node_path)\n",
    "\n",
    "    # Build graph — no edge_attr needed\n",
    "    G = nx.from_pandas_edgelist(edges_df, source='Source', target='Target')\n",
    "\n",
    "    # Map party codes to colors using 'icpsr'\n",
    "    party_dict = nodes_df.set_index(\"icpsr\")[\"party_code\"].to_dict()\n",
    "    color_map = [party_colors.get(party_dict.get(node, None), \"gray\") for node in G.nodes()]\n",
    "\n",
    "    # Generate layout\n",
    "    pos = nx.spring_layout(G, seed=42)\n",
    "\n",
    "    # Draw the network\n",
    "    plt.figure(figsize=(10, 10))\n",
    "    nx.draw_networkx_nodes(G, pos, node_color=color_map, node_size=30)\n",
    "    nx.draw_networkx_edges(G, pos, alpha=0.3, width=0.5)\n",
    "    plt.title(f\"Congress {congress} Network Graph\")\n",
    "    plt.axis(\"off\")\n",
    "\n",
    "    # Add legend\n",
    "    legend_handles = [\n",
    "        mpatches.Patch(color=\"blue\", label=\"Democrat\"),\n",
    "        mpatches.Patch(color=\"red\", label=\"Republican\"),\n",
    "        mpatches.Patch(color=\"gray\", label=\"Other/Unknown\")\n",
    "    ]\n",
    "    plt.legend(handles=legend_handles, loc=\"lower left\", fontsize=\"small\")\n",
    "\n",
    "    # Save plot\n",
    "    out_path = f\"Images/USA_Networks_our/congress_{congress}_network.png\"\n",
    "    plt.savefig(out_path, dpi=300, bbox_inches='tight')\n",
    "    plt.close()\n"
   ]
  },
  {
   "cell_type": "markdown",
   "metadata": {},
   "source": [
    "## Denmark"
   ]
  },
  {
   "cell_type": "code",
   "execution_count": 4,
   "metadata": {},
   "outputs": [],
   "source": [
    "def make_all_edges(df):\n",
    "    df = df.groupby(by = [\"afstemningid\", \"typeid_x\"]).apply(lambda x: pd.DataFrame(list(combinations(x[\"aktørid\"], 2)))) # \"combinations\" makes all possible pairs of icpsr codes for every vote value\n",
    "    df.columns = (\"src\", \"trg\")\n",
    "    df = df.groupby(by = [\"src\", \"trg\"]).size().reset_index().rename(columns = {0: \"nij\"})                        # Counts how many times a pair of congressmen appears in df (i.e. they co-voted)\n",
    "    return df\n",
    "\n",
    "def make_pdfs(edges, nodes):\n",
    "    party_lookup = nodes.set_index(\"aktørid\")[\"party\"].to_dict()\n",
    "    edges[\"party_src\"] = edges[\"src\"].map(party_lookup)\n",
    "    edges[\"party_trg\"] = edges[\"trg\"].map(party_lookup)\n",
    "    edges[\"same_party\"] = edges[\"party_src\"] == edges[\"party_trg\"]\n",
    "    edges[\"nij\"] /= edges[\"nij\"].max()  # Normalize co-vote counts\n",
    "\n",
    "    sp_pdf = gaussian_kde(edges[edges[\"same_party\"]][\"nij\"])\n",
    "    cp_pdf = gaussian_kde(edges[~edges[\"same_party\"]][\"nij\"])\n",
    "    return edges, sp_pdf, cp_pdf\n",
    "\n",
    "def find_intersection(kde1, kde2, init_interval=0.01, scope=[0.3,1], convergence=0.0001):\n",
    "    x_left, x_right = scope[0], scope[0] + init_interval\n",
    "    while x_right < scope[1]:\n",
    "        left, right = kde1(x_left)[0] - kde2(x_left)[0], kde1(x_right)[0] - kde2(x_right)[0]\n",
    "        if left * right < 0:\n",
    "            if init_interval <= convergence:\n",
    "                return x_right\n",
    "            return find_intersection(kde1, kde2, init_interval / 10, [x_left, x_right])\n",
    "        x_left, x_right = x_right, x_right + init_interval\n",
    "    return scope[0]"
   ]
  },
  {
   "cell_type": "code",
   "execution_count": 5,
   "metadata": {},
   "outputs": [
    {
     "name": "stderr",
     "output_type": "stream",
     "text": [
      "C:\\Users\\kubic\\AppData\\Local\\Temp\\ipykernel_18648\\1342061137.py:2: DeprecationWarning: DataFrameGroupBy.apply operated on the grouping columns. This behavior is deprecated, and in a future version of pandas the grouping columns will be excluded from the operation. Either pass `include_groups=False` to exclude the groupings or explicitly select the grouping columns after groupby to silence this warning.\n",
      "  df = df.groupby(by = [\"afstemningid\", \"typeid_x\"]).apply(lambda x: pd.DataFrame(list(combinations(x[\"aktørid\"], 2)))) # \"combinations\" makes all possible pairs of icpsr codes for every vote value\n"
     ]
    },
    {
     "name": "stdout",
     "output_type": "stream",
     "text": [
      "Saved: Images/Denmark_Congress_01_05_density_plot.png\n"
     ]
    },
    {
     "name": "stderr",
     "output_type": "stream",
     "text": [
      "C:\\Users\\kubic\\AppData\\Local\\Temp\\ipykernel_18648\\1342061137.py:2: DeprecationWarning: DataFrameGroupBy.apply operated on the grouping columns. This behavior is deprecated, and in a future version of pandas the grouping columns will be excluded from the operation. Either pass `include_groups=False` to exclude the groupings or explicitly select the grouping columns after groupby to silence this warning.\n",
      "  df = df.groupby(by = [\"afstemningid\", \"typeid_x\"]).apply(lambda x: pd.DataFrame(list(combinations(x[\"aktørid\"], 2)))) # \"combinations\" makes all possible pairs of icpsr codes for every vote value\n"
     ]
    },
    {
     "name": "stdout",
     "output_type": "stream",
     "text": [
      "Saved: Images/Denmark_Congress_05_07_density_plot.png\n"
     ]
    },
    {
     "name": "stderr",
     "output_type": "stream",
     "text": [
      "C:\\Users\\kubic\\AppData\\Local\\Temp\\ipykernel_18648\\1342061137.py:2: DeprecationWarning: DataFrameGroupBy.apply operated on the grouping columns. This behavior is deprecated, and in a future version of pandas the grouping columns will be excluded from the operation. Either pass `include_groups=False` to exclude the groupings or explicitly select the grouping columns after groupby to silence this warning.\n",
      "  df = df.groupby(by = [\"afstemningid\", \"typeid_x\"]).apply(lambda x: pd.DataFrame(list(combinations(x[\"aktørid\"], 2)))) # \"combinations\" makes all possible pairs of icpsr codes for every vote value\n"
     ]
    },
    {
     "name": "stdout",
     "output_type": "stream",
     "text": [
      "Saved: Images/Denmark_Congress_07_11_density_plot.png\n"
     ]
    },
    {
     "name": "stderr",
     "output_type": "stream",
     "text": [
      "C:\\Users\\kubic\\AppData\\Local\\Temp\\ipykernel_18648\\1342061137.py:2: DeprecationWarning: DataFrameGroupBy.apply operated on the grouping columns. This behavior is deprecated, and in a future version of pandas the grouping columns will be excluded from the operation. Either pass `include_groups=False` to exclude the groupings or explicitly select the grouping columns after groupby to silence this warning.\n",
      "  df = df.groupby(by = [\"afstemningid\", \"typeid_x\"]).apply(lambda x: pd.DataFrame(list(combinations(x[\"aktørid\"], 2)))) # \"combinations\" makes all possible pairs of icpsr codes for every vote value\n"
     ]
    },
    {
     "name": "stdout",
     "output_type": "stream",
     "text": [
      "Saved: Images/Denmark_Congress_11_15_density_plot.png\n"
     ]
    },
    {
     "name": "stderr",
     "output_type": "stream",
     "text": [
      "C:\\Users\\kubic\\AppData\\Local\\Temp\\ipykernel_18648\\1342061137.py:2: DeprecationWarning: DataFrameGroupBy.apply operated on the grouping columns. This behavior is deprecated, and in a future version of pandas the grouping columns will be excluded from the operation. Either pass `include_groups=False` to exclude the groupings or explicitly select the grouping columns after groupby to silence this warning.\n",
      "  df = df.groupby(by = [\"afstemningid\", \"typeid_x\"]).apply(lambda x: pd.DataFrame(list(combinations(x[\"aktørid\"], 2)))) # \"combinations\" makes all possible pairs of icpsr codes for every vote value\n"
     ]
    },
    {
     "name": "stdout",
     "output_type": "stream",
     "text": [
      "Saved: Images/Denmark_Congress_15_19_density_plot.png\n"
     ]
    },
    {
     "name": "stderr",
     "output_type": "stream",
     "text": [
      "C:\\Users\\kubic\\AppData\\Local\\Temp\\ipykernel_18648\\1342061137.py:2: DeprecationWarning: DataFrameGroupBy.apply operated on the grouping columns. This behavior is deprecated, and in a future version of pandas the grouping columns will be excluded from the operation. Either pass `include_groups=False` to exclude the groupings or explicitly select the grouping columns after groupby to silence this warning.\n",
      "  df = df.groupby(by = [\"afstemningid\", \"typeid_x\"]).apply(lambda x: pd.DataFrame(list(combinations(x[\"aktørid\"], 2)))) # \"combinations\" makes all possible pairs of icpsr codes for every vote value\n"
     ]
    },
    {
     "name": "stdout",
     "output_type": "stream",
     "text": [
      "Saved: Images/Denmark_Congress_19_22_density_plot.png\n"
     ]
    }
   ],
   "source": [
    "congresses = ['01_05','05_07','07_11','11_15','15_19','19_22']\n",
    "for congress in congresses:\n",
    "    input_votes = f\"Data/Denmark/Raw/P{congress}_DK.csv\"\n",
    "    try:\n",
    "        votes_df = pd.read_csv(input_votes)\n",
    "        edges_df = make_all_edges(votes_df)\n",
    "        edges_df, sp_pdf, cp_pdf = make_pdfs(edges_df, votes_df)\n",
    "\n",
    "        x_values = np.linspace(0, 1, 1000)\n",
    "        y_sp = sp_pdf(x_values)\n",
    "        y_cp = cp_pdf(x_values)\n",
    "        y_intersection = np.minimum(y_sp, y_cp)\n",
    "\n",
    "        plt.figure(figsize=(8, 5))\n",
    "        plt.plot(x_values, y_sp, label=\"Same-party\", color=\"black\")\n",
    "        plt.plot(x_values, y_cp, label=\"Cross-party\", color=\"gray\")\n",
    "        plt.xlabel(\"Normalized co-vote count\")\n",
    "        plt.ylabel(\"Density\")\n",
    "        plt.title(f\"Density distributions of co-vote counts by party type for {congress}th Congress Denmark\")\n",
    "        plt.legend()\n",
    "        plt.tight_layout()\n",
    "\n",
    "        output_path = f\"Images/Denmark_Congress_{congress}_density_plot.png\"\n",
    "        plt.savefig(output_path)\n",
    "        plt.close()\n",
    "\n",
    "        print(f\"Saved: {output_path}\")\n",
    "    except Exception as e:\n",
    "        print(f\"Error processing Congress {congress}: {e}\")"
   ]
  },
  {
   "cell_type": "code",
   "execution_count": 6,
   "metadata": {},
   "outputs": [
    {
     "name": "stdout",
     "output_type": "stream",
     "text": [
      "Processing Congress 01_05...\n"
     ]
    },
    {
     "name": "stderr",
     "output_type": "stream",
     "text": [
      "C:\\Users\\kubic\\AppData\\Local\\Temp\\ipykernel_18648\\1342061137.py:2: DeprecationWarning: DataFrameGroupBy.apply operated on the grouping columns. This behavior is deprecated, and in a future version of pandas the grouping columns will be excluded from the operation. Either pass `include_groups=False` to exclude the groupings or explicitly select the grouping columns after groupby to silence this warning.\n",
      "  df = df.groupby(by = [\"afstemningid\", \"typeid_x\"]).apply(lambda x: pd.DataFrame(list(combinations(x[\"aktørid\"], 2)))) # \"combinations\" makes all possible pairs of icpsr codes for every vote value\n"
     ]
    },
    {
     "name": "stdout",
     "output_type": "stream",
     "text": [
      "Network saved: Data/Denmark/Micheles/congress_01_05_edges.csv\n",
      "Processing Congress 05_07...\n"
     ]
    },
    {
     "name": "stderr",
     "output_type": "stream",
     "text": [
      "C:\\Users\\kubic\\AppData\\Local\\Temp\\ipykernel_18648\\1342061137.py:2: DeprecationWarning: DataFrameGroupBy.apply operated on the grouping columns. This behavior is deprecated, and in a future version of pandas the grouping columns will be excluded from the operation. Either pass `include_groups=False` to exclude the groupings or explicitly select the grouping columns after groupby to silence this warning.\n",
      "  df = df.groupby(by = [\"afstemningid\", \"typeid_x\"]).apply(lambda x: pd.DataFrame(list(combinations(x[\"aktørid\"], 2)))) # \"combinations\" makes all possible pairs of icpsr codes for every vote value\n"
     ]
    },
    {
     "name": "stdout",
     "output_type": "stream",
     "text": [
      "Network saved: Data/Denmark/Micheles/congress_05_07_edges.csv\n",
      "Processing Congress 07_11...\n"
     ]
    },
    {
     "name": "stderr",
     "output_type": "stream",
     "text": [
      "C:\\Users\\kubic\\AppData\\Local\\Temp\\ipykernel_18648\\1342061137.py:2: DeprecationWarning: DataFrameGroupBy.apply operated on the grouping columns. This behavior is deprecated, and in a future version of pandas the grouping columns will be excluded from the operation. Either pass `include_groups=False` to exclude the groupings or explicitly select the grouping columns after groupby to silence this warning.\n",
      "  df = df.groupby(by = [\"afstemningid\", \"typeid_x\"]).apply(lambda x: pd.DataFrame(list(combinations(x[\"aktørid\"], 2)))) # \"combinations\" makes all possible pairs of icpsr codes for every vote value\n"
     ]
    },
    {
     "name": "stdout",
     "output_type": "stream",
     "text": [
      "Network saved: Data/Denmark/Micheles/congress_07_11_edges.csv\n",
      "Processing Congress 11_15...\n"
     ]
    },
    {
     "name": "stderr",
     "output_type": "stream",
     "text": [
      "C:\\Users\\kubic\\AppData\\Local\\Temp\\ipykernel_18648\\1342061137.py:2: DeprecationWarning: DataFrameGroupBy.apply operated on the grouping columns. This behavior is deprecated, and in a future version of pandas the grouping columns will be excluded from the operation. Either pass `include_groups=False` to exclude the groupings or explicitly select the grouping columns after groupby to silence this warning.\n",
      "  df = df.groupby(by = [\"afstemningid\", \"typeid_x\"]).apply(lambda x: pd.DataFrame(list(combinations(x[\"aktørid\"], 2)))) # \"combinations\" makes all possible pairs of icpsr codes for every vote value\n"
     ]
    },
    {
     "name": "stdout",
     "output_type": "stream",
     "text": [
      "Network saved: Data/Denmark/Micheles/congress_11_15_edges.csv\n",
      "Processing Congress 15_19...\n"
     ]
    },
    {
     "name": "stderr",
     "output_type": "stream",
     "text": [
      "C:\\Users\\kubic\\AppData\\Local\\Temp\\ipykernel_18648\\1342061137.py:2: DeprecationWarning: DataFrameGroupBy.apply operated on the grouping columns. This behavior is deprecated, and in a future version of pandas the grouping columns will be excluded from the operation. Either pass `include_groups=False` to exclude the groupings or explicitly select the grouping columns after groupby to silence this warning.\n",
      "  df = df.groupby(by = [\"afstemningid\", \"typeid_x\"]).apply(lambda x: pd.DataFrame(list(combinations(x[\"aktørid\"], 2)))) # \"combinations\" makes all possible pairs of icpsr codes for every vote value\n"
     ]
    },
    {
     "name": "stdout",
     "output_type": "stream",
     "text": [
      "Network saved: Data/Denmark/Micheles/congress_15_19_edges.csv\n",
      "Processing Congress 19_22...\n"
     ]
    },
    {
     "name": "stderr",
     "output_type": "stream",
     "text": [
      "C:\\Users\\kubic\\AppData\\Local\\Temp\\ipykernel_18648\\1342061137.py:2: DeprecationWarning: DataFrameGroupBy.apply operated on the grouping columns. This behavior is deprecated, and in a future version of pandas the grouping columns will be excluded from the operation. Either pass `include_groups=False` to exclude the groupings or explicitly select the grouping columns after groupby to silence this warning.\n",
      "  df = df.groupby(by = [\"afstemningid\", \"typeid_x\"]).apply(lambda x: pd.DataFrame(list(combinations(x[\"aktørid\"], 2)))) # \"combinations\" makes all possible pairs of icpsr codes for every vote value\n"
     ]
    },
    {
     "name": "stdout",
     "output_type": "stream",
     "text": [
      "Network saved: Data/Denmark/Micheles/congress_19_22_edges.csv\n",
      "Processing Congress 22_present...\n"
     ]
    },
    {
     "name": "stderr",
     "output_type": "stream",
     "text": [
      "C:\\Users\\kubic\\AppData\\Local\\Temp\\ipykernel_18648\\1342061137.py:2: DeprecationWarning: DataFrameGroupBy.apply operated on the grouping columns. This behavior is deprecated, and in a future version of pandas the grouping columns will be excluded from the operation. Either pass `include_groups=False` to exclude the groupings or explicitly select the grouping columns after groupby to silence this warning.\n",
      "  df = df.groupby(by = [\"afstemningid\", \"typeid_x\"]).apply(lambda x: pd.DataFrame(list(combinations(x[\"aktørid\"], 2)))) # \"combinations\" makes all possible pairs of icpsr codes for every vote value\n"
     ]
    },
    {
     "name": "stdout",
     "output_type": "stream",
     "text": [
      "Network saved: Data/Denmark/Micheles/congress_22_present_edges.csv\n"
     ]
    }
   ],
   "source": [
    "def save_network(edges, congress, threshold, output_folder):\n",
    "    edges = edges[edges[\"nij\"] > threshold]\n",
    "    edges = edges[[\"src\", \"trg\"]].astype(int)\n",
    "    edges.columns = [\"Source\", \"Target\"]\n",
    "    edges_output = os.path.join(output_folder, f\"congress_{congress}_edges.csv\")\n",
    "    edges.to_csv(edges_output, sep=\",\", index=False, header=True)\n",
    "    \n",
    "    print(f\"Network saved: {edges_output}\")\n",
    "\n",
    "def process_congresses(congress_list, input_folder, output_folder):\n",
    "    os.makedirs(output_folder, exist_ok=True)\n",
    "\n",
    "    for congress in congress_list:\n",
    "        print(f\"Processing Congress {congress}...\")\n",
    "        input_votes = os.path.join(input_folder, f\"P{congress}_DK.csv\")\n",
    "        \n",
    "        if not os.path.exists(input_votes):\n",
    "            print(f\"Warning: Data file for Congress {congress} not found, skipping.\")\n",
    "            continue\n",
    "\n",
    "        # Load data\n",
    "        votes_df = pd.read_csv(input_votes)\n",
    "\n",
    "        # Create edgelist\n",
    "        edges_df = make_all_edges(votes_df)\n",
    "\n",
    "        # Generate PDFs\n",
    "        edges_df, sp_pdf, cp_pdf = make_pdfs(edges_df, votes_df)\n",
    "\n",
    "        # Compute intersection (threshold)\n",
    "        threshold = find_intersection(sp_pdf, cp_pdf)\n",
    "\n",
    "        # Save network\n",
    "        save_network(edges_df, congress, threshold, output_folder)\n",
    "\n",
    "# List of congress numbers\n",
    "congresses = ['01_05','05_07','07_11','11_15','15_19','19_22','22_present']\n",
    "\n",
    "# Run the process\n",
    "input_folder = \"Data/Denmark/Raw\"\n",
    "output_folder = \"Data/Denmark/Micheles/\"\n",
    "\n",
    "process_congresses(congresses, input_folder, output_folder)"
   ]
  },
  {
   "cell_type": "code",
   "execution_count": 7,
   "metadata": {},
   "outputs": [],
   "source": [
    "import pandas as pd\n",
    "import networkx as nx\n",
    "import matplotlib.pyplot as plt\n",
    "from matplotlib.lines import Line2D\n",
    "\n",
    "congresses = ['01_05', '05_07', '07_11', '11_15', '15_19', '19_22', '22_present']\n",
    "\n",
    "# Fixed color mapping for all unique parties\n",
    "party_colors = {\n",
    "    \"Alternativet\": \"#66c2a5\",\n",
    "    \"Borgernes Parti\": \"#d53e4f\",\n",
    "    \"Danmarksdemokraterne\": \"#1f78b4\",\n",
    "    \"Dansk Folkeparti\": \"#a6cee3\",\n",
    "    \"Det Konservative Folkeparti\": \"#33a02c\",\n",
    "    \"Enhedslisten\": \"#e31a1c\",\n",
    "    \"Folkaflokkurin\": \"#fb9a99\",\n",
    "    \"Frie Grønne\": \"#b2df8a\",\n",
    "    \"Inuit Ataqatigiit\": \"#fdbf6f\",\n",
    "    \"Javnaðarflokkurin\": \"#ff7f00\",\n",
    "    \"Kristeligt Folkeparti\": \"#cab2d6\",\n",
    "    \"Kristendemokraterne\": \"#6a3d9a\",\n",
    "    \"Liberal Alliance\": \"#ffff99\",\n",
    "    \"Moderaterne\": \"#b15928\",\n",
    "    \"Nunatta Qitornai\": \"#8dd3c7\",\n",
    "    \"Ny Alliance\": \"#ffffb3\",\n",
    "    \"Radikale Venstre\": \"#bebada\",\n",
    "    \"Sambandsflokkurin\": \"#fb8072\",\n",
    "    \"Siumut\": \"#80b1d3\",\n",
    "    \"Socialdemokratiet\": \"#e41a1c\",\n",
    "    \"Socialistisk Folkeparti\": \"#4daf4a\",\n",
    "    \"Tjóðveldi\": \"#ff69b4\",\n",
    "    \"Tjóðveldisflokkurin\": \"#f781bf\",\n",
    "    \"Uden for folketingsgrupperne\": \"#999999\",\n",
    "    \"Venstre\": \"#377eb8\"\n",
    "}\n",
    "\n",
    "for congress in congresses:\n",
    "    # Load edge and node data\n",
    "    edge_path = f\"data/Denmark/Micheles/congress_{congress}_edges.csv\"\n",
    "    node_path = f\"data/Denmark/Raw/P{congress}_DK.csv\"\n",
    "\n",
    "    edges_df = pd.read_csv(edge_path)\n",
    "    nodes_df = pd.read_csv(node_path)\n",
    "\n",
    "    # Create graph from edgelist\n",
    "    G = nx.from_pandas_edgelist(edges_df, source='Source', target='Target')\n",
    "\n",
    "    # Map node IDs to their party\n",
    "    party_dict = nodes_df.set_index(\"aktørid\")[\"party\"].to_dict()\n",
    "\n",
    "    # Generate color map for nodes\n",
    "    color_map = [party_colors.get(party_dict.get(node, None), \"#cccccc\") for node in G.nodes()]\n",
    "\n",
    "    # Determine which parties are present in this graph\n",
    "    present_parties = set(party_dict.get(node, None) for node in G.nodes())\n",
    "    present_parties = {party for party in present_parties if party in party_colors}\n",
    "\n",
    "    # Spring layout for visualization\n",
    "    pos = nx.spring_layout(G, seed=42)\n",
    "\n",
    "    # Draw graph\n",
    "    plt.figure(figsize=(12, 12))\n",
    "    nx.draw_networkx_nodes(G, pos, node_color=color_map, node_size=30)\n",
    "    nx.draw_networkx_edges(G, pos, alpha=0.3, width=0.5)\n",
    "    plt.title(f\"Danish Parliament {congress} Network\", fontsize=14)\n",
    "    plt.axis(\"off\")\n",
    "\n",
    "    # Build legend dynamically for only the present parties\n",
    "    legend_elements = [\n",
    "        Line2D([0], [0], marker='o', color='w', label=party,\n",
    "               markerfacecolor=party_colors[party], markersize=10)\n",
    "        for party in sorted(present_parties)\n",
    "    ]\n",
    "    plt.legend(handles=legend_elements, title=\"Party\", loc='lower left', fontsize='small', frameon=True)\n",
    "\n",
    "    # Save figure\n",
    "    out_path = f\"Images/Denmark_Networks_paper/dk_congress_{congress}_network.png\"\n",
    "    plt.savefig(out_path, dpi=300, bbox_inches='tight')\n",
    "    plt.close()\n",
    "\n"
   ]
  }
 ],
 "metadata": {
  "kernelspec": {
   "display_name": "base",
   "language": "python",
   "name": "python3"
  },
  "language_info": {
   "codemirror_mode": {
    "name": "ipython",
    "version": 3
   },
   "file_extension": ".py",
   "mimetype": "text/x-python",
   "name": "python",
   "nbconvert_exporter": "python",
   "pygments_lexer": "ipython3",
   "version": "3.11.7"
  }
 },
 "nbformat": 4,
 "nbformat_minor": 2
}
