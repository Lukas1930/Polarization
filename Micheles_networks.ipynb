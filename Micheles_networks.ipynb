{
 "cells": [
  {
   "cell_type": "code",
   "execution_count": 1,
   "metadata": {},
   "outputs": [
    {
     "name": "stderr",
     "output_type": "stream",
     "text": [
      "c:\\Users\\kubic\\OneDrive\\Dokumenty\\envs\\polarization\\lib\\site-packages\\tqdm\\auto.py:21: TqdmWarning: IProgress not found. Please update jupyter and ipywidgets. See https://ipywidgets.readthedocs.io/en/stable/user_install.html\n",
      "  from .autonotebook import tqdm as notebook_tqdm\n"
     ]
    }
   ],
   "source": [
    "import pandas as pd\n",
    "import networkx as nx\n",
    "from modules import ps\n",
    "import sys\n",
    "sys.path.append(\"C:/Users/kubic/Desktop/machine learning/Polarization/\")\n",
    "\n",
    "import functions\n",
    "\n",
    "import utils\n",
    "import os\n",
    "import matplotlib.pyplot as plt\n",
    "import seaborn as sns\n",
    "from scipy.sparse import csr_matrix\n",
    "from sklearn.decomposition import PCA\n",
    "from sklearn.manifold import MDS\n",
    "import umap\n",
    "import numpy as np\n",
    "from itertools import combinations\n",
    "from scipy.stats import gaussian_kde"
   ]
  },
  {
   "cell_type": "code",
   "execution_count": 2,
   "metadata": {},
   "outputs": [],
   "source": [
    "def make_all_edges(df):\n",
    "    df = df.groupby(by = [\"rollnumber\", \"cast_code\"]).apply(lambda x: pd.DataFrame(list(combinations(x[\"icpsr\"], 2)))) # \"combinations\" makes all possible pairs of icpsr codes for every vote value\n",
    "    df.columns = (\"src\", \"trg\")\n",
    "    df = df.groupby(by = [\"src\", \"trg\"]).size().reset_index().rename(columns = {0: \"nij\"})                        # Counts how many times a pair of congressmen appears in df (i.e. they co-voted)\n",
    "    return df\n",
    "\n",
    "def make_pdfs(edges, nodes):\n",
    "    party_lookup = nodes.set_index(\"icpsr\")[\"party_code\"].to_dict()\n",
    "    edges[\"party_src\"] = edges[\"src\"].map(party_lookup)\n",
    "    edges[\"party_trg\"] = edges[\"trg\"].map(party_lookup)\n",
    "    edges[\"same_party\"] = edges[\"party_src\"] == edges[\"party_trg\"]\n",
    "    edges[\"nij\"] /= edges[\"nij\"].max()  # Normalize co-vote counts\n",
    "\n",
    "    sp_pdf = gaussian_kde(edges[edges[\"same_party\"]][\"nij\"])\n",
    "    cp_pdf = gaussian_kde(edges[~edges[\"same_party\"]][\"nij\"])\n",
    "    return edges, sp_pdf, cp_pdf\n",
    "def find_intersection(kde1, kde2, init_interval=0.01, scope=[0.4,1], convergence=0.0001):\n",
    "    x_left, x_right = scope[0], scope[0] + init_interval\n",
    "    while x_right < scope[1]:\n",
    "        left, right = kde1(x_left)[0] - kde2(x_left)[0], kde1(x_right)[0] - kde2(x_right)[0]\n",
    "        if left * right < 0:\n",
    "            if init_interval <= convergence:\n",
    "                return x_right\n",
    "            return find_intersection(kde1, kde2, init_interval / 10, [x_left, x_right])\n",
    "        x_left, x_right = x_right, x_right + init_interval\n",
    "    return scope[0]"
   ]
  },
  {
   "cell_type": "code",
   "execution_count": 3,
   "metadata": {},
   "outputs": [
    {
     "name": "stderr",
     "output_type": "stream",
     "text": [
      "C:\\Users\\kubic\\AppData\\Local\\Temp\\ipykernel_5500\\694759260.py:2: DeprecationWarning: DataFrameGroupBy.apply operated on the grouping columns. This behavior is deprecated, and in a future version of pandas the grouping columns will be excluded from the operation. Either pass `include_groups=False` to exclude the groupings or explicitly select the grouping columns after groupby to silence this warning.\n",
      "  df = df.groupby(by = [\"rollnumber\", \"cast_code\"]).apply(lambda x: pd.DataFrame(list(combinations(x[\"icpsr\"], 2)))) # \"combinations\" makes all possible pairs of icpsr codes for every vote value\n"
     ]
    },
    {
     "name": "stdout",
     "output_type": "stream",
     "text": [
      "Saved: Images/Congress_095_density_plot.png\n"
     ]
    },
    {
     "name": "stderr",
     "output_type": "stream",
     "text": [
      "C:\\Users\\kubic\\AppData\\Local\\Temp\\ipykernel_5500\\694759260.py:2: DeprecationWarning: DataFrameGroupBy.apply operated on the grouping columns. This behavior is deprecated, and in a future version of pandas the grouping columns will be excluded from the operation. Either pass `include_groups=False` to exclude the groupings or explicitly select the grouping columns after groupby to silence this warning.\n",
      "  df = df.groupby(by = [\"rollnumber\", \"cast_code\"]).apply(lambda x: pd.DataFrame(list(combinations(x[\"icpsr\"], 2)))) # \"combinations\" makes all possible pairs of icpsr codes for every vote value\n"
     ]
    },
    {
     "name": "stdout",
     "output_type": "stream",
     "text": [
      "Saved: Images/Congress_096_density_plot.png\n"
     ]
    },
    {
     "name": "stderr",
     "output_type": "stream",
     "text": [
      "C:\\Users\\kubic\\AppData\\Local\\Temp\\ipykernel_5500\\694759260.py:2: DeprecationWarning: DataFrameGroupBy.apply operated on the grouping columns. This behavior is deprecated, and in a future version of pandas the grouping columns will be excluded from the operation. Either pass `include_groups=False` to exclude the groupings or explicitly select the grouping columns after groupby to silence this warning.\n",
      "  df = df.groupby(by = [\"rollnumber\", \"cast_code\"]).apply(lambda x: pd.DataFrame(list(combinations(x[\"icpsr\"], 2)))) # \"combinations\" makes all possible pairs of icpsr codes for every vote value\n"
     ]
    },
    {
     "name": "stdout",
     "output_type": "stream",
     "text": [
      "Saved: Images/Congress_097_density_plot.png\n"
     ]
    },
    {
     "name": "stderr",
     "output_type": "stream",
     "text": [
      "C:\\Users\\kubic\\AppData\\Local\\Temp\\ipykernel_5500\\694759260.py:2: DeprecationWarning: DataFrameGroupBy.apply operated on the grouping columns. This behavior is deprecated, and in a future version of pandas the grouping columns will be excluded from the operation. Either pass `include_groups=False` to exclude the groupings or explicitly select the grouping columns after groupby to silence this warning.\n",
      "  df = df.groupby(by = [\"rollnumber\", \"cast_code\"]).apply(lambda x: pd.DataFrame(list(combinations(x[\"icpsr\"], 2)))) # \"combinations\" makes all possible pairs of icpsr codes for every vote value\n"
     ]
    },
    {
     "name": "stdout",
     "output_type": "stream",
     "text": [
      "Saved: Images/Congress_098_density_plot.png\n"
     ]
    },
    {
     "name": "stderr",
     "output_type": "stream",
     "text": [
      "C:\\Users\\kubic\\AppData\\Local\\Temp\\ipykernel_5500\\694759260.py:2: DeprecationWarning: DataFrameGroupBy.apply operated on the grouping columns. This behavior is deprecated, and in a future version of pandas the grouping columns will be excluded from the operation. Either pass `include_groups=False` to exclude the groupings or explicitly select the grouping columns after groupby to silence this warning.\n",
      "  df = df.groupby(by = [\"rollnumber\", \"cast_code\"]).apply(lambda x: pd.DataFrame(list(combinations(x[\"icpsr\"], 2)))) # \"combinations\" makes all possible pairs of icpsr codes for every vote value\n"
     ]
    },
    {
     "name": "stdout",
     "output_type": "stream",
     "text": [
      "Saved: Images/Congress_099_density_plot.png\n"
     ]
    },
    {
     "name": "stderr",
     "output_type": "stream",
     "text": [
      "C:\\Users\\kubic\\AppData\\Local\\Temp\\ipykernel_5500\\694759260.py:2: DeprecationWarning: DataFrameGroupBy.apply operated on the grouping columns. This behavior is deprecated, and in a future version of pandas the grouping columns will be excluded from the operation. Either pass `include_groups=False` to exclude the groupings or explicitly select the grouping columns after groupby to silence this warning.\n",
      "  df = df.groupby(by = [\"rollnumber\", \"cast_code\"]).apply(lambda x: pd.DataFrame(list(combinations(x[\"icpsr\"], 2)))) # \"combinations\" makes all possible pairs of icpsr codes for every vote value\n"
     ]
    },
    {
     "name": "stdout",
     "output_type": "stream",
     "text": [
      "Saved: Images/Congress_100_density_plot.png\n"
     ]
    },
    {
     "name": "stderr",
     "output_type": "stream",
     "text": [
      "C:\\Users\\kubic\\AppData\\Local\\Temp\\ipykernel_5500\\694759260.py:2: DeprecationWarning: DataFrameGroupBy.apply operated on the grouping columns. This behavior is deprecated, and in a future version of pandas the grouping columns will be excluded from the operation. Either pass `include_groups=False` to exclude the groupings or explicitly select the grouping columns after groupby to silence this warning.\n",
      "  df = df.groupby(by = [\"rollnumber\", \"cast_code\"]).apply(lambda x: pd.DataFrame(list(combinations(x[\"icpsr\"], 2)))) # \"combinations\" makes all possible pairs of icpsr codes for every vote value\n"
     ]
    },
    {
     "name": "stdout",
     "output_type": "stream",
     "text": [
      "Saved: Images/Congress_101_density_plot.png\n"
     ]
    },
    {
     "name": "stderr",
     "output_type": "stream",
     "text": [
      "C:\\Users\\kubic\\AppData\\Local\\Temp\\ipykernel_5500\\694759260.py:2: DeprecationWarning: DataFrameGroupBy.apply operated on the grouping columns. This behavior is deprecated, and in a future version of pandas the grouping columns will be excluded from the operation. Either pass `include_groups=False` to exclude the groupings or explicitly select the grouping columns after groupby to silence this warning.\n",
      "  df = df.groupby(by = [\"rollnumber\", \"cast_code\"]).apply(lambda x: pd.DataFrame(list(combinations(x[\"icpsr\"], 2)))) # \"combinations\" makes all possible pairs of icpsr codes for every vote value\n"
     ]
    },
    {
     "name": "stdout",
     "output_type": "stream",
     "text": [
      "Saved: Images/Congress_102_density_plot.png\n"
     ]
    },
    {
     "name": "stderr",
     "output_type": "stream",
     "text": [
      "C:\\Users\\kubic\\AppData\\Local\\Temp\\ipykernel_5500\\694759260.py:2: DeprecationWarning: DataFrameGroupBy.apply operated on the grouping columns. This behavior is deprecated, and in a future version of pandas the grouping columns will be excluded from the operation. Either pass `include_groups=False` to exclude the groupings or explicitly select the grouping columns after groupby to silence this warning.\n",
      "  df = df.groupby(by = [\"rollnumber\", \"cast_code\"]).apply(lambda x: pd.DataFrame(list(combinations(x[\"icpsr\"], 2)))) # \"combinations\" makes all possible pairs of icpsr codes for every vote value\n"
     ]
    },
    {
     "name": "stdout",
     "output_type": "stream",
     "text": [
      "Saved: Images/Congress_103_density_plot.png\n"
     ]
    },
    {
     "name": "stderr",
     "output_type": "stream",
     "text": [
      "C:\\Users\\kubic\\AppData\\Local\\Temp\\ipykernel_5500\\694759260.py:2: DeprecationWarning: DataFrameGroupBy.apply operated on the grouping columns. This behavior is deprecated, and in a future version of pandas the grouping columns will be excluded from the operation. Either pass `include_groups=False` to exclude the groupings or explicitly select the grouping columns after groupby to silence this warning.\n",
      "  df = df.groupby(by = [\"rollnumber\", \"cast_code\"]).apply(lambda x: pd.DataFrame(list(combinations(x[\"icpsr\"], 2)))) # \"combinations\" makes all possible pairs of icpsr codes for every vote value\n"
     ]
    },
    {
     "name": "stdout",
     "output_type": "stream",
     "text": [
      "Saved: Images/Congress_104_density_plot.png\n"
     ]
    },
    {
     "name": "stderr",
     "output_type": "stream",
     "text": [
      "C:\\Users\\kubic\\AppData\\Local\\Temp\\ipykernel_5500\\694759260.py:2: DeprecationWarning: DataFrameGroupBy.apply operated on the grouping columns. This behavior is deprecated, and in a future version of pandas the grouping columns will be excluded from the operation. Either pass `include_groups=False` to exclude the groupings or explicitly select the grouping columns after groupby to silence this warning.\n",
      "  df = df.groupby(by = [\"rollnumber\", \"cast_code\"]).apply(lambda x: pd.DataFrame(list(combinations(x[\"icpsr\"], 2)))) # \"combinations\" makes all possible pairs of icpsr codes for every vote value\n"
     ]
    },
    {
     "name": "stdout",
     "output_type": "stream",
     "text": [
      "Saved: Images/Congress_105_density_plot.png\n"
     ]
    },
    {
     "name": "stderr",
     "output_type": "stream",
     "text": [
      "C:\\Users\\kubic\\AppData\\Local\\Temp\\ipykernel_5500\\694759260.py:2: DeprecationWarning: DataFrameGroupBy.apply operated on the grouping columns. This behavior is deprecated, and in a future version of pandas the grouping columns will be excluded from the operation. Either pass `include_groups=False` to exclude the groupings or explicitly select the grouping columns after groupby to silence this warning.\n",
      "  df = df.groupby(by = [\"rollnumber\", \"cast_code\"]).apply(lambda x: pd.DataFrame(list(combinations(x[\"icpsr\"], 2)))) # \"combinations\" makes all possible pairs of icpsr codes for every vote value\n"
     ]
    },
    {
     "name": "stdout",
     "output_type": "stream",
     "text": [
      "Saved: Images/Congress_106_density_plot.png\n"
     ]
    },
    {
     "name": "stderr",
     "output_type": "stream",
     "text": [
      "C:\\Users\\kubic\\AppData\\Local\\Temp\\ipykernel_5500\\694759260.py:2: DeprecationWarning: DataFrameGroupBy.apply operated on the grouping columns. This behavior is deprecated, and in a future version of pandas the grouping columns will be excluded from the operation. Either pass `include_groups=False` to exclude the groupings or explicitly select the grouping columns after groupby to silence this warning.\n",
      "  df = df.groupby(by = [\"rollnumber\", \"cast_code\"]).apply(lambda x: pd.DataFrame(list(combinations(x[\"icpsr\"], 2)))) # \"combinations\" makes all possible pairs of icpsr codes for every vote value\n"
     ]
    },
    {
     "name": "stdout",
     "output_type": "stream",
     "text": [
      "Saved: Images/Congress_107_density_plot.png\n"
     ]
    },
    {
     "name": "stderr",
     "output_type": "stream",
     "text": [
      "C:\\Users\\kubic\\AppData\\Local\\Temp\\ipykernel_5500\\694759260.py:2: DeprecationWarning: DataFrameGroupBy.apply operated on the grouping columns. This behavior is deprecated, and in a future version of pandas the grouping columns will be excluded from the operation. Either pass `include_groups=False` to exclude the groupings or explicitly select the grouping columns after groupby to silence this warning.\n",
      "  df = df.groupby(by = [\"rollnumber\", \"cast_code\"]).apply(lambda x: pd.DataFrame(list(combinations(x[\"icpsr\"], 2)))) # \"combinations\" makes all possible pairs of icpsr codes for every vote value\n"
     ]
    },
    {
     "name": "stdout",
     "output_type": "stream",
     "text": [
      "Saved: Images/Congress_108_density_plot.png\n"
     ]
    },
    {
     "name": "stderr",
     "output_type": "stream",
     "text": [
      "C:\\Users\\kubic\\AppData\\Local\\Temp\\ipykernel_5500\\694759260.py:2: DeprecationWarning: DataFrameGroupBy.apply operated on the grouping columns. This behavior is deprecated, and in a future version of pandas the grouping columns will be excluded from the operation. Either pass `include_groups=False` to exclude the groupings or explicitly select the grouping columns after groupby to silence this warning.\n",
      "  df = df.groupby(by = [\"rollnumber\", \"cast_code\"]).apply(lambda x: pd.DataFrame(list(combinations(x[\"icpsr\"], 2)))) # \"combinations\" makes all possible pairs of icpsr codes for every vote value\n"
     ]
    },
    {
     "name": "stdout",
     "output_type": "stream",
     "text": [
      "Saved: Images/Congress_109_density_plot.png\n"
     ]
    },
    {
     "name": "stderr",
     "output_type": "stream",
     "text": [
      "C:\\Users\\kubic\\AppData\\Local\\Temp\\ipykernel_5500\\694759260.py:2: DeprecationWarning: DataFrameGroupBy.apply operated on the grouping columns. This behavior is deprecated, and in a future version of pandas the grouping columns will be excluded from the operation. Either pass `include_groups=False` to exclude the groupings or explicitly select the grouping columns after groupby to silence this warning.\n",
      "  df = df.groupby(by = [\"rollnumber\", \"cast_code\"]).apply(lambda x: pd.DataFrame(list(combinations(x[\"icpsr\"], 2)))) # \"combinations\" makes all possible pairs of icpsr codes for every vote value\n"
     ]
    },
    {
     "name": "stdout",
     "output_type": "stream",
     "text": [
      "Saved: Images/Congress_110_density_plot.png\n"
     ]
    },
    {
     "name": "stderr",
     "output_type": "stream",
     "text": [
      "C:\\Users\\kubic\\AppData\\Local\\Temp\\ipykernel_5500\\694759260.py:2: DeprecationWarning: DataFrameGroupBy.apply operated on the grouping columns. This behavior is deprecated, and in a future version of pandas the grouping columns will be excluded from the operation. Either pass `include_groups=False` to exclude the groupings or explicitly select the grouping columns after groupby to silence this warning.\n",
      "  df = df.groupby(by = [\"rollnumber\", \"cast_code\"]).apply(lambda x: pd.DataFrame(list(combinations(x[\"icpsr\"], 2)))) # \"combinations\" makes all possible pairs of icpsr codes for every vote value\n"
     ]
    },
    {
     "name": "stdout",
     "output_type": "stream",
     "text": [
      "Saved: Images/Congress_111_density_plot.png\n"
     ]
    },
    {
     "name": "stderr",
     "output_type": "stream",
     "text": [
      "C:\\Users\\kubic\\AppData\\Local\\Temp\\ipykernel_5500\\694759260.py:2: DeprecationWarning: DataFrameGroupBy.apply operated on the grouping columns. This behavior is deprecated, and in a future version of pandas the grouping columns will be excluded from the operation. Either pass `include_groups=False` to exclude the groupings or explicitly select the grouping columns after groupby to silence this warning.\n",
      "  df = df.groupby(by = [\"rollnumber\", \"cast_code\"]).apply(lambda x: pd.DataFrame(list(combinations(x[\"icpsr\"], 2)))) # \"combinations\" makes all possible pairs of icpsr codes for every vote value\n"
     ]
    },
    {
     "name": "stdout",
     "output_type": "stream",
     "text": [
      "Saved: Images/Congress_112_density_plot.png\n"
     ]
    },
    {
     "name": "stderr",
     "output_type": "stream",
     "text": [
      "C:\\Users\\kubic\\AppData\\Local\\Temp\\ipykernel_5500\\694759260.py:2: DeprecationWarning: DataFrameGroupBy.apply operated on the grouping columns. This behavior is deprecated, and in a future version of pandas the grouping columns will be excluded from the operation. Either pass `include_groups=False` to exclude the groupings or explicitly select the grouping columns after groupby to silence this warning.\n",
      "  df = df.groupby(by = [\"rollnumber\", \"cast_code\"]).apply(lambda x: pd.DataFrame(list(combinations(x[\"icpsr\"], 2)))) # \"combinations\" makes all possible pairs of icpsr codes for every vote value\n"
     ]
    },
    {
     "name": "stdout",
     "output_type": "stream",
     "text": [
      "Saved: Images/Congress_113_density_plot.png\n"
     ]
    },
    {
     "name": "stderr",
     "output_type": "stream",
     "text": [
      "C:\\Users\\kubic\\AppData\\Local\\Temp\\ipykernel_5500\\694759260.py:2: DeprecationWarning: DataFrameGroupBy.apply operated on the grouping columns. This behavior is deprecated, and in a future version of pandas the grouping columns will be excluded from the operation. Either pass `include_groups=False` to exclude the groupings or explicitly select the grouping columns after groupby to silence this warning.\n",
      "  df = df.groupby(by = [\"rollnumber\", \"cast_code\"]).apply(lambda x: pd.DataFrame(list(combinations(x[\"icpsr\"], 2)))) # \"combinations\" makes all possible pairs of icpsr codes for every vote value\n"
     ]
    },
    {
     "name": "stdout",
     "output_type": "stream",
     "text": [
      "Saved: Images/Congress_114_density_plot.png\n"
     ]
    },
    {
     "name": "stderr",
     "output_type": "stream",
     "text": [
      "C:\\Users\\kubic\\AppData\\Local\\Temp\\ipykernel_5500\\694759260.py:2: DeprecationWarning: DataFrameGroupBy.apply operated on the grouping columns. This behavior is deprecated, and in a future version of pandas the grouping columns will be excluded from the operation. Either pass `include_groups=False` to exclude the groupings or explicitly select the grouping columns after groupby to silence this warning.\n",
      "  df = df.groupby(by = [\"rollnumber\", \"cast_code\"]).apply(lambda x: pd.DataFrame(list(combinations(x[\"icpsr\"], 2)))) # \"combinations\" makes all possible pairs of icpsr codes for every vote value\n"
     ]
    },
    {
     "name": "stdout",
     "output_type": "stream",
     "text": [
      "Saved: Images/Congress_115_density_plot.png\n"
     ]
    },
    {
     "name": "stderr",
     "output_type": "stream",
     "text": [
      "C:\\Users\\kubic\\AppData\\Local\\Temp\\ipykernel_5500\\694759260.py:2: DeprecationWarning: DataFrameGroupBy.apply operated on the grouping columns. This behavior is deprecated, and in a future version of pandas the grouping columns will be excluded from the operation. Either pass `include_groups=False` to exclude the groupings or explicitly select the grouping columns after groupby to silence this warning.\n",
      "  df = df.groupby(by = [\"rollnumber\", \"cast_code\"]).apply(lambda x: pd.DataFrame(list(combinations(x[\"icpsr\"], 2)))) # \"combinations\" makes all possible pairs of icpsr codes for every vote value\n"
     ]
    },
    {
     "name": "stdout",
     "output_type": "stream",
     "text": [
      "Saved: Images/Congress_116_density_plot.png\n"
     ]
    },
    {
     "name": "stderr",
     "output_type": "stream",
     "text": [
      "C:\\Users\\kubic\\AppData\\Local\\Temp\\ipykernel_5500\\694759260.py:2: DeprecationWarning: DataFrameGroupBy.apply operated on the grouping columns. This behavior is deprecated, and in a future version of pandas the grouping columns will be excluded from the operation. Either pass `include_groups=False` to exclude the groupings or explicitly select the grouping columns after groupby to silence this warning.\n",
      "  df = df.groupby(by = [\"rollnumber\", \"cast_code\"]).apply(lambda x: pd.DataFrame(list(combinations(x[\"icpsr\"], 2)))) # \"combinations\" makes all possible pairs of icpsr codes for every vote value\n"
     ]
    },
    {
     "name": "stdout",
     "output_type": "stream",
     "text": [
      "Saved: Images/Congress_117_density_plot.png\n"
     ]
    },
    {
     "name": "stderr",
     "output_type": "stream",
     "text": [
      "C:\\Users\\kubic\\AppData\\Local\\Temp\\ipykernel_5500\\694759260.py:2: DeprecationWarning: DataFrameGroupBy.apply operated on the grouping columns. This behavior is deprecated, and in a future version of pandas the grouping columns will be excluded from the operation. Either pass `include_groups=False` to exclude the groupings or explicitly select the grouping columns after groupby to silence this warning.\n",
      "  df = df.groupby(by = [\"rollnumber\", \"cast_code\"]).apply(lambda x: pd.DataFrame(list(combinations(x[\"icpsr\"], 2)))) # \"combinations\" makes all possible pairs of icpsr codes for every vote value\n"
     ]
    },
    {
     "name": "stdout",
     "output_type": "stream",
     "text": [
      "Saved: Images/Congress_118_density_plot.png\n"
     ]
    }
   ],
   "source": [
    "\n",
    "congresses = ['095', '096', '097','098', '099', '100', '101', '102', '103','104',\n",
    "              '105', '106', '107','108', '109', '110', '111', '112','113', '114',\n",
    "              '115', '116','117','118']\n",
    "\n",
    "# Create Images directory if it doesn't exist\n",
    "os.makedirs(\"Images\", exist_ok=True)\n",
    "\n",
    "for congress in congresses:\n",
    "    input_votes = f\"Data/USA/Filtered/H{congress}_filtered_USA_votes.csv\"\n",
    "    try:\n",
    "        votes_df = pd.read_csv(input_votes)\n",
    "        edges_df = make_all_edges(votes_df)\n",
    "        edges_df, sp_pdf, cp_pdf = make_pdfs(edges_df, votes_df)\n",
    "\n",
    "        x_values = np.linspace(0, 1, 1000)\n",
    "        y_sp = sp_pdf(x_values)\n",
    "        y_cp = cp_pdf(x_values)\n",
    "        y_intersection = np.minimum(y_sp, y_cp)\n",
    "\n",
    "        plt.figure(figsize=(8, 5))\n",
    "        plt.plot(x_values, y_sp, label=\"Same-party\", color=\"black\")\n",
    "        plt.plot(x_values, y_cp, label=\"Cross-party\", color=\"gray\")\n",
    "        plt.xlabel(\"Normalized co-vote count\")\n",
    "        plt.ylabel(\"Density\")\n",
    "        plt.title(f\"Density distributions of co-vote counts by party type for {congress}th Congress\")\n",
    "        plt.legend()\n",
    "        plt.tight_layout()\n",
    "\n",
    "        output_path = f\"Images/Congress_{congress}_density_plot.png\"\n",
    "        plt.savefig(output_path)\n",
    "        plt.close()\n",
    "\n",
    "        print(f\"Saved: {output_path}\")\n",
    "    except Exception as e:\n",
    "        print(f\"Error processing Congress {congress}: {e}\")"
   ]
  },
  {
   "cell_type": "code",
   "execution_count": null,
   "metadata": {},
   "outputs": [],
   "source": [
    "def save_network(edges, congress, threshold, output_folder):\n",
    "    edges = edges[edges[\"nij\"] > threshold]\n",
    "    edges = edges[[\"src\", \"trg\"]].astype(int)\n",
    "    \n",
    "    edges_output = os.path.join(output_folder, f\"congress{congress}_edges.csv\")\n",
    "    edges.to_csv(edges_output, sep=\",\", index=False, header=False)\n",
    "    \n",
    "    print(f\"Network saved: {edges_output}\")\n",
    "\n",
    "def process_congresses(congress_list, input_folder, output_folder):\n",
    "    os.makedirs(output_folder, exist_ok=True)\n",
    "\n",
    "    for congress in congress_list:\n",
    "        print(f\"Processing Congress {congress}...\")\n",
    "        input_votes = os.path.join(input_folder, f\"H{congress}_filtered_USA_votes.csv\")\n",
    "        \n",
    "        if not os.path.exists(input_votes):\n",
    "            print(f\"Warning: Data file for Congress {congress} not found, skipping.\")\n",
    "            continue\n",
    "\n",
    "        # Load data\n",
    "        votes_df = pd.read_csv(input_votes)\n",
    "\n",
    "        # Create edgelist\n",
    "        edges_df = make_all_edges(votes_df)\n",
    "\n",
    "        # Generate PDFs\n",
    "        edges_df, sp_pdf, cp_pdf = make_pdfs(edges_df, votes_df)\n",
    "\n",
    "        # Compute intersection (threshold)\n",
    "        threshold = find_intersection(sp_pdf, cp_pdf)\n",
    "\n",
    "        # Save network\n",
    "        save_network(edges_df, congress, threshold, output_folder)\n",
    "\n",
    "# List of congress numbers\n",
    "congresses = ['097']\n",
    "\n",
    "# Run the process\n",
    "input_folder = \"Data/USA/Filtered/\"\n",
    "output_folder = \"Data/USA/Micheles/\"\n",
    "\n",
    "process_congresses(congresses, input_folder, output_folder)"
   ]
  },
  {
   "cell_type": "code",
   "execution_count": null,
   "metadata": {},
   "outputs": [],
   "source": [
    "def calc_pol(congress, data_path=\"data/USA/Raw/\", edge_list_folder=\"Data/USA/Micheles/\"):\n",
    "    edge_list_file = os.path.join(edge_list_folder, f\"congress{congress}_edges.csv\")\n",
    "    \n",
    "    if not os.path.exists(edge_list_file):\n",
    "        print(f\"Warning: Edge list for Congress {congress} not found, skipping.\")\n",
    "        return None  # Skip if no edge list exists\n",
    "\n",
    "    edge_df = pd.read_csv(edge_list_file, header=None, names=['Source', 'Target'])\n",
    "\n",
    "    # Create the graph\n",
    "    G = nx.from_pandas_edgelist(edge_df, 'Source', 'Target')\n",
    "\n",
    "    # Convert nodes to integers\n",
    "    G = nx.relabel_nodes(G, lambda x: int(x))\n",
    "\n",
    "    # Load members' data\n",
    "    members_file = os.path.join(data_path, f\"H{congress}_members.csv\")\n",
    "    if not os.path.exists(members_file):\n",
    "        print(f\"Warning: Members file for Congress {congress} not found, skipping.\")\n",
    "        return None\n",
    "\n",
    "    members_df = pd.read_csv(members_file).dropna(subset=[\"nominate_dim1\"])\n",
    "    members_df[\"icpsr\"] = members_df[\"icpsr\"].astype(int)\n",
    "\n",
    "    # Create dictionary of opinions\n",
    "    opinions_x = dict(zip(members_df[\"icpsr\"], members_df[\"nominate_dim1\"]))\n",
    "\n",
    "    # Filter only existing nodes in the graph\n",
    "    opinions = {node: opinions_x[node] for node in G.nodes if node in opinions_x}\n",
    "\n",
    "    if not opinions:  # If no valid opinions exist, skip\n",
    "        print(f\"Warning: No valid opinions found for Congress {congress}, skipping.\")\n",
    "        return None\n",
    "\n",
    "    # Normalize opinions between -1 and 1\n",
    "    min_opinion, max_opinion = min(opinions.values()), max(opinions.values())\n",
    "    opinions = {k: 2 * (v - min_opinion) / (max_opinion - min_opinion) - 1 for k, v in opinions.items()}\n",
    "\n",
    "    # Compute polarization score\n",
    "    pol_score = ps.ge(opinions, {}, G)\n",
    "    \n",
    "    return pol_score\n",
    "congresses =  ['095', '096', '097','098', '099', '100', '101', '102', '103','104', '105', '106', '107','108', '109', '110', '111', '112','113', '114', '115', '116','117','118']\n",
    "\n",
    "\n",
    "pol_scores = {}\n",
    "for congress in congresses:\n",
    "    pol_score = calc_pol(congress)  # Run function\n",
    "    pol_scores[int(congress)] = pol_score  \n",
    "    print(f\"Congress {int(congress)}: Polarization Score = {pol_score}\")\n",
    "\n",
    "\n",
    "plt.figure(figsize=(10, 5))\n",
    "plt.plot(pol_scores.keys(), pol_scores.values(), marker='o', linestyle='-', color='b', label=\"Polarization Score\")\n",
    "plt.xlabel(\"Congress\")\n",
    "plt.ylabel(\"Polarization Score\")\n",
    "plt.title(\"Polarization Score by Congress\")\n",
    "plt.xticks(list(pol_scores.keys()))  # Set x-axis labels to be congress numbers\n",
    "plt.legend()\n",
    "plt.grid(True)\n",
    "plt.show()"
   ]
  },
  {
   "cell_type": "code",
   "execution_count": 7,
   "metadata": {},
   "outputs": [
    {
     "ename": "NetworkXError",
     "evalue": "Invalid edge_attr argument: No columns found with name: []",
     "output_type": "error",
     "traceback": [
      "\u001b[1;31m---------------------------------------------------------------------------\u001b[0m",
      "\u001b[1;31mNetworkXError\u001b[0m                             Traceback (most recent call last)",
      "Cell \u001b[1;32mIn[7], line 23\u001b[0m\n\u001b[0;32m     20\u001b[0m nodes_df \u001b[38;5;241m=\u001b[39m pd\u001b[38;5;241m.\u001b[39mread_csv(node_path)\n\u001b[0;32m     22\u001b[0m \u001b[38;5;66;03m# Build graph\u001b[39;00m\n\u001b[1;32m---> 23\u001b[0m G \u001b[38;5;241m=\u001b[39m \u001b[43mnx\u001b[49m\u001b[38;5;241;43m.\u001b[39;49m\u001b[43mfrom_pandas_edgelist\u001b[49m\u001b[43m(\u001b[49m\u001b[43medges_df\u001b[49m\u001b[43m,\u001b[49m\u001b[43m \u001b[49m\u001b[43msource\u001b[49m\u001b[38;5;241;43m=\u001b[39;49m\u001b[38;5;124;43m'\u001b[39;49m\u001b[38;5;124;43mSource\u001b[39;49m\u001b[38;5;124;43m'\u001b[39;49m\u001b[43m,\u001b[49m\u001b[43m \u001b[49m\u001b[43mtarget\u001b[49m\u001b[38;5;241;43m=\u001b[39;49m\u001b[38;5;124;43m'\u001b[39;49m\u001b[38;5;124;43mTarget\u001b[39;49m\u001b[38;5;124;43m'\u001b[39;49m\u001b[43m,\u001b[49m\u001b[43m \u001b[49m\u001b[43medge_attr\u001b[49m\u001b[38;5;241;43m=\u001b[39;49m\u001b[38;5;28;43;01mTrue\u001b[39;49;00m\u001b[43m)\u001b[49m\n\u001b[0;32m     25\u001b[0m \u001b[38;5;66;03m# Map party codes to colors\u001b[39;00m\n\u001b[0;32m     26\u001b[0m party_dict \u001b[38;5;241m=\u001b[39m nodes_df\u001b[38;5;241m.\u001b[39mset_index(\u001b[38;5;124m\"\u001b[39m\u001b[38;5;124mid\u001b[39m\u001b[38;5;124m\"\u001b[39m)[\u001b[38;5;124m\"\u001b[39m\u001b[38;5;124mparty_code\u001b[39m\u001b[38;5;124m\"\u001b[39m]\u001b[38;5;241m.\u001b[39mto_dict()\n",
      "File \u001b[1;32mc:\\Users\\kubic\\OneDrive\\Dokumenty\\envs\\polarization\\lib\\site-packages\\networkx\\utils\\backends.py:412\u001b[0m, in \u001b[0;36m_dispatch.__call__\u001b[1;34m(self, backend, *args, **kwargs)\u001b[0m\n\u001b[0;32m    409\u001b[0m \u001b[38;5;28;01mdef\u001b[39;00m\u001b[38;5;250m \u001b[39m\u001b[38;5;21m__call__\u001b[39m(\u001b[38;5;28mself\u001b[39m, \u001b[38;5;241m/\u001b[39m, \u001b[38;5;241m*\u001b[39margs, backend\u001b[38;5;241m=\u001b[39m\u001b[38;5;28;01mNone\u001b[39;00m, \u001b[38;5;241m*\u001b[39m\u001b[38;5;241m*\u001b[39mkwargs):\n\u001b[0;32m    410\u001b[0m     \u001b[38;5;28;01mif\u001b[39;00m \u001b[38;5;129;01mnot\u001b[39;00m backends:\n\u001b[0;32m    411\u001b[0m         \u001b[38;5;66;03m# Fast path if no backends are installed\u001b[39;00m\n\u001b[1;32m--> 412\u001b[0m         \u001b[38;5;28;01mreturn\u001b[39;00m \u001b[38;5;28mself\u001b[39m\u001b[38;5;241m.\u001b[39morig_func(\u001b[38;5;241m*\u001b[39margs, \u001b[38;5;241m*\u001b[39m\u001b[38;5;241m*\u001b[39mkwargs)\n\u001b[0;32m    414\u001b[0m     \u001b[38;5;66;03m# Use `backend_name` in this function instead of `backend`\u001b[39;00m\n\u001b[0;32m    415\u001b[0m     backend_name \u001b[38;5;241m=\u001b[39m backend\n",
      "File \u001b[1;32mc:\\Users\\kubic\\OneDrive\\Dokumenty\\envs\\polarization\\lib\\site-packages\\networkx\\convert_matrix.py:450\u001b[0m, in \u001b[0;36mfrom_pandas_edgelist\u001b[1;34m(df, source, target, edge_attr, create_using, edge_key)\u001b[0m\n\u001b[0;32m    448\u001b[0m     attr_col_headings \u001b[38;5;241m=\u001b[39m [edge_attr]\n\u001b[0;32m    449\u001b[0m \u001b[38;5;28;01mif\u001b[39;00m \u001b[38;5;28mlen\u001b[39m(attr_col_headings) \u001b[38;5;241m==\u001b[39m \u001b[38;5;241m0\u001b[39m:\n\u001b[1;32m--> 450\u001b[0m     \u001b[38;5;28;01mraise\u001b[39;00m nx\u001b[38;5;241m.\u001b[39mNetworkXError(\n\u001b[0;32m    451\u001b[0m         \u001b[38;5;124mf\u001b[39m\u001b[38;5;124m\"\u001b[39m\u001b[38;5;124mInvalid edge_attr argument: No columns found with name: \u001b[39m\u001b[38;5;132;01m{\u001b[39;00mattr_col_headings\u001b[38;5;132;01m}\u001b[39;00m\u001b[38;5;124m\"\u001b[39m\n\u001b[0;32m    452\u001b[0m     )\n\u001b[0;32m    454\u001b[0m \u001b[38;5;28;01mtry\u001b[39;00m:\n\u001b[0;32m    455\u001b[0m     attribute_data \u001b[38;5;241m=\u001b[39m \u001b[38;5;28mzip\u001b[39m(\u001b[38;5;241m*\u001b[39m[df[col] \u001b[38;5;28;01mfor\u001b[39;00m col \u001b[38;5;129;01min\u001b[39;00m attr_col_headings])\n",
      "\u001b[1;31mNetworkXError\u001b[0m: Invalid edge_attr argument: No columns found with name: []"
     ]
    }
   ],
   "source": [
    "party_colors = {\n",
    "    100: \"blue\",   # Democrat\n",
    "    200: \"red\"     # Republican\n",
    "}\n",
    "\n",
    "congresses = ['095', '096', '097','098', '099', '100', '101', '102', '103','104',\n",
    "              '105', '106', '107','108', '109', '110', '111', '112','113', '114',\n",
    "              '115', '116','117','118']\n",
    "\n",
    "# Create output folder\n",
    "os.makedirs(\"Images/networks_paper\", exist_ok=True)\n",
    "\n",
    "for congress in congresses:\n",
    "    # Load edge list\n",
    "    edge_path = f\"Data/USA/Micheles/congress{congress}_edges.csv\"\n",
    "    edges_df = pd.read_csv(edge_path)\n",
    "\n",
    "    # Load node attributes (party_code)\n",
    "    node_path = f\"Data/USA/Filtered/H{congress}_filtered_USA_votes.csv\"\n",
    "    nodes_df = pd.read_csv(node_path)\n",
    "\n",
    "    # Build graph\n",
    "    G = nx.from_pandas_edgelist(edges_df, source='Source', target='Target', edge_attr=True)\n",
    "\n",
    "    # Map party codes to colors\n",
    "    party_dict = nodes_df.set_index(\"id\")[\"party_code\"].to_dict()\n",
    "    color_map = [party_colors.get(party_dict.get(node, None), \"gray\") for node in G.nodes()]\n",
    "\n",
    "    # Generate layout\n",
    "    pos = nx.spring_layout(G, seed=42)\n",
    "\n",
    "    # Draw the network\n",
    "    plt.figure(figsize=(10, 10))\n",
    "    nx.draw_networkx_nodes(G, pos, node_color=color_map, node_size=30)\n",
    "    nx.draw_networkx_edges(G, pos, alpha=0.3, width=0.5)\n",
    "    plt.title(f\"Congress {congress} Network Graph\")\n",
    "    plt.axis(\"off\")\n",
    "\n",
    "    # Save plot\n",
    "    out_path = f\"Images/networks_paper/congress_{congress}_network.png\"\n",
    "    plt.savefig(out_path, dpi=300, bbox_inches='tight')\n",
    "    plt.close()"
   ]
  },
  {
   "cell_type": "markdown",
   "metadata": {},
   "source": [
    "## Denmark"
   ]
  },
  {
   "cell_type": "code",
   "execution_count": 4,
   "metadata": {},
   "outputs": [],
   "source": [
    "def make_all_edges(df):\n",
    "    df = df.groupby(by = [\"afstemningid\", \"typeid_x\"]).apply(lambda x: pd.DataFrame(list(combinations(x[\"aktørid\"], 2)))) # \"combinations\" makes all possible pairs of icpsr codes for every vote value\n",
    "    df.columns = (\"src\", \"trg\")\n",
    "    df = df.groupby(by = [\"src\", \"trg\"]).size().reset_index().rename(columns = {0: \"nij\"})                        # Counts how many times a pair of congressmen appears in df (i.e. they co-voted)\n",
    "    return df\n",
    "\n",
    "def make_pdfs(edges, nodes):\n",
    "    party_lookup = nodes.set_index(\"aktørid\")[\"party\"].to_dict()\n",
    "    edges[\"party_src\"] = edges[\"src\"].map(party_lookup)\n",
    "    edges[\"party_trg\"] = edges[\"trg\"].map(party_lookup)\n",
    "    edges[\"same_party\"] = edges[\"party_src\"] == edges[\"party_trg\"]\n",
    "    edges[\"nij\"] /= edges[\"nij\"].max()  # Normalize co-vote counts\n",
    "\n",
    "    sp_pdf = gaussian_kde(edges[edges[\"same_party\"]][\"nij\"])\n",
    "    cp_pdf = gaussian_kde(edges[~edges[\"same_party\"]][\"nij\"])\n",
    "    return edges, sp_pdf, cp_pdf\n",
    "\n",
    "def find_intersection(kde1, kde2, init_interval=0.01, scope=[0.4,1], convergence=0.0001):\n",
    "    x_left, x_right = scope[0], scope[0] + init_interval\n",
    "    while x_right < scope[1]:\n",
    "        left, right = kde1(x_left)[0] - kde2(x_left)[0], kde1(x_right)[0] - kde2(x_right)[0]\n",
    "        if left * right < 0:\n",
    "            if init_interval <= convergence:\n",
    "                return x_right\n",
    "            return find_intersection(kde1, kde2, init_interval / 10, [x_left, x_right])\n",
    "        x_left, x_right = x_right, x_right + init_interval\n",
    "    return scope[0]"
   ]
  },
  {
   "cell_type": "code",
   "execution_count": 5,
   "metadata": {},
   "outputs": [
    {
     "name": "stderr",
     "output_type": "stream",
     "text": [
      "C:\\Users\\kubic\\AppData\\Local\\Temp\\ipykernel_5500\\1134079950.py:2: DeprecationWarning: DataFrameGroupBy.apply operated on the grouping columns. This behavior is deprecated, and in a future version of pandas the grouping columns will be excluded from the operation. Either pass `include_groups=False` to exclude the groupings or explicitly select the grouping columns after groupby to silence this warning.\n",
      "  df = df.groupby(by = [\"afstemningid\", \"typeid_x\"]).apply(lambda x: pd.DataFrame(list(combinations(x[\"aktørid\"], 2)))) # \"combinations\" makes all possible pairs of icpsr codes for every vote value\n"
     ]
    },
    {
     "name": "stdout",
     "output_type": "stream",
     "text": [
      "Saved: Images/Denmark_Congress_01_05_density_plot.png\n"
     ]
    },
    {
     "name": "stderr",
     "output_type": "stream",
     "text": [
      "C:\\Users\\kubic\\AppData\\Local\\Temp\\ipykernel_5500\\1134079950.py:2: DeprecationWarning: DataFrameGroupBy.apply operated on the grouping columns. This behavior is deprecated, and in a future version of pandas the grouping columns will be excluded from the operation. Either pass `include_groups=False` to exclude the groupings or explicitly select the grouping columns after groupby to silence this warning.\n",
      "  df = df.groupby(by = [\"afstemningid\", \"typeid_x\"]).apply(lambda x: pd.DataFrame(list(combinations(x[\"aktørid\"], 2)))) # \"combinations\" makes all possible pairs of icpsr codes for every vote value\n"
     ]
    },
    {
     "name": "stdout",
     "output_type": "stream",
     "text": [
      "Saved: Images/Denmark_Congress_05_07_density_plot.png\n"
     ]
    },
    {
     "name": "stderr",
     "output_type": "stream",
     "text": [
      "C:\\Users\\kubic\\AppData\\Local\\Temp\\ipykernel_5500\\1134079950.py:2: DeprecationWarning: DataFrameGroupBy.apply operated on the grouping columns. This behavior is deprecated, and in a future version of pandas the grouping columns will be excluded from the operation. Either pass `include_groups=False` to exclude the groupings or explicitly select the grouping columns after groupby to silence this warning.\n",
      "  df = df.groupby(by = [\"afstemningid\", \"typeid_x\"]).apply(lambda x: pd.DataFrame(list(combinations(x[\"aktørid\"], 2)))) # \"combinations\" makes all possible pairs of icpsr codes for every vote value\n"
     ]
    },
    {
     "name": "stdout",
     "output_type": "stream",
     "text": [
      "Saved: Images/Denmark_Congress_07_11_density_plot.png\n"
     ]
    },
    {
     "name": "stderr",
     "output_type": "stream",
     "text": [
      "C:\\Users\\kubic\\AppData\\Local\\Temp\\ipykernel_5500\\1134079950.py:2: DeprecationWarning: DataFrameGroupBy.apply operated on the grouping columns. This behavior is deprecated, and in a future version of pandas the grouping columns will be excluded from the operation. Either pass `include_groups=False` to exclude the groupings or explicitly select the grouping columns after groupby to silence this warning.\n",
      "  df = df.groupby(by = [\"afstemningid\", \"typeid_x\"]).apply(lambda x: pd.DataFrame(list(combinations(x[\"aktørid\"], 2)))) # \"combinations\" makes all possible pairs of icpsr codes for every vote value\n"
     ]
    },
    {
     "name": "stdout",
     "output_type": "stream",
     "text": [
      "Saved: Images/Denmark_Congress_11_15_density_plot.png\n"
     ]
    },
    {
     "name": "stderr",
     "output_type": "stream",
     "text": [
      "C:\\Users\\kubic\\AppData\\Local\\Temp\\ipykernel_5500\\1134079950.py:2: DeprecationWarning: DataFrameGroupBy.apply operated on the grouping columns. This behavior is deprecated, and in a future version of pandas the grouping columns will be excluded from the operation. Either pass `include_groups=False` to exclude the groupings or explicitly select the grouping columns after groupby to silence this warning.\n",
      "  df = df.groupby(by = [\"afstemningid\", \"typeid_x\"]).apply(lambda x: pd.DataFrame(list(combinations(x[\"aktørid\"], 2)))) # \"combinations\" makes all possible pairs of icpsr codes for every vote value\n"
     ]
    },
    {
     "name": "stdout",
     "output_type": "stream",
     "text": [
      "Saved: Images/Denmark_Congress_15_19_density_plot.png\n"
     ]
    },
    {
     "name": "stderr",
     "output_type": "stream",
     "text": [
      "C:\\Users\\kubic\\AppData\\Local\\Temp\\ipykernel_5500\\1134079950.py:2: DeprecationWarning: DataFrameGroupBy.apply operated on the grouping columns. This behavior is deprecated, and in a future version of pandas the grouping columns will be excluded from the operation. Either pass `include_groups=False` to exclude the groupings or explicitly select the grouping columns after groupby to silence this warning.\n",
      "  df = df.groupby(by = [\"afstemningid\", \"typeid_x\"]).apply(lambda x: pd.DataFrame(list(combinations(x[\"aktørid\"], 2)))) # \"combinations\" makes all possible pairs of icpsr codes for every vote value\n"
     ]
    },
    {
     "name": "stdout",
     "output_type": "stream",
     "text": [
      "Saved: Images/Denmark_Congress_19_22_density_plot.png\n"
     ]
    }
   ],
   "source": [
    "congresses = ['01_05','05_07','07_11','11_15','15_19','19_22']\n",
    "for congress in congresses:\n",
    "    input_votes = f\"Data/Denmark/Raw/P{congress}_DK.csv\"\n",
    "    try:\n",
    "        votes_df = pd.read_csv(input_votes)\n",
    "        edges_df = make_all_edges(votes_df)\n",
    "        edges_df, sp_pdf, cp_pdf = make_pdfs(edges_df, votes_df)\n",
    "\n",
    "        x_values = np.linspace(0, 1, 1000)\n",
    "        y_sp = sp_pdf(x_values)\n",
    "        y_cp = cp_pdf(x_values)\n",
    "        y_intersection = np.minimum(y_sp, y_cp)\n",
    "\n",
    "        plt.figure(figsize=(8, 5))\n",
    "        plt.plot(x_values, y_sp, label=\"Same-party\", color=\"black\")\n",
    "        plt.plot(x_values, y_cp, label=\"Cross-party\", color=\"gray\")\n",
    "        plt.xlabel(\"Normalized co-vote count\")\n",
    "        plt.ylabel(\"Density\")\n",
    "        plt.title(f\"Density distributions of co-vote counts by party type for {congress}th Congress Denmark\")\n",
    "        plt.legend()\n",
    "        plt.tight_layout()\n",
    "\n",
    "        output_path = f\"Images/Denmark_Congress_{congress}_density_plot.png\"\n",
    "        plt.savefig(output_path)\n",
    "        plt.close()\n",
    "\n",
    "        print(f\"Saved: {output_path}\")\n",
    "    except Exception as e:\n",
    "        print(f\"Error processing Congress {congress}: {e}\")"
   ]
  },
  {
   "cell_type": "code",
   "execution_count": null,
   "metadata": {},
   "outputs": [],
   "source": []
  },
  {
   "cell_type": "code",
   "execution_count": null,
   "metadata": {},
   "outputs": [
    {
     "name": "stdout",
     "output_type": "stream",
     "text": [
      "Processing Congress 01_05...\n"
     ]
    },
    {
     "name": "stderr",
     "output_type": "stream",
     "text": [
      "C:\\Users\\kubic\\AppData\\Local\\Temp\\ipykernel_19252\\3087672235.py:2: DeprecationWarning: DataFrameGroupBy.apply operated on the grouping columns. This behavior is deprecated, and in a future version of pandas the grouping columns will be excluded from the operation. Either pass `include_groups=False` to exclude the groupings or explicitly select the grouping columns after groupby to silence this warning.\n",
      "  df = df.groupby(by = [\"afstemningid\", \"typeid_x\"]).apply(lambda x: pd.DataFrame(list(combinations(x[\"aktørid\"], 2)))) # \"combinations\" makes all possible pairs of icpsr codes for every vote value\n"
     ]
    },
    {
     "name": "stdout",
     "output_type": "stream",
     "text": [
      "Network saved: Data/Denmark/Micheles/congress_01_05_edges.csv\n",
      "Processing Congress 05_07...\n"
     ]
    },
    {
     "name": "stderr",
     "output_type": "stream",
     "text": [
      "C:\\Users\\kubic\\AppData\\Local\\Temp\\ipykernel_19252\\3087672235.py:2: DeprecationWarning: DataFrameGroupBy.apply operated on the grouping columns. This behavior is deprecated, and in a future version of pandas the grouping columns will be excluded from the operation. Either pass `include_groups=False` to exclude the groupings or explicitly select the grouping columns after groupby to silence this warning.\n",
      "  df = df.groupby(by = [\"afstemningid\", \"typeid_x\"]).apply(lambda x: pd.DataFrame(list(combinations(x[\"aktørid\"], 2)))) # \"combinations\" makes all possible pairs of icpsr codes for every vote value\n"
     ]
    },
    {
     "name": "stdout",
     "output_type": "stream",
     "text": [
      "Network saved: Data/Denmark/Micheles/congress_05_07_edges.csv\n",
      "Processing Congress 07_11...\n"
     ]
    },
    {
     "name": "stderr",
     "output_type": "stream",
     "text": [
      "C:\\Users\\kubic\\AppData\\Local\\Temp\\ipykernel_19252\\3087672235.py:2: DeprecationWarning: DataFrameGroupBy.apply operated on the grouping columns. This behavior is deprecated, and in a future version of pandas the grouping columns will be excluded from the operation. Either pass `include_groups=False` to exclude the groupings or explicitly select the grouping columns after groupby to silence this warning.\n",
      "  df = df.groupby(by = [\"afstemningid\", \"typeid_x\"]).apply(lambda x: pd.DataFrame(list(combinations(x[\"aktørid\"], 2)))) # \"combinations\" makes all possible pairs of icpsr codes for every vote value\n"
     ]
    },
    {
     "name": "stdout",
     "output_type": "stream",
     "text": [
      "Network saved: Data/Denmark/Micheles/congress_07_11_edges.csv\n",
      "Processing Congress 11_15...\n"
     ]
    },
    {
     "name": "stderr",
     "output_type": "stream",
     "text": [
      "C:\\Users\\kubic\\AppData\\Local\\Temp\\ipykernel_19252\\3087672235.py:2: DeprecationWarning: DataFrameGroupBy.apply operated on the grouping columns. This behavior is deprecated, and in a future version of pandas the grouping columns will be excluded from the operation. Either pass `include_groups=False` to exclude the groupings or explicitly select the grouping columns after groupby to silence this warning.\n",
      "  df = df.groupby(by = [\"afstemningid\", \"typeid_x\"]).apply(lambda x: pd.DataFrame(list(combinations(x[\"aktørid\"], 2)))) # \"combinations\" makes all possible pairs of icpsr codes for every vote value\n"
     ]
    },
    {
     "name": "stdout",
     "output_type": "stream",
     "text": [
      "Network saved: Data/Denmark/Micheles/congress_11_15_edges.csv\n",
      "Processing Congress 15_19...\n"
     ]
    },
    {
     "name": "stderr",
     "output_type": "stream",
     "text": [
      "C:\\Users\\kubic\\AppData\\Local\\Temp\\ipykernel_19252\\3087672235.py:2: DeprecationWarning: DataFrameGroupBy.apply operated on the grouping columns. This behavior is deprecated, and in a future version of pandas the grouping columns will be excluded from the operation. Either pass `include_groups=False` to exclude the groupings or explicitly select the grouping columns after groupby to silence this warning.\n",
      "  df = df.groupby(by = [\"afstemningid\", \"typeid_x\"]).apply(lambda x: pd.DataFrame(list(combinations(x[\"aktørid\"], 2)))) # \"combinations\" makes all possible pairs of icpsr codes for every vote value\n"
     ]
    },
    {
     "name": "stdout",
     "output_type": "stream",
     "text": [
      "Network saved: Data/Denmark/Micheles/congress_15_19_edges.csv\n",
      "Processing Congress 19_22...\n"
     ]
    },
    {
     "name": "stderr",
     "output_type": "stream",
     "text": [
      "C:\\Users\\kubic\\AppData\\Local\\Temp\\ipykernel_19252\\3087672235.py:2: DeprecationWarning: DataFrameGroupBy.apply operated on the grouping columns. This behavior is deprecated, and in a future version of pandas the grouping columns will be excluded from the operation. Either pass `include_groups=False` to exclude the groupings or explicitly select the grouping columns after groupby to silence this warning.\n",
      "  df = df.groupby(by = [\"afstemningid\", \"typeid_x\"]).apply(lambda x: pd.DataFrame(list(combinations(x[\"aktørid\"], 2)))) # \"combinations\" makes all possible pairs of icpsr codes for every vote value\n"
     ]
    },
    {
     "name": "stdout",
     "output_type": "stream",
     "text": [
      "Network saved: Data/Denmark/Micheles/congress_19_22_edges.csv\n"
     ]
    }
   ],
   "source": [
    "def save_network(edges, congress, threshold, output_folder):\n",
    "    edges = edges[edges[\"nij\"] > threshold]\n",
    "    edges = edges[[\"src\", \"trg\"]].astype(int)\n",
    "    \n",
    "    edges_output = os.path.join(output_folder, f\"congress_{congress}_edges.csv\")\n",
    "    edges.to_csv(edges_output, sep=\",\", index=False, header=False)\n",
    "    \n",
    "    print(f\"Network saved: {edges_output}\")\n",
    "\n",
    "def process_congresses(congress_list, input_folder, output_folder):\n",
    "    os.makedirs(output_folder, exist_ok=True)\n",
    "\n",
    "    for congress in congress_list:\n",
    "        print(f\"Processing Congress {congress}...\")\n",
    "        input_votes = os.path.join(input_folder, f\"P{congress}_DK.csv\")\n",
    "        \n",
    "        if not os.path.exists(input_votes):\n",
    "            print(f\"Warning: Data file for Congress {congress} not found, skipping.\")\n",
    "            continue\n",
    "\n",
    "        # Load data\n",
    "        votes_df = pd.read_csv(input_votes)\n",
    "\n",
    "        # Create edgelist\n",
    "        edges_df = make_all_edges(votes_df)\n",
    "\n",
    "        # Generate PDFs\n",
    "        edges_df, sp_pdf, cp_pdf = make_pdfs(edges_df, votes_df)\n",
    "\n",
    "        # Compute intersection (threshold)\n",
    "        threshold = find_intersection(sp_pdf, cp_pdf)\n",
    "\n",
    "        # Save network\n",
    "        save_network(edges_df, congress, threshold, output_folder)\n",
    "\n",
    "# List of congress numbers\n",
    "congresses = ['01_05','05_07','07_11','11_15','15_19','19_22']\n",
    "\n",
    "# Run the process\n",
    "input_folder = \"Data/Denmark/Raw\"\n",
    "output_folder = \"Data/Denmark/Micheles/\"\n",
    "\n",
    "process_congresses(congresses, input_folder, output_folder)"
   ]
  }
 ],
 "metadata": {
  "kernelspec": {
   "display_name": "polarization",
   "language": "python",
   "name": "python3"
  },
  "language_info": {
   "codemirror_mode": {
    "name": "ipython",
    "version": 3
   },
   "file_extension": ".py",
   "mimetype": "text/x-python",
   "name": "python",
   "nbconvert_exporter": "python",
   "pygments_lexer": "ipython3",
   "version": "3.9.21"
  }
 },
 "nbformat": 4,
 "nbformat_minor": 2
}
