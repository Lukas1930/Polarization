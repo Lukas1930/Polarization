{
 "cells": [
  {
   "cell_type": "code",
   "execution_count": 24,
   "metadata": {},
   "outputs": [],
   "source": [
    "import pandas as pd\n",
    "\n",
    "\n",
    "members_118 = pd.read_csv('H118_members.csv')\n",
    "votes_118 = pd.read_csv('H118_votes.csv')\n",
    "\n",
    "members_118['icpsr'] = members_118['icpsr'].astype('Int64')\n",
    "votes_118['icpsr'] = votes_118['icpsr'].astype('Int64')\n",
    "\n",
    "merged_118 = votes_118.merge(members_118, on='icpsr')\n"
   ]
  },
  {
   "cell_type": "code",
   "execution_count": 25,
   "metadata": {},
   "outputs": [],
   "source": [
    "merged_118 = merged_118[[\"icpsr\", \"state_abbrev\", \"party_code\", \"cast_code\", \"rollnumber\", \"nominate_dim1\", \"nominate_dim2\"]]"
   ]
  },
  {
   "cell_type": "code",
   "execution_count": 27,
   "metadata": {},
   "outputs": [],
   "source": [
    "merged_118[\"cast_code\"] = merged_118[\"cast_code\"].apply(lambda x: 1 if 1 <= x <= 3 else (2 if 4 <= x <= 6 else x))"
   ]
  },
  {
   "cell_type": "code",
   "execution_count": 22,
   "metadata": {},
   "outputs": [],
   "source": [
    "merged_118 = merged_118.drop(merged_118[merged_118[\"cast_code\"]== 2].index)"
   ]
  },
  {
   "cell_type": "code",
   "execution_count": 28,
   "metadata": {},
   "outputs": [],
   "source": [
    "merged_118.to_csv(\"filtered_USA_votes.csv\")"
   ]
  }
 ],
 "metadata": {
  "kernelspec": {
   "display_name": "base",
   "language": "python",
   "name": "python3"
  },
  "language_info": {
   "codemirror_mode": {
    "name": "ipython",
    "version": 3
   },
   "file_extension": ".py",
   "mimetype": "text/x-python",
   "name": "python",
   "nbconvert_exporter": "python",
   "pygments_lexer": "ipython3",
   "version": "3.11.7"
  }
 },
 "nbformat": 4,
 "nbformat_minor": 2
}
