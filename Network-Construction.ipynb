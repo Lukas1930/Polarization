{
 "cells": [
  {
   "cell_type": "code",
   "execution_count": 32,
   "metadata": {},
   "outputs": [],
   "source": [
    "import pandas as pd\n",
    "import networkx as nx"
   ]
  },
  {
   "cell_type": "code",
   "execution_count": 204,
   "metadata": {},
   "outputs": [],
   "source": [
    "D_data = pd.read_csv('data/Denmark/Merged.csv')"
   ]
  },
  {
   "cell_type": "code",
   "execution_count": 201,
   "metadata": {},
   "outputs": [],
   "source": [
    "#dict, key = id, values = (afstemningid, typeid)\n",
    "# dict of all people with all their votes (voting id and what they voted)\n",
    "\n",
    "PA = {}          #<<-------------- Person, Afstemning\n",
    "for idx, row in D_data.iterrows():\n",
    "    if row['aktørid'] not in PA:\n",
    "        PA[row['aktørid']] = [(row['afstemningid'])]\n",
    "    else:\n",
    "        PA[row['aktørid']].append((row['afstemningid']))\n",
    "\n",
    "PAV = {}          #<<-------------- Person, Afstemning, Vote\n",
    "for idx, row in D_data.iterrows():\n",
    "    if row['aktørid'] not in PAV:\n",
    "        PAV[row['aktørid']] = [(row['afstemningid'],row['typeid_x'])]\n",
    "    else:\n",
    "        PAV[row['aktørid']].append((row['afstemningid'],row['typeid_x']))\n",
    "\n",
    "\n",
    "PAVP = {}          #<<-------------- Person, Afstemning, Vote, Party\n",
    "for idx, row in D_data.iterrows():\n",
    "    if row['aktørid'] not in PAVP:\n",
    "        PAVP[row['aktørid']] = [(row['afstemningid'],row['typeid_x'],row['party'],row['navn'])]\n",
    "    else:\n",
    "        PAVP[row['aktørid']].append((row['afstemningid'],row['typeid_x'],row['party'],row['navn']))\n",
    "\n",
    "#dict of parties with memberid as values\n",
    "\n",
    "PP = {}          #<<-------------- Party, Person\n",
    "for idx, row in D_data.iterrows():\n",
    "    if row['party'] not in PP:\n",
    "        PP[row['party']] = [(row['aktørid'])]\n",
    "    elif row['aktørid'] not in PP.get(row['party']):\n",
    "        PP[row['party']].append((row['aktørid']))\n"
   ]
  },
  {
   "cell_type": "code",
   "execution_count": 203,
   "metadata": {},
   "outputs": [
    {
     "name": "stdout",
     "output_type": "stream",
     "text": [
      "Dansk Folkeparti\n",
      "0.7131058848154556\n",
      "Socialdemokratiet\n",
      "0.7773681378540838\n",
      "Venstre\n",
      "0.8688802887624217\n",
      "Danmarksdemokraterne\n",
      "0.8349127150929796\n",
      "Liberal Alliance\n",
      "0.5574429526993784\n",
      "Radikale Venstre\n",
      "0.5868395347430496\n",
      "Enhedslisten\n",
      "0.5695719639722808\n",
      "Socialistisk Folkeparti\n",
      "0.5652961193101963\n",
      "Det Konservative Folkeparti\n",
      "0.4762884867519149\n",
      "Moderaterne\n",
      "0.7644365794715285\n",
      "Alternativet\n",
      "0.440163200388058\n",
      "Uden for folketingsgrupperne\n",
      "0.3916371462855218\n",
      "Sambandsflokkurin\n",
      "0.0\n",
      "Inuit Ataqatigiit\n",
      "Inuit Ataqatigiit\n",
      "1\n",
      "Siumut\n",
      "0.0\n",
      "Borgernes Parti\n",
      "Borgernes Parti\n",
      "1\n",
      "Frie Grønne\n",
      "0.9975961538461539\n",
      "Javnaðarflokkurin\n",
      "Javnaðarflokkurin\n",
      "1\n",
      "0.9975961538461539\n"
     ]
    },
    {
     "data": {
      "text/plain": [
       "0.5695692775995348"
      ]
     },
     "execution_count": 203,
     "metadata": {},
     "output_type": "execute_result"
    }
   ],
   "source": [
    "#we check both ways, we calc both i -> j and j->i.\n",
    "# person 221 as i and 1619 as j, and the other way. 1619 as i and 221 as j. is that a problem? \n",
    "#there are prob some variables that needs renaming\n",
    "\n",
    "def calc_thres(PP, PA, PAV):\n",
    "    party_agree = []\n",
    "    for party in PP:\n",
    "        print(party)\n",
    "        memb_agree = []\n",
    "        for member1 in PP.get(party):\n",
    "            for member2 in set(PP.get(party)):\n",
    "                if member1 != member2:\n",
    "                    common = set(PAV.get(member1)) & set(PAV.get(member2)) # how many votes do they agree on \n",
    "                \n",
    "                    common2 = set(PA.get(member1)) & set(PA.get(member2)) # how many same bills have they voted on\n",
    "\n",
    "                    if len(common) != 0: # if they have at least one vote thats the same, (too avoid divide by 0)\n",
    "                    \n",
    "                        percentage = len(common) / len(common2)\n",
    "                        memb_agree.append(percentage)\n",
    "                    else:\n",
    "                        memb_agree.append(0)\n",
    "        if len(memb_agree) != 0:\n",
    "            avgMemb = sum(memb_agree)/len(memb_agree)\n",
    "            party_agree.append(avgMemb)\n",
    "            print(avgMemb)\n",
    "        else:\n",
    "            print(party) # party where there is only one member\n",
    "            print('1')\n",
    "            #party_agree.append(1)\n",
    "    avgParty = sum(party_agree)/len(party_agree)\n",
    "    print(max(party_agree))\n",
    "    return avgParty\n",
    "\n",
    "res = calc_thres(PP,PA,PAV)\n",
    "res"
   ]
  },
  {
   "cell_type": "code",
   "execution_count": 194,
   "metadata": {},
   "outputs": [],
   "source": [
    "def edgelist_calc(PA, PAV, threshold):\n",
    "    edgelist=[]\n",
    "    for i in PAV: # person 1\n",
    "\n",
    "        for j in PAV: # for loop for person 2\n",
    "\n",
    "            if i != j: # checks they are not the same\n",
    "\n",
    "                common = set(PAV.get(i)) & set(PAV.get(j)) # how many votes do they agree on \n",
    "                \n",
    "                common2 = set(PA.get(i)) & set(PA.get(j)) # how many same bills have they voted on\n",
    "\n",
    "                if len(common) != 0: # if they have at least one vote thats the same, (too avoid divide by 0)\n",
    "                    \n",
    "                    percentage = len(common) / len(common2)\n",
    "                    if percentage > threshold:\n",
    "                        edgelist.append((i,j))\n",
    "                \n",
    "\n",
    "    return list(set(edgelist))\n",
    "    "
   ]
  },
  {
   "cell_type": "code",
   "execution_count": 196,
   "metadata": {},
   "outputs": [],
   "source": [
    "edgelist = edgelist_calc(PA,PAV, res)\n",
    "G_denmark = nx.from_edgelist(edgelist)"
   ]
  },
  {
   "cell_type": "code",
   "execution_count": 183,
   "metadata": {},
   "outputs": [
    {
     "data": {
      "text/plain": [
       "76572"
      ]
     },
     "execution_count": 183,
     "metadata": {},
     "output_type": "execute_result"
    }
   ],
   "source": [
    "len(edgelist)"
   ]
  },
  {
   "cell_type": "code",
   "execution_count": 185,
   "metadata": {},
   "outputs": [
    {
     "data": {
      "text/plain": [
       "[]"
      ]
     },
     "execution_count": 185,
     "metadata": {},
     "output_type": "execute_result"
    }
   ],
   "source": [
    "list_of_dangle = [node for node in G_denmark.nodes if G_denmark.degree(node) == 0]\n",
    "list_of_dangle"
   ]
  },
  {
   "cell_type": "code",
   "execution_count": null,
   "metadata": {},
   "outputs": [],
   "source": [
    "#----------------------------------------------------------------------------------------------------------------#\n",
    "#------------------------------------------USA-------------------------------------------------------------------#\n",
    "#----------------------------------------------------------------------------------------------------------------#\n",
    "USA_data = pd.read_csv('data/USA/filtered_USA_votes.csv')"
   ]
  },
  {
   "cell_type": "code",
   "execution_count": null,
   "metadata": {},
   "outputs": [
    {
     "data": {
      "text/html": [
       "<div>\n",
       "<style scoped>\n",
       "    .dataframe tbody tr th:only-of-type {\n",
       "        vertical-align: middle;\n",
       "    }\n",
       "\n",
       "    .dataframe tbody tr th {\n",
       "        vertical-align: top;\n",
       "    }\n",
       "\n",
       "    .dataframe thead th {\n",
       "        text-align: right;\n",
       "    }\n",
       "</style>\n",
       "<table border=\"1\" class=\"dataframe\">\n",
       "  <thead>\n",
       "    <tr style=\"text-align: right;\">\n",
       "      <th></th>\n",
       "      <th>congress</th>\n",
       "      <th>icpsr</th>\n",
       "      <th>state_abbrev</th>\n",
       "      <th>party_code</th>\n",
       "      <th>cast_code</th>\n",
       "      <th>rollnumber</th>\n",
       "    </tr>\n",
       "  </thead>\n",
       "  <tbody>\n",
       "    <tr>\n",
       "      <th>0</th>\n",
       "      <td>117</td>\n",
       "      <td>14066</td>\n",
       "      <td>AK</td>\n",
       "      <td>200</td>\n",
       "      <td>2</td>\n",
       "      <td>1</td>\n",
       "    </tr>\n",
       "    <tr>\n",
       "      <th>1</th>\n",
       "      <td>117</td>\n",
       "      <td>14854</td>\n",
       "      <td>KY</td>\n",
       "      <td>200</td>\n",
       "      <td>2</td>\n",
       "      <td>1</td>\n",
       "    </tr>\n",
       "    <tr>\n",
       "      <th>2</th>\n",
       "      <td>117</td>\n",
       "      <td>14863</td>\n",
       "      <td>NJ</td>\n",
       "      <td>200</td>\n",
       "      <td>2</td>\n",
       "      <td>1</td>\n",
       "    </tr>\n",
       "    <tr>\n",
       "      <th>3</th>\n",
       "      <td>117</td>\n",
       "      <td>14873</td>\n",
       "      <td>MD</td>\n",
       "      <td>100</td>\n",
       "      <td>1</td>\n",
       "      <td>1</td>\n",
       "    </tr>\n",
       "    <tr>\n",
       "      <th>4</th>\n",
       "      <td>117</td>\n",
       "      <td>15019</td>\n",
       "      <td>TN</td>\n",
       "      <td>100</td>\n",
       "      <td>1</td>\n",
       "      <td>1</td>\n",
       "    </tr>\n",
       "    <tr>\n",
       "      <th>...</th>\n",
       "      <td>...</td>\n",
       "      <td>...</td>\n",
       "      <td>...</td>\n",
       "      <td>...</td>\n",
       "      <td>...</td>\n",
       "      <td>...</td>\n",
       "    </tr>\n",
       "    <tr>\n",
       "      <th>937110</th>\n",
       "      <td>118</td>\n",
       "      <td>29911</td>\n",
       "      <td>IL</td>\n",
       "      <td>100</td>\n",
       "      <td>1</td>\n",
       "      <td>1235</td>\n",
       "    </tr>\n",
       "    <tr>\n",
       "      <th>937111</th>\n",
       "      <td>118</td>\n",
       "      <td>31101</td>\n",
       "      <td>WA</td>\n",
       "      <td>100</td>\n",
       "      <td>1</td>\n",
       "      <td>1235</td>\n",
       "    </tr>\n",
       "    <tr>\n",
       "      <th>937112</th>\n",
       "      <td>118</td>\n",
       "      <td>31102</td>\n",
       "      <td>KY</td>\n",
       "      <td>200</td>\n",
       "      <td>2</td>\n",
       "      <td>1235</td>\n",
       "    </tr>\n",
       "    <tr>\n",
       "      <th>937113</th>\n",
       "      <td>118</td>\n",
       "      <td>39307</td>\n",
       "      <td>VA</td>\n",
       "      <td>100</td>\n",
       "      <td>1</td>\n",
       "      <td>1235</td>\n",
       "    </tr>\n",
       "    <tr>\n",
       "      <th>937114</th>\n",
       "      <td>118</td>\n",
       "      <td>91980</td>\n",
       "      <td>NJ</td>\n",
       "      <td>200</td>\n",
       "      <td>1</td>\n",
       "      <td>1235</td>\n",
       "    </tr>\n",
       "  </tbody>\n",
       "</table>\n",
       "<p>937115 rows × 6 columns</p>\n",
       "</div>"
      ],
      "text/plain": [
       "        congress  icpsr state_abbrev  party_code  cast_code  rollnumber\n",
       "0            117  14066           AK         200          2           1\n",
       "1            117  14854           KY         200          2           1\n",
       "2            117  14863           NJ         200          2           1\n",
       "3            117  14873           MD         100          1           1\n",
       "4            117  15019           TN         100          1           1\n",
       "...          ...    ...          ...         ...        ...         ...\n",
       "937110       118  29911           IL         100          1        1235\n",
       "937111       118  31101           WA         100          1        1235\n",
       "937112       118  31102           KY         200          2        1235\n",
       "937113       118  39307           VA         100          1        1235\n",
       "937114       118  91980           NJ         200          1        1235\n",
       "\n",
       "[937115 rows x 6 columns]"
      ]
     },
     "execution_count": 206,
     "metadata": {},
     "output_type": "execute_result"
    }
   ],
   "source": [
    "USA_data"
   ]
  },
  {
   "cell_type": "code",
   "execution_count": null,
   "metadata": {},
   "outputs": [
    {
     "ename": "KeyError",
     "evalue": "'party'",
     "output_type": "error",
     "traceback": [
      "\u001b[0;31m---------------------------------------------------------------------------\u001b[0m",
      "\u001b[0;31mKeyError\u001b[0m                                  Traceback (most recent call last)",
      "File \u001b[0;32m/opt/anaconda3/lib/python3.11/site-packages/pandas/core/indexes/base.py:3791\u001b[0m, in \u001b[0;36mIndex.get_loc\u001b[0;34m(self, key)\u001b[0m\n\u001b[1;32m   3790\u001b[0m \u001b[38;5;28;01mtry\u001b[39;00m:\n\u001b[0;32m-> 3791\u001b[0m     \u001b[38;5;28;01mreturn\u001b[39;00m \u001b[38;5;28mself\u001b[39m\u001b[38;5;241m.\u001b[39m_engine\u001b[38;5;241m.\u001b[39mget_loc(casted_key)\n\u001b[1;32m   3792\u001b[0m \u001b[38;5;28;01mexcept\u001b[39;00m \u001b[38;5;167;01mKeyError\u001b[39;00m \u001b[38;5;28;01mas\u001b[39;00m err:\n",
      "File \u001b[0;32mindex.pyx:152\u001b[0m, in \u001b[0;36mpandas._libs.index.IndexEngine.get_loc\u001b[0;34m()\u001b[0m\n",
      "File \u001b[0;32mindex.pyx:181\u001b[0m, in \u001b[0;36mpandas._libs.index.IndexEngine.get_loc\u001b[0;34m()\u001b[0m\n",
      "File \u001b[0;32mpandas/_libs/hashtable_class_helper.pxi:7080\u001b[0m, in \u001b[0;36mpandas._libs.hashtable.PyObjectHashTable.get_item\u001b[0;34m()\u001b[0m\n",
      "File \u001b[0;32mpandas/_libs/hashtable_class_helper.pxi:7088\u001b[0m, in \u001b[0;36mpandas._libs.hashtable.PyObjectHashTable.get_item\u001b[0;34m()\u001b[0m\n",
      "\u001b[0;31mKeyError\u001b[0m: 'party'",
      "\nThe above exception was the direct cause of the following exception:\n",
      "\u001b[0;31mKeyError\u001b[0m                                  Traceback (most recent call last)",
      "Cell \u001b[0;32mIn[208], line 31\u001b[0m\n\u001b[1;32m     29\u001b[0m \u001b[38;5;28;01mfor\u001b[39;00m idx, row \u001b[38;5;129;01min\u001b[39;00m USA_data\u001b[38;5;241m.\u001b[39miterrows():\n\u001b[1;32m     30\u001b[0m     \u001b[38;5;28;01mif\u001b[39;00m row[\u001b[38;5;124m'\u001b[39m\u001b[38;5;124mcongress\u001b[39m\u001b[38;5;124m'\u001b[39m] \u001b[38;5;241m==\u001b[39m \u001b[38;5;241m118\u001b[39m:\n\u001b[0;32m---> 31\u001b[0m         \u001b[38;5;28;01mif\u001b[39;00m row[\u001b[38;5;124m'\u001b[39m\u001b[38;5;124mparty\u001b[39m\u001b[38;5;124m'\u001b[39m] \u001b[38;5;129;01mnot\u001b[39;00m \u001b[38;5;129;01min\u001b[39;00m U_PP:\n\u001b[1;32m     32\u001b[0m             U_PP[row[\u001b[38;5;124m'\u001b[39m\u001b[38;5;124mparty\u001b[39m\u001b[38;5;124m'\u001b[39m]] \u001b[38;5;241m=\u001b[39m [(row[\u001b[38;5;124m'\u001b[39m\u001b[38;5;124micpsr\u001b[39m\u001b[38;5;124m'\u001b[39m])]\n\u001b[1;32m     33\u001b[0m         \u001b[38;5;28;01melif\u001b[39;00m row[\u001b[38;5;124m'\u001b[39m\u001b[38;5;124micpsr\u001b[39m\u001b[38;5;124m'\u001b[39m] \u001b[38;5;129;01mnot\u001b[39;00m \u001b[38;5;129;01min\u001b[39;00m U_PP\u001b[38;5;241m.\u001b[39mget(row[\u001b[38;5;124m'\u001b[39m\u001b[38;5;124mparty\u001b[39m\u001b[38;5;124m'\u001b[39m]):\n",
      "File \u001b[0;32m/opt/anaconda3/lib/python3.11/site-packages/pandas/core/series.py:1040\u001b[0m, in \u001b[0;36mSeries.__getitem__\u001b[0;34m(self, key)\u001b[0m\n\u001b[1;32m   1037\u001b[0m     \u001b[38;5;28;01mreturn\u001b[39;00m \u001b[38;5;28mself\u001b[39m\u001b[38;5;241m.\u001b[39m_values[key]\n\u001b[1;32m   1039\u001b[0m \u001b[38;5;28;01melif\u001b[39;00m key_is_scalar:\n\u001b[0;32m-> 1040\u001b[0m     \u001b[38;5;28;01mreturn\u001b[39;00m \u001b[38;5;28mself\u001b[39m\u001b[38;5;241m.\u001b[39m_get_value(key)\n\u001b[1;32m   1042\u001b[0m \u001b[38;5;66;03m# Convert generator to list before going through hashable part\u001b[39;00m\n\u001b[1;32m   1043\u001b[0m \u001b[38;5;66;03m# (We will iterate through the generator there to check for slices)\u001b[39;00m\n\u001b[1;32m   1044\u001b[0m \u001b[38;5;28;01mif\u001b[39;00m is_iterator(key):\n",
      "File \u001b[0;32m/opt/anaconda3/lib/python3.11/site-packages/pandas/core/series.py:1156\u001b[0m, in \u001b[0;36mSeries._get_value\u001b[0;34m(self, label, takeable)\u001b[0m\n\u001b[1;32m   1153\u001b[0m     \u001b[38;5;28;01mreturn\u001b[39;00m \u001b[38;5;28mself\u001b[39m\u001b[38;5;241m.\u001b[39m_values[label]\n\u001b[1;32m   1155\u001b[0m \u001b[38;5;66;03m# Similar to Index.get_value, but we do not fall back to positional\u001b[39;00m\n\u001b[0;32m-> 1156\u001b[0m loc \u001b[38;5;241m=\u001b[39m \u001b[38;5;28mself\u001b[39m\u001b[38;5;241m.\u001b[39mindex\u001b[38;5;241m.\u001b[39mget_loc(label)\n\u001b[1;32m   1158\u001b[0m \u001b[38;5;28;01mif\u001b[39;00m is_integer(loc):\n\u001b[1;32m   1159\u001b[0m     \u001b[38;5;28;01mreturn\u001b[39;00m \u001b[38;5;28mself\u001b[39m\u001b[38;5;241m.\u001b[39m_values[loc]\n",
      "File \u001b[0;32m/opt/anaconda3/lib/python3.11/site-packages/pandas/core/indexes/base.py:3798\u001b[0m, in \u001b[0;36mIndex.get_loc\u001b[0;34m(self, key)\u001b[0m\n\u001b[1;32m   3793\u001b[0m     \u001b[38;5;28;01mif\u001b[39;00m \u001b[38;5;28misinstance\u001b[39m(casted_key, \u001b[38;5;28mslice\u001b[39m) \u001b[38;5;129;01mor\u001b[39;00m (\n\u001b[1;32m   3794\u001b[0m         \u001b[38;5;28misinstance\u001b[39m(casted_key, abc\u001b[38;5;241m.\u001b[39mIterable)\n\u001b[1;32m   3795\u001b[0m         \u001b[38;5;129;01mand\u001b[39;00m \u001b[38;5;28many\u001b[39m(\u001b[38;5;28misinstance\u001b[39m(x, \u001b[38;5;28mslice\u001b[39m) \u001b[38;5;28;01mfor\u001b[39;00m x \u001b[38;5;129;01min\u001b[39;00m casted_key)\n\u001b[1;32m   3796\u001b[0m     ):\n\u001b[1;32m   3797\u001b[0m         \u001b[38;5;28;01mraise\u001b[39;00m InvalidIndexError(key)\n\u001b[0;32m-> 3798\u001b[0m     \u001b[38;5;28;01mraise\u001b[39;00m \u001b[38;5;167;01mKeyError\u001b[39;00m(key) \u001b[38;5;28;01mfrom\u001b[39;00m \u001b[38;5;21;01merr\u001b[39;00m\n\u001b[1;32m   3799\u001b[0m \u001b[38;5;28;01mexcept\u001b[39;00m \u001b[38;5;167;01mTypeError\u001b[39;00m:\n\u001b[1;32m   3800\u001b[0m     \u001b[38;5;66;03m# If we have a listlike key, _check_indexing_error will raise\u001b[39;00m\n\u001b[1;32m   3801\u001b[0m     \u001b[38;5;66;03m#  InvalidIndexError. Otherwise we fall through and re-raise\u001b[39;00m\n\u001b[1;32m   3802\u001b[0m     \u001b[38;5;66;03m#  the TypeError.\u001b[39;00m\n\u001b[1;32m   3803\u001b[0m     \u001b[38;5;28mself\u001b[39m\u001b[38;5;241m.\u001b[39m_check_indexing_error(key)\n",
      "\u001b[0;31mKeyError\u001b[0m: 'party'"
     ]
    }
   ],
   "source": [
    "U_PA = {}          #<<-------------- Person, Afstemning\n",
    "for idx, row in USA_data.iterrows():\n",
    "    if row['congress'] == 118:\n",
    "        if row['icpsr'] not in U_PA:\n",
    "            U_PA[row['icpsr']] = [(row['rollnumber'])]\n",
    "        else:\n",
    "            U_PA[row['icpsr']].append((row['rollnumber']))\n",
    "\n",
    "U_PAV = {}          #<<-------------- Person, Afstemning, Vote\n",
    "for idx, row in USA_data.iterrows():\n",
    "    if row['congress'] == 118:\n",
    "        if row['icpsr'] not in U_PAV:\n",
    "            U_PAV[row['icpsr']] = [(row['rollnumber'],row['cast_code'])]\n",
    "        else:\n",
    "            U_PAV[row['icpsr']].append((row['rollnumber'],row['cast_code']))\n",
    "\n",
    "\n",
    "U_PAVP = {}          #<<-------------- Person, Afstemning, Vote, Party\n",
    "for idx, row in USA_data.iterrows():\n",
    "    if row['congress'] == 118:\n",
    "        if row['icpsr'] not in U_PAVP:\n",
    "            U_PAVP[row['icpsr']] = [(row['rollnumber'],row['cast_code'],row['party_code'])]\n",
    "        else:\n",
    "            U_PAVP[row['icpsr']].append((row['rollnumber'],row['cast_code'],row['party_code']))\n",
    "\n",
    "#dict of parties with memberid as values\n",
    "\n",
    "U_PP = {}          #<<-------------- Party, Person\n",
    "for idx, row in USA_data.iterrows():\n",
    "    if row['congress'] == 118:\n",
    "        if row['party_code'] not in U_PP:\n",
    "            U_PP[row['party_code']] = [(row['icpsr'])]\n",
    "        elif row['icpsr'] not in U_PP.get(row['party_code']):\n",
    "            U_PP[row['party_code']].append((row['icpsr']))"
   ]
  }
 ],
 "metadata": {
  "kernelspec": {
   "display_name": "base",
   "language": "python",
   "name": "python3"
  },
  "language_info": {
   "codemirror_mode": {
    "name": "ipython",
    "version": 3
   },
   "file_extension": ".py",
   "mimetype": "text/x-python",
   "name": "python",
   "nbconvert_exporter": "python",
   "pygments_lexer": "ipython3",
   "version": "3.11.7"
  }
 },
 "nbformat": 4,
 "nbformat_minor": 2
}
