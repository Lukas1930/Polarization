{
 "cells": [
  {
   "cell_type": "code",
   "execution_count": 2,
   "metadata": {},
   "outputs": [],
   "source": [
    "import pandas as pd\n",
    "import networkx as nx"
   ]
  },
  {
   "cell_type": "code",
   "execution_count": 204,
   "metadata": {},
   "outputs": [],
   "source": [
    "D_data = pd.read_csv('data/Denmark/Merged.csv')\n",
    "USA_data = pd.read_csv('data/USA/filtered_USA_votes.csv')"
   ]
  },
  {
   "cell_type": "code",
   "execution_count": null,
   "metadata": {},
   "outputs": [],
   "source": [
    "#we check both ways, we calc both i -> j and j->i.\n",
    "# person 221 as i and 1619 as j, and the other way. 1619 as i and 221 as j. is that a problem? \n",
    "#there are prob some variables that needs renaming\n",
    "\n",
    "def calc_thres(PP, PA, PAV):\n",
    "    party_agree = []\n",
    "    for party in PP:\n",
    "        print(party)\n",
    "        memb_agree = []\n",
    "        for member1 in PP.get(party):\n",
    "            for member2 in set(PP.get(party)):\n",
    "                if member1 != member2:\n",
    "                    common = set(PAV.get(member1)) & set(PAV.get(member2)) # how many votes do they agree on \n",
    "                \n",
    "                    common2 = set(PA.get(member1)) & set(PA.get(member2)) # how many same bills have they voted on\n",
    "\n",
    "                    if len(common) != 0: # if they have at least one vote thats the same, (too avoid divide by 0)\n",
    "                    \n",
    "                        percentage = len(common) / len(common2)\n",
    "                        memb_agree.append(percentage)\n",
    "                    else:\n",
    "                        memb_agree.append(0)\n",
    "        if len(memb_agree) != 0:\n",
    "            avgMemb = sum(memb_agree)/len(memb_agree)\n",
    "            party_agree.append(avgMemb)\n",
    "            print(avgMemb)\n",
    "        else:\n",
    "            print(party) # party where there is only one member\n",
    "            print('1')\n",
    "            #party_agree.append(1)\n",
    "    avgParty = sum(party_agree)/len(party_agree)\n",
    "    print(max(party_agree))\n",
    "    return avgParty\n"
   ]
  },
  {
   "cell_type": "code",
   "execution_count": null,
   "metadata": {},
   "outputs": [],
   "source": [
    "def edgelist_calc(PA, PAV, threshold):\n",
    "    edgelist=[]\n",
    "    for i in PAV: # person 1\n",
    "\n",
    "        for j in PAV: # for loop for person 2\n",
    "\n",
    "            if i != j: # checks they are not the same\n",
    "\n",
    "                common = set(PAV.get(i)) & set(PAV.get(j)) # how many votes do they agree on \n",
    "                \n",
    "                common2 = set(PA.get(i)) & set(PA.get(j)) # how many same bills have they voted on\n",
    "\n",
    "                if len(common) != 0: # if they have at least one vote thats the same, (too avoid divide by 0)\n",
    "                    \n",
    "                    percentage = len(common) / len(common2)\n",
    "                    if percentage > threshold:\n",
    "                        edgelist.append((i,j))\n",
    "                \n",
    "\n",
    "    return list(set(edgelist))\n",
    "    "
   ]
  },
  {
   "cell_type": "code",
   "execution_count": null,
   "metadata": {},
   "outputs": [],
   "source": [
    "#----------------------------------------------------------------------------------------------------------------#\n",
    "#----------------------------------------DENMARK-----------------------------------------------------------------#\n",
    "#----------------------------------------------------------------------------------------------------------------#"
   ]
  },
  {
   "cell_type": "code",
   "execution_count": 201,
   "metadata": {},
   "outputs": [],
   "source": [
    "#dict, key = id, values = (afstemningid, typeid)\n",
    "# dict of all people with all their votes (voting id and what they voted)\n",
    "\n",
    "PA = {}          #<<-------------- Person, Afstemning\n",
    "for idx, row in D_data.iterrows():\n",
    "    if row['aktørid'] not in PA:\n",
    "        PA[row['aktørid']] = [(row['afstemningid'])]\n",
    "    else:\n",
    "        PA[row['aktørid']].append((row['afstemningid']))\n",
    "\n",
    "PAV = {}          #<<-------------- Person, Afstemning, Vote\n",
    "for idx, row in D_data.iterrows():\n",
    "    if row['aktørid'] not in PAV:\n",
    "        PAV[row['aktørid']] = [(row['afstemningid'],row['typeid_x'])]\n",
    "    else:\n",
    "        PAV[row['aktørid']].append((row['afstemningid'],row['typeid_x']))\n",
    "\n",
    "\"\"\" \n",
    "PAVP = {}          #<<-------------- Person, Afstemning, Vote, Party\n",
    "for idx, row in D_data.iterrows():\n",
    "    if row['aktørid'] not in PAVP:\n",
    "        PAVP[row['aktørid']] = [(row['afstemningid'],row['typeid_x'],row['party'],row['navn'])]\n",
    "    else:\n",
    "        PAVP[row['aktørid']].append((row['afstemningid'],row['typeid_x'],row['party'],row['navn']))\n",
    " \"\"\"\n",
    "#dict of parties with memberid as values\n",
    "\n",
    "PP = {}          #<<-------------- Party, Person\n",
    "for idx, row in D_data.iterrows():\n",
    "    if row['party'] not in PP:\n",
    "        PP[row['party']] = [(row['aktørid'])]\n",
    "    elif row['aktørid'] not in PP.get(row['party']):\n",
    "        PP[row['party']].append((row['aktørid']))\n"
   ]
  },
  {
   "cell_type": "code",
   "execution_count": null,
   "metadata": {},
   "outputs": [],
   "source": [
    "D_thres = calc_thres(PP,PA,PAV)\n",
    "D_thres"
   ]
  },
  {
   "cell_type": "code",
   "execution_count": 196,
   "metadata": {},
   "outputs": [],
   "source": [
    "edgelist = edgelist_calc(PA,PAV, res)\n",
    "G_denmark = nx.from_edgelist(edgelist)"
   ]
  },
  {
   "cell_type": "code",
   "execution_count": 183,
   "metadata": {},
   "outputs": [
    {
     "data": {
      "text/plain": [
       "76572"
      ]
     },
     "execution_count": 183,
     "metadata": {},
     "output_type": "execute_result"
    }
   ],
   "source": [
    "len(edgelist)"
   ]
  },
  {
   "cell_type": "code",
   "execution_count": 185,
   "metadata": {},
   "outputs": [
    {
     "data": {
      "text/plain": [
       "[]"
      ]
     },
     "execution_count": 185,
     "metadata": {},
     "output_type": "execute_result"
    }
   ],
   "source": [
    "list_of_dangle = [node for node in G_denmark.nodes if G_denmark.degree(node) == 0]\n",
    "list_of_dangle"
   ]
  },
  {
   "cell_type": "code",
   "execution_count": null,
   "metadata": {},
   "outputs": [],
   "source": [
    "#----------------------------------------------------------------------------------------------------------------#\n",
    "#------------------------------------------USA-------------------------------------------------------------------#\n",
    "#----------------------------------------------------------------------------------------------------------------#\n"
   ]
  },
  {
   "cell_type": "code",
   "execution_count": 4,
   "metadata": {},
   "outputs": [],
   "source": [
    "U_PA = {}          #<<-------------- Person, Afstemning\n",
    "for idx, row in USA_data.iterrows():\n",
    "    if row['congress'] == 118:\n",
    "        if row['icpsr'] not in U_PA:\n",
    "            U_PA[row['icpsr']] = [(row['rollnumber'])]\n",
    "        else:\n",
    "            U_PA[row['icpsr']].append((row['rollnumber']))\n",
    "\n",
    "U_PAV = {}          #<<-------------- Person, Afstemning, Vote\n",
    "for idx, row in USA_data.iterrows():\n",
    "    if row['congress'] == 118:\n",
    "        if row['icpsr'] not in U_PAV:\n",
    "            U_PAV[row['icpsr']] = [(row['rollnumber'],row['cast_code'])]\n",
    "        else:\n",
    "            U_PAV[row['icpsr']].append((row['rollnumber'],row['cast_code']))\n",
    "\n",
    "\"\"\" \n",
    "U_PAVP = {}          #<<-------------- Person, Afstemning, Vote, Party\n",
    "for idx, row in USA_data.iterrows():\n",
    "    if row['congress'] == 118:\n",
    "        if row['icpsr'] not in U_PAVP:\n",
    "            U_PAVP[row['icpsr']] = [(row['rollnumber'],row['cast_code'],row['party_code'])]\n",
    "        else:\n",
    "            U_PAVP[row['icpsr']].append((row['rollnumber'],row['cast_code'],row['party_code']))\n",
    " \"\"\"\n",
    "#dict of parties with memberid as values\n",
    "\n",
    "U_PP = {}          #<<-------------- Party, Person\n",
    "for idx, row in USA_data.iterrows():\n",
    "    if row['congress'] == 118:\n",
    "        if row['party_code'] not in U_PP:\n",
    "            U_PP[row['party_code']] = [(row['icpsr'])]\n",
    "        elif row['icpsr'] not in U_PP.get(row['party_code']):\n",
    "            U_PP[row['party_code']].append((row['icpsr']))"
   ]
  },
  {
   "cell_type": "code",
   "execution_count": 7,
   "metadata": {},
   "outputs": [
    {
     "name": "stdout",
     "output_type": "stream",
     "text": [
      "200\n",
      "0.8710690231164628\n",
      "100\n",
      "0.9435322225344877\n",
      "0.9435322225344877\n"
     ]
    }
   ],
   "source": [
    "U_thres = calc_thres(U_PP, U_PA, U_PAV)"
   ]
  },
  {
   "cell_type": "code",
   "execution_count": 8,
   "metadata": {},
   "outputs": [],
   "source": [
    "U_edgelist = edgelist_calc(U_PA, U_PAV, U_thres)\n",
    "G_USA = nx.from_edgelist(U_edgelist)"
   ]
  },
  {
   "cell_type": "code",
   "execution_count": 10,
   "metadata": {},
   "outputs": [
    {
     "data": {
      "text/plain": [
       "[]"
      ]
     },
     "execution_count": 10,
     "metadata": {},
     "output_type": "execute_result"
    }
   ],
   "source": [
    "list_of_dangle = [node for node in G_USA.nodes if G_USA.degree(node) == 0]\n",
    "list_of_dangle"
   ]
  }
 ],
 "metadata": {
  "kernelspec": {
   "display_name": "base",
   "language": "python",
   "name": "python3"
  },
  "language_info": {
   "codemirror_mode": {
    "name": "ipython",
    "version": 3
   },
   "file_extension": ".py",
   "mimetype": "text/x-python",
   "name": "python",
   "nbconvert_exporter": "python",
   "pygments_lexer": "ipython3",
   "version": "3.11.7"
  }
 },
 "nbformat": 4,
 "nbformat_minor": 2
}
