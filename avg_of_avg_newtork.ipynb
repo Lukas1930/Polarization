{
 "cells": [
  {
   "cell_type": "code",
   "execution_count": 2,
   "metadata": {},
   "outputs": [],
   "source": [
    "import pandas as pd\n",
    "import networkx as nx\n",
    "import matplotlib.pyplot as plt\n",
    "from netgraph import Graph\n",
    "import statistics\n",
    "import numpy as np\n",
    "from scipy.sparse import csr_matrix\n",
    "from sklearn.decomposition import PCA\n",
    "#from umap import UMAP  \n",
    "from sklearn.manifold import MDS\n",
    "import seaborn as sns\n",
    "from scipy.stats import pearsonr\n",
    "import utils"
   ]
  },
  {
   "cell_type": "code",
   "execution_count": null,
   "metadata": {},
   "outputs": [],
   "source": [
    "D_data = pd.read_csv('data/Denmark/Raw/P19_22_DK.csv')\n",
    "USA_data = pd.read_csv('data/USA/filtered_USA_votes.csv')\n"
   ]
  },
  {
   "cell_type": "code",
   "execution_count": null,
   "metadata": {},
   "outputs": [],
   "source": [
    "D_PA, D_PAV, D_PAVP, D_PP = utils.dict_create(D_data, 'aktørid','party','afstemningid','typeid_x')\n",
    "US_PA,US_PAV,US_PAVP,US_PP = utils.dict_create(USA_data,'icpsr','party_code','rollnumber','cast_code')\n"
   ]
  },
  {
   "cell_type": "code",
   "execution_count": 7,
   "metadata": {},
   "outputs": [],
   "source": [
    "D_thres = np.average(utils.calc_thres(D_PP,D_PA,D_PAV))"
   ]
  },
  {
   "cell_type": "code",
   "execution_count": 8,
   "metadata": {},
   "outputs": [],
   "source": [
    "edgelist = utils.edgelist_calc(D_PA,D_PAV, D_thres)\n",
    "df = pd.DataFrame(edgelist, columns=[\"Source\", \"Target\"])\n",
    "df.to_csv(\"Denmark_edgelist.csv\", index=False)\n",
    "G_denmark = nx.from_edgelist(edgelist)"
   ]
  },
  {
   "cell_type": "code",
   "execution_count": 9,
   "metadata": {},
   "outputs": [
    {
     "data": {
      "text/plain": [
       "14938"
      ]
     },
     "execution_count": 9,
     "metadata": {},
     "output_type": "execute_result"
    }
   ],
   "source": [
    "len(edgelist)"
   ]
  },
  {
   "cell_type": "code",
   "execution_count": 10,
   "metadata": {},
   "outputs": [
    {
     "data": {
      "text/plain": [
       "[]"
      ]
     },
     "execution_count": 10,
     "metadata": {},
     "output_type": "execute_result"
    }
   ],
   "source": [
    "list_of_dangle = [node for node in G_denmark.nodes if G_denmark.degree(node) == 0]\n",
    "list_of_dangle"
   ]
  },
  {
   "cell_type": "code",
   "execution_count": 11,
   "metadata": {},
   "outputs": [],
   "source": [
    "U_thres = np.average(utils.calc_thres(US_PP, US_PA, US_PAV))"
   ]
  },
  {
   "cell_type": "code",
   "execution_count": 12,
   "metadata": {},
   "outputs": [],
   "source": [
    "USA_inter= utils.calc_inter_edges(US_PP,US_PA,US_PAV)"
   ]
  },
  {
   "cell_type": "code",
   "execution_count": 13,
   "metadata": {},
   "outputs": [],
   "source": [
    "U_edgelist = utils.edgelist_calc(US_PA, US_PAV, U_thres)\n",
    "U_edgelist = (U_edgelist + USA_inter)\n",
    "df = pd.DataFrame(U_edgelist, columns=[\"Source\", \"Target\"])\n",
    "df.to_csv(\"USA_edgelist.csv\", index=False)\n",
    "G_USA = nx.from_edgelist(U_edgelist)"
   ]
  },
  {
   "cell_type": "code",
   "execution_count": 14,
   "metadata": {},
   "outputs": [
    {
     "data": {
      "text/plain": [
       "[]"
      ]
     },
     "execution_count": 14,
     "metadata": {},
     "output_type": "execute_result"
    }
   ],
   "source": [
    "list_of_dangle = [node for node in G_USA.nodes if G_USA.degree(node) == 0]\n",
    "list_of_dangle"
   ]
  },
  {
   "cell_type": "markdown",
   "metadata": {},
   "source": [
    "Plotting the networks"
   ]
  },
  {
   "cell_type": "code",
   "execution_count": 3,
   "metadata": {},
   "outputs": [],
   "source": [
    "import matplotlib.patches as mpatches\n",
    "\n",
    "party_colors = {\n",
    "    100: \"blue\",   # Democrat\n",
    "    200: \"red\"     # Republican\n",
    "}\n",
    "\n",
    "congresses = ['095', '096', '097','098', '099', '100', '101', '102', '103','104',\n",
    "              '105', '106', '107','108', '109', '110', '111', '112','113', '114',\n",
    "              '115', '116','117','118']\n",
    "\n",
    "for congress in congresses:\n",
    "    # Load edge list\n",
    "    edge_path = f\"Data/USA/avg_party/H{congress}_USA_edgelist.csv\"\n",
    "    edges_df = pd.read_csv(edge_path)\n",
    "\n",
    "    # Load node attributes (party_code)\n",
    "    node_path = f\"Data/USA/Filtered/H{congress}_filtered_USA_votes.csv\"\n",
    "    nodes_df = pd.read_csv(node_path)\n",
    "\n",
    "    # Build graph — no edge_attr needed\n",
    "    G = nx.from_pandas_edgelist(edges_df, source='Source', target='Target')\n",
    "\n",
    "    # Map party codes to colors using 'icpsr'\n",
    "    party_dict = nodes_df.set_index(\"icpsr\")[\"party_code\"].to_dict()\n",
    "    color_map = [party_colors.get(party_dict.get(node, None), \"gray\") for node in G.nodes()]\n",
    "\n",
    "    # Generate layout\n",
    "    pos = nx.spring_layout(G, seed=42)\n",
    "\n",
    "    # Draw the network\n",
    "    plt.figure(figsize=(10, 10))\n",
    "    nx.draw_networkx_nodes(G, pos, node_color=color_map, node_size=30)\n",
    "    nx.draw_networkx_edges(G, pos, alpha=0.3, width=0.5)\n",
    "    plt.title(f\"Congress {congress} Network Graph\")\n",
    "    plt.axis(\"off\")\n",
    "\n",
    "    # Add legend\n",
    "    legend_handles = [\n",
    "        mpatches.Patch(color=\"blue\", label=\"Democrat\"),\n",
    "        mpatches.Patch(color=\"red\", label=\"Republican\"),\n",
    "        mpatches.Patch(color=\"gray\", label=\"Other/Unknown\")\n",
    "    ]\n",
    "    plt.legend(handles=legend_handles, loc=\"lower left\", fontsize=\"small\")\n",
    "\n",
    "    # Save plot\n",
    "    out_path = f\"Images/USA_Networks_avg_party/congress_{congress}_network.png\"\n",
    "    plt.savefig(out_path, dpi=300, bbox_inches='tight')\n",
    "    plt.close()\n"
   ]
  }
 ],
 "metadata": {
  "kernelspec": {
   "display_name": "polarization",
   "language": "python",
   "name": "python3"
  },
  "language_info": {
   "codemirror_mode": {
    "name": "ipython",
    "version": 3
   },
   "file_extension": ".py",
   "mimetype": "text/x-python",
   "name": "python",
   "nbconvert_exporter": "python",
   "pygments_lexer": "ipython3",
   "version": "3.9.21"
  }
 },
 "nbformat": 4,
 "nbformat_minor": 2
}
