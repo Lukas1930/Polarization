{
 "cells": [
  {
   "cell_type": "code",
   "execution_count": 1,
   "metadata": {},
   "outputs": [],
   "source": [
    "import pandas as pd\n",
    "import networkx as nx\n",
    "import numpy as np\n",
    "import utils\n",
    "import os\n",
    "from modules import ps\n"
   ]
  },
  {
   "cell_type": "code",
   "execution_count": 2,
   "metadata": {},
   "outputs": [],
   "source": [
    "def clean_and_prepare_congress_data(congress, data_path=\"data/USA/Raw/\", output_path=\"data/USA/Filtered/\"):\n",
    "        # Define file names\n",
    "        members_file = f\"{data_path}H{congress}_members.csv\"\n",
    "        votes_file = f\"{data_path}H{congress}_votes.csv\"\n",
    "        output_file = f\"{output_path}H{congress}_filtered_USA_votes.csv\"\n",
    "\n",
    "        # Load datasets\n",
    "        members = pd.read_csv(members_file)\n",
    "        votes = pd.read_csv(votes_file)\n",
    "\n",
    "        # Ensure icpsr is treated as an integer\n",
    "        members[\"icpsr\"] = members[\"icpsr\"].astype(\"Int64\")\n",
    "        votes[\"icpsr\"] = votes[\"icpsr\"].astype(\"Int64\")\n",
    "\n",
    "        # Merge datasets on icpsr\n",
    "        merged = votes.merge(members, on=\"icpsr\")\n",
    "\n",
    "        # Select relevant columns\n",
    "        merged = merged[[\"icpsr\", \"state_abbrev\", \"party_code\", \"cast_code\", \n",
    "                         \"rollnumber\", \"nominate_dim1\", \"nominate_dim2\"]]\n",
    "\n",
    "        # Normalize `cast_code`\n",
    "        merged[\"cast_code\"] = merged[\"cast_code\"].apply(\n",
    "            lambda x: 1 if 1 <= x <= 3 else (2 if 4 <= x <= 6 else x)\n",
    "        )\n",
    "\n",
    "        # Remove invalid votes\n",
    "        merged = merged[~merged[\"cast_code\"].isin([7, 9])]\n",
    "\n",
    "        # Save the cleaned dataset\n",
    "        merged.to_csv(output_file, index=False)\n",
    "\n",
    "        return f\"✅ Successfully processed Congress {congress} and saved to {output_file}\""
   ]
  },
  {
   "cell_type": "code",
   "execution_count": 3,
   "metadata": {},
   "outputs": [],
   "source": [
    "\n",
    "congresses = [\n",
    "    '095', '096', '097','098', '099', '100', '101', '102', '103','104',\n",
    "    '105', '106', '107','108', '109', '110', '111', '112','113', '114',\n",
    "    '115', '116','117','118'\n",
    "]\n",
    "\n",
    "for congress in congresses:\n",
    "    clean_and_prepare_congress_data(congress)"
   ]
  }
 ],
 "metadata": {
  "kernelspec": {
   "display_name": "polarization",
   "language": "python",
   "name": "python3"
  },
  "language_info": {
   "codemirror_mode": {
    "name": "ipython",
    "version": 3
   },
   "file_extension": ".py",
   "mimetype": "text/x-python",
   "name": "python",
   "nbconvert_exporter": "python",
   "pygments_lexer": "ipython3",
   "version": "3.9.21"
  }
 },
 "nbformat": 4,
 "nbformat_minor": 2
}
