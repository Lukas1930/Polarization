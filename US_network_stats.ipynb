{
 "cells": [
  {
   "cell_type": "code",
   "execution_count": 1,
   "metadata": {},
   "outputs": [],
   "source": [
    "import pandas as pd\n",
    "import matplotlib.pyplot as plt\n",
    "import seaborn as sns\n",
    "import networkx as nx"
   ]
  },
  {
   "cell_type": "code",
   "execution_count": null,
   "metadata": {},
   "outputs": [],
   "source": [
    "congress_graph = {}\n",
    "\n",
    "for congress in range(95, 119):\n",
    "    if congress < 100:\n",
    "        congress = '0' + str(congress)\n",
    "    name = 'G_' + str(congress)\n",
    "    congress_graph[name] = name = nx.from_pandas_edgelist(pd.read_csv(f\"data/USA/edgelist/H{congress}_USA_edgelist.csv\"), source=\"Source\", target=\"Target\")\n"
   ]
  },
  {
   "cell_type": "code",
   "execution_count": 31,
   "metadata": {},
   "outputs": [],
   "source": [
    "# 103-107 + 116\n",
    "inter = ['G_103','G_104','G_105','G_106','G_107','G_116']\n"
   ]
  },
  {
   "cell_type": "code",
   "execution_count": null,
   "metadata": {},
   "outputs": [],
   "source": [
    "def analyze_graphs(graph_dict, interesting_graphs):\n",
    "    \"\"\"\n",
    "    Perform basic graph analysis on selected graphs.\n",
    "    \n",
    "    Parameters:\n",
    "    graph_dict (dict): Dictionary containing all graphs with keys like 'G_095'\n",
    "    interesting_graphs (list): List of graph names to analyze\n",
    "    \n",
    "    Returns:\n",
    "    dict: Analysis results for each graph\n",
    "    \"\"\"\n",
    "    results = {}\n",
    "    \n",
    "    for graph_name in interesting_graphs:\n",
    "        if graph_name not in graph_dict:\n",
    "            print(f\"Warning: {graph_name} not found in graph dictionary\")\n",
    "            continue\n",
    "            \n",
    "        G = graph_dict[graph_name]\n",
    "        analysis = {\n",
    "            'nodes': G.number_of_nodes(),\n",
    "            'edges': G.number_of_edges(),\n",
    "            'density': nx.density(G),\n",
    "            'avg_clustering': nx.average_clustering(G),\n",
    "            'diameter': nx.diameter(G) if nx.is_connected(G) else float('inf'),\n",
    "            'avg_shortest_path': nx.average_shortest_path_length(G) if nx.is_connected(G) else float('inf'),\n",
    "            'connected_components': nx.number_connected_components(G),\n",
    "            'largest_component_size': len(max(nx.connected_components(G), key=len)),\n",
    "            'assortativity': nx.degree_assortativity_coefficient(G),\n",
    "            'top_5_degree_centrality': sorted([(node, round(cent, 4)) \n",
    "                                           for node, cent in nx.degree_centrality(G).items()], \n",
    "                                          key=lambda x: x[1], reverse=True)[:5]\n",
    "        }\n",
    "        \n",
    "        results[graph_name] = analysis\n",
    "    \n",
    "    return results\n"
   ]
  },
  {
   "cell_type": "code",
   "execution_count": 32,
   "metadata": {},
   "outputs": [],
   "source": [
    "results = analyze_graphs(congress_graph, inter)"
   ]
  },
  {
   "cell_type": "code",
   "execution_count": 33,
   "metadata": {},
   "outputs": [
    {
     "data": {
      "text/plain": [
       "{'G_103': {'nodes': 441,\n",
       "  'edges': 29967,\n",
       "  'density': 0.30887445887445886,\n",
       "  'avg_clustering': 0.8511068230877277,\n",
       "  'diameter': 9,\n",
       "  'avg_shortest_path': 3.0153370439084726,\n",
       "  'connected_components': 1,\n",
       "  'largest_component_size': 441,\n",
       "  'assortativity': 0.5520445231862126,\n",
       "  'top_5_degree_centrality': [(15077, 0.5318),\n",
       "   (14058, 0.5205),\n",
       "   (15438, 0.5182),\n",
       "   (29351, 0.5182),\n",
       "   (14233, 0.5182)]},\n",
       " 'G_104': {'nodes': 435,\n",
       "  'edges': 32768,\n",
       "  'density': 0.3471370305630595,\n",
       "  'avg_clustering': 0.8590738984694473,\n",
       "  'diameter': 13,\n",
       "  'avg_shortest_path': 5.2385295831347,\n",
       "  'connected_components': 1,\n",
       "  'largest_component_size': 435,\n",
       "  'assortativity': 0.7890825903060621,\n",
       "  'top_5_degree_centrality': [(14288, 0.5253),\n",
       "   (29329, 0.5253),\n",
       "   (39312, 0.5253),\n",
       "   (29130, 0.5253),\n",
       "   (15006, 0.5253)]},\n",
       " 'G_105': {'nodes': 441,\n",
       "  'edges': 29126,\n",
       "  'density': 0.3002061430632859,\n",
       "  'avg_clustering': 0.8377498064890021,\n",
       "  'diameter': 7,\n",
       "  'avg_shortest_path': 2.764873222016079,\n",
       "  'connected_components': 1,\n",
       "  'largest_component_size': 441,\n",
       "  'assortativity': 0.6427410001756958,\n",
       "  'top_5_degree_centrality': [(13047, 0.4795),\n",
       "   (29386, 0.4773),\n",
       "   (15445, 0.475),\n",
       "   (15605, 0.475),\n",
       "   (29765, 0.4727)]},\n",
       " 'G_106': {'nodes': 441,\n",
       "  'edges': 47125,\n",
       "  'density': 0.48572459286745,\n",
       "  'avg_clustering': 0.9728404853273694,\n",
       "  'diameter': 4,\n",
       "  'avg_shortest_path': 1.7831684188827046,\n",
       "  'connected_components': 1,\n",
       "  'largest_component_size': 441,\n",
       "  'assortativity': 0.5340997831514414,\n",
       "  'top_5_degree_centrality': [(15121, 0.55),\n",
       "   (94879, 0.5386),\n",
       "   (15413, 0.525),\n",
       "   (29381, 0.5227),\n",
       "   (29736, 0.5227)]},\n",
       " 'G_107': {'nodes': 444,\n",
       "  'edges': 48358,\n",
       "  'density': 0.4917129318935188,\n",
       "  'avg_clustering': 0.9826217711404013,\n",
       "  'diameter': 3,\n",
       "  'avg_shortest_path': 1.7223171252516625,\n",
       "  'connected_components': 1,\n",
       "  'largest_component_size': 444,\n",
       "  'assortativity': 0.6657663734391581,\n",
       "  'top_5_degree_centrality': [(29916, 0.6343),\n",
       "   (29100, 0.6298),\n",
       "   (14828, 0.5598),\n",
       "   (15121, 0.5282),\n",
       "   (29718, 0.526)]},\n",
       " 'G_116': {'nodes': 451,\n",
       "  'edges': 50341,\n",
       "  'density': 0.4960926336536093,\n",
       "  'avg_clustering': 0.9891755228280884,\n",
       "  'diameter': 4,\n",
       "  'avg_shortest_path': 1.7792953929539295,\n",
       "  'connected_components': 1,\n",
       "  'largest_component_size': 451,\n",
       "  'assortativity': 0.883372165975386,\n",
       "  'top_5_degree_centrality': [(21991, 0.6444),\n",
       "   (91737, 0.5622),\n",
       "   (21993, 0.54),\n",
       "   (21943, 0.5378),\n",
       "   (21723, 0.5378)]}}"
      ]
     },
     "execution_count": 33,
     "metadata": {},
     "output_type": "execute_result"
    }
   ],
   "source": [
    "results"
   ]
  },
  {
   "cell_type": "code",
   "execution_count": null,
   "metadata": {},
   "outputs": [],
   "source": []
  }
 ],
 "metadata": {
  "kernelspec": {
   "display_name": "base",
   "language": "python",
   "name": "python3"
  },
  "language_info": {
   "codemirror_mode": {
    "name": "ipython",
    "version": 3
   },
   "file_extension": ".py",
   "mimetype": "text/x-python",
   "name": "python",
   "nbconvert_exporter": "python",
   "pygments_lexer": "ipython3",
   "version": "3.11.7"
  }
 },
 "nbformat": 4,
 "nbformat_minor": 2
}
