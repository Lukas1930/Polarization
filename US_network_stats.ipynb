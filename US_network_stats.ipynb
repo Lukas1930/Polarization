{
 "cells": [
  {
   "cell_type": "code",
   "execution_count": 2,
   "metadata": {},
   "outputs": [],
   "source": [
    "import pandas as pd\n",
    "import matplotlib.pyplot as plt\n",
    "import seaborn as sns\n",
    "import networkx as nx\n",
    "from community import best_partition"
   ]
  },
  {
   "cell_type": "code",
   "execution_count": 3,
   "metadata": {},
   "outputs": [],
   "source": [
    "congress_graph = {}\n",
    "\n",
    "for congress in range(95, 119):\n",
    "    if congress < 100:\n",
    "        congress = '0' + str(congress)\n",
    "    name = 'G_' + str(congress)\n",
    "    congress_graph[name] = name = nx.from_pandas_edgelist(pd.read_csv(f\"data/USA/edgelist/H{congress}_USA_edgelist.csv\"), source=\"Source\", target=\"Target\")\n"
   ]
  },
  {
   "cell_type": "code",
   "execution_count": 4,
   "metadata": {},
   "outputs": [],
   "source": [
    "# interesting graphs\n",
    "inter = ['G_102','G_103','G_104','G_105','G_106','G_107','G_116']\n"
   ]
  },
  {
   "cell_type": "code",
   "execution_count": null,
   "metadata": {},
   "outputs": [],
   "source": [
    "def analyze_graphs(graph_dict, interesting_graphs):\n",
    "\n",
    "    results = {}\n",
    "    \n",
    "    for graph_name in interesting_graphs:\n",
    "        if graph_name not in graph_dict:\n",
    "            print(f\"Warning: {graph_name} not found in graph dictionary\")\n",
    "            continue\n",
    "            \n",
    "        G = graph_dict[graph_name]\n",
    "        analysis = {\n",
    "            'nodes': G.number_of_nodes(),\n",
    "            'edges': G.number_of_edges(),\n",
    "            'density': nx.density(G),\n",
    "            'avg_clustering': nx.average_clustering(G),\n",
    "            'diameter': nx.diameter(G) if nx.is_connected(G) else float('inf'),\n",
    "            'avg_shortest_path': nx.average_shortest_path_length(G) if nx.is_connected(G) else float('inf'),\n",
    "            'connected_components': nx.number_connected_components(G),\n",
    "            'largest_component_size': len(max(nx.connected_components(G), key=len)),\n",
    "            'assortativity': nx.degree_assortativity_coefficient(G),\n",
    "            \n",
    "        }\n",
    "        \n",
    "        # community detection \n",
    "        partition = best_partition(G)\n",
    "        communities = {}\n",
    "        for node, community_id in partition.items():\n",
    "            if community_id not in communities:\n",
    "                communities[community_id] = []\n",
    "            communities[community_id].append(node)\n",
    "            \n",
    "        analysis['community_count'] = len(communities)\n",
    "        analysis['modularity'] = nx.community.modularity(G, communities.values())\n",
    "        analysis['largest_community_size'] = max(len(community) for community in communities.values())\n",
    "\n",
    "        results[graph_name] = analysis\n",
    "    \n",
    "    return results\n"
   ]
  },
  {
   "cell_type": "code",
   "execution_count": 6,
   "metadata": {},
   "outputs": [],
   "source": [
    "results = analyze_graphs(congress_graph, inter)"
   ]
  },
  {
   "cell_type": "code",
   "execution_count": 7,
   "metadata": {},
   "outputs": [
    {
     "data": {
      "text/plain": [
       "{'G_102': {'nodes': 442,\n",
       "  'edges': 30879,\n",
       "  'density': 0.31683442607812357,\n",
       "  'avg_clustering': 0.8406380419608419,\n",
       "  'diameter': 5,\n",
       "  'avg_shortest_path': 2.0933501605770513,\n",
       "  'connected_components': 1,\n",
       "  'largest_component_size': 442,\n",
       "  'assortativity': 0.6864467871159042,\n",
       "  'community_count': 3,\n",
       "  'modularity': 0.3003476641900126,\n",
       "  'largest_community_size': 217},\n",
       " 'G_103': {'nodes': 441,\n",
       "  'edges': 29967,\n",
       "  'density': 0.30887445887445886,\n",
       "  'avg_clustering': 0.8511068230877277,\n",
       "  'diameter': 9,\n",
       "  'avg_shortest_path': 3.0153370439084726,\n",
       "  'connected_components': 1,\n",
       "  'largest_component_size': 441,\n",
       "  'assortativity': 0.5520445231862126,\n",
       "  'community_count': 3,\n",
       "  'modularity': 0.39668436171881494,\n",
       "  'largest_community_size': 232},\n",
       " 'G_104': {'nodes': 435,\n",
       "  'edges': 32768,\n",
       "  'density': 0.3471370305630595,\n",
       "  'avg_clustering': 0.8590738984694473,\n",
       "  'diameter': 13,\n",
       "  'avg_shortest_path': 5.2385295831347,\n",
       "  'connected_components': 1,\n",
       "  'largest_component_size': 435,\n",
       "  'assortativity': 0.7890825903060621,\n",
       "  'community_count': 3,\n",
       "  'modularity': 0.38654693169519305,\n",
       "  'largest_community_size': 236},\n",
       " 'G_105': {'nodes': 441,\n",
       "  'edges': 29126,\n",
       "  'density': 0.3002061430632859,\n",
       "  'avg_clustering': 0.8377498064890021,\n",
       "  'diameter': 7,\n",
       "  'avg_shortest_path': 2.764873222016079,\n",
       "  'connected_components': 1,\n",
       "  'largest_component_size': 441,\n",
       "  'assortativity': 0.6427410001756958,\n",
       "  'community_count': 2,\n",
       "  'modularity': 0.43224568101157623,\n",
       "  'largest_community_size': 229},\n",
       " 'G_106': {'nodes': 441,\n",
       "  'edges': 47125,\n",
       "  'density': 0.48572459286745,\n",
       "  'avg_clustering': 0.9728404853273694,\n",
       "  'diameter': 4,\n",
       "  'avg_shortest_path': 1.7831684188827046,\n",
       "  'connected_components': 1,\n",
       "  'largest_component_size': 441,\n",
       "  'assortativity': 0.5340997831514414,\n",
       "  'community_count': 2,\n",
       "  'modularity': 0.48980812642036453,\n",
       "  'largest_community_size': 229},\n",
       " 'G_107': {'nodes': 444,\n",
       "  'edges': 48358,\n",
       "  'density': 0.4917129318935188,\n",
       "  'avg_clustering': 0.9826217711404013,\n",
       "  'diameter': 3,\n",
       "  'avg_shortest_path': 1.7223171252516625,\n",
       "  'connected_components': 1,\n",
       "  'largest_component_size': 444,\n",
       "  'assortativity': 0.6657663734391581,\n",
       "  'community_count': 2,\n",
       "  'modularity': 0.4891163890316306,\n",
       "  'largest_community_size': 233},\n",
       " 'G_116': {'nodes': 451,\n",
       "  'edges': 50341,\n",
       "  'density': 0.4960926336536093,\n",
       "  'avg_clustering': 0.9891755228280884,\n",
       "  'diameter': 4,\n",
       "  'avg_shortest_path': 1.7792953929539295,\n",
       "  'connected_components': 1,\n",
       "  'largest_component_size': 451,\n",
       "  'assortativity': 0.883372165975386,\n",
       "  'community_count': 2,\n",
       "  'modularity': 0.48458265330669303,\n",
       "  'largest_community_size': 242}}"
      ]
     },
     "execution_count": 7,
     "metadata": {},
     "output_type": "execute_result"
    }
   ],
   "source": [
    "results"
   ]
  },
  {
   "cell_type": "code",
   "execution_count": null,
   "metadata": {},
   "outputs": [],
   "source": []
  }
 ],
 "metadata": {
  "kernelspec": {
   "display_name": "base",
   "language": "python",
   "name": "python3"
  },
  "language_info": {
   "codemirror_mode": {
    "name": "ipython",
    "version": 3
   },
   "file_extension": ".py",
   "mimetype": "text/x-python",
   "name": "python",
   "nbconvert_exporter": "python",
   "pygments_lexer": "ipython3",
   "version": "3.11.7"
  }
 },
 "nbformat": 4,
 "nbformat_minor": 2
}
